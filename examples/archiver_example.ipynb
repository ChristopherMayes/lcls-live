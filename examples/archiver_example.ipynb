{
 "cells": [
  {
   "cell_type": "markdown",
   "metadata": {},
   "source": [
    "# LCLS Archiver restore example"
   ]
  },
  {
   "cell_type": "code",
   "execution_count": 2,
   "metadata": {},
   "outputs": [],
   "source": [
    "from LCLS.archiver import lcls_archiver_restore\n",
    "from LCLS import data_dir\n",
    "import json\n",
    "import os"
   ]
  },
  {
   "cell_type": "markdown",
   "metadata": {},
   "source": [
    "## Optional: off-site setup"
   ]
  },
  {
   "cell_type": "code",
   "execution_count": 3,
   "metadata": {},
   "outputs": [],
   "source": [
    "# Optional: \n",
    "\n",
    "# Open an SSH tunnel in a terminal like:\n",
    "# ssh -D 8080 cmayes@rhel6-64.slac.stanford.edu \n",
    "# And then set:\n",
    "os.environ['http_proxy']='socks5h://localhost:8080'\n",
    "os.environ['HTTPS_PROXY']='socks5h://localhost:8080'\n",
    "os.environ['ALL_PROXY']='socks5h://localhost:8080'"
   ]
  },
  {
   "cell_type": "markdown",
   "metadata": {},
   "source": [
    "## Get snapshot"
   ]
  },
  {
   "cell_type": "code",
   "execution_count": 4,
   "metadata": {},
   "outputs": [],
   "source": [
    "# Get list of PVs\n",
    "fname = os.path.join(data_dir, 'full_pvlist_classic.json')\n",
    "pvlist = json.load(open(fname))"
   ]
  },
  {
   "cell_type": "code",
   "execution_count": 5,
   "metadata": {},
   "outputs": [],
   "source": [
    "# Simple filename naming\n",
    "def snapshot_filename(isotime):\n",
    "    return  'epics_snapshot_'+isotime+'.json'"
   ]
  },
  {
   "cell_type": "code",
   "execution_count": 8,
   "metadata": {},
   "outputs": [
    {
     "data": {
      "text/plain": [
       "{'ACCL:IN20:350:FUDGE': 1.0039740050739583,\n",
       " 'ACCL:LI21:180:L1X_S_AV': 20.01551950520014,\n",
       " 'ACCL:LI21:180:L1X_S_PV': -159.9562692633193,\n",
       " 'ACCL:LI21:1:FUDGE': 0.9916613729353901,\n",
       " 'ACCL:LI21:1:L1S_S_PV': -26.12494033014282,\n",
       " 'ACCL:LI22:1:FUDGE': 1.0191546491070553,\n",
       " 'ACCL:LI24:100:KLY_PDES': 11.508785641181667,\n",
       " 'ACCL:LI24:200:KLY_PDES': -75.12033429656984,\n",
       " 'ACCL:LI24:300:KLY_PDES': -31.816975843257694,\n",
       " 'ACCL:LI25:1:FUDGE': 1.0398871739006177}"
      ]
     },
     "execution_count": 8,
     "metadata": {},
     "output_type": "execute_result"
    }
   ],
   "source": [
    "times = ['2018-03-06T15:21:15.000000-08:00']\n",
    "\n",
    "lcls_archiver_restore(pvlist[0:10], times[0])"
   ]
  },
  {
   "cell_type": "code",
   "execution_count": 10,
   "metadata": {},
   "outputs": [
    {
     "name": "stdout",
     "output_type": "stream",
     "text": [
      "Warning: Missing PV: BEND:LTU1:866:BDES\n",
      "Warning: Missing PV: BEND:LTU1:868:BDES\n",
      "Warning: Missing PV: BEND:LTU1:870:BDES\n",
      "Warning: Missing PV: BEND:LTU1:872:BDES\n",
      "Warning: Missing PV: SHTR:LR20:200:UV_STS\n",
      "Warning: Missing PV: XCOR:BSYH:485:BACT\n",
      "Warning: Missing PV: XCOR:BSYH:486:BACT\n",
      "Warning: Missing PV: YCOR:BSYH:486:BACT\n",
      "Written: ./data/epics_snapshot_2018-03-06T15:21:15.000000-08:00.json\n"
     ]
    }
   ],
   "source": [
    "# Make multiple files\n",
    "root = './data/'\n",
    "for t in times:\n",
    "    newdata = lcls_archiver_restore(pvlist, t)\n",
    "    fname = os.path.join(root, snapshot_filename(t))\n",
    "    with open(fname, 'w') as f:\n",
    "        f.write(json.dumps(newdata))\n",
    "    print('Written:', fname)"
   ]
  },
  {
   "cell_type": "code",
   "execution_count": null,
   "metadata": {},
   "outputs": [],
   "source": []
  }
 ],
 "metadata": {
  "kernelspec": {
   "display_name": "Python 3",
   "language": "python",
   "name": "python3"
  },
  "language_info": {
   "codemirror_mode": {
    "name": "ipython",
    "version": 3
   },
   "file_extension": ".py",
   "mimetype": "text/x-python",
   "name": "python",
   "nbconvert_exporter": "python",
   "pygments_lexer": "ipython3",
   "version": "3.7.3"
  }
 },
 "nbformat": 4,
 "nbformat_minor": 2
}
