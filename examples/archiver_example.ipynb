{
 "cells": [
  {
   "cell_type": "markdown",
   "metadata": {},
   "source": [
    "# LCLS Archiver restore example\n",
    "\n",
    "These examples show how single snapshots, and time series can be retreived from the archiver appliance.\n",
    "\n",
    "Note that the times must always be in ISO 8601 format, UTC time (not local time). \n"
   ]
  },
  {
   "cell_type": "code",
   "execution_count": 1,
   "metadata": {},
   "outputs": [],
   "source": [
    "# Useful for debugging\n",
    "%load_ext autoreload\n",
    "%autoreload 2"
   ]
  },
  {
   "cell_type": "code",
   "execution_count": 2,
   "metadata": {},
   "outputs": [
    {
     "data": {
      "text/plain": [
       "\u001b[0;31mSignature:\u001b[0m\n",
       "\u001b[0mlcls_archiver_restore\u001b[0m\u001b[0;34m(\u001b[0m\u001b[0;34m\u001b[0m\n",
       "\u001b[0;34m\u001b[0m    \u001b[0mpvlist\u001b[0m\u001b[0;34m,\u001b[0m\u001b[0;34m\u001b[0m\n",
       "\u001b[0;34m\u001b[0m    \u001b[0misotime\u001b[0m\u001b[0;34m=\u001b[0m\u001b[0;34m'2018-08-11T10:40:00.000-07:00'\u001b[0m\u001b[0;34m,\u001b[0m\u001b[0;34m\u001b[0m\n",
       "\u001b[0;34m\u001b[0m    \u001b[0mverbose\u001b[0m\u001b[0;34m=\u001b[0m\u001b[0;32mTrue\u001b[0m\u001b[0;34m,\u001b[0m\u001b[0;34m\u001b[0m\n",
       "\u001b[0;34m\u001b[0m\u001b[0;34m)\u001b[0m\u001b[0;34m\u001b[0m\u001b[0;34m\u001b[0m\u001b[0m\n",
       "\u001b[0;31mDocstring:\u001b[0m\n",
       "Returns a dict of {'pvname':val} given a list of pvnames, at a time in ISO 8601 format, using the EPICS Archiver Appliance:\n",
       "\n",
       "https://slacmshankar.github.io/epicsarchiver_docs/userguide.html\n",
       "\u001b[0;31mFile:\u001b[0m      ~/Code/GitHub/lcls-live/lcls_live/archiver.py\n",
       "\u001b[0;31mType:\u001b[0m      function\n"
      ]
     },
     "metadata": {},
     "output_type": "display_data"
    }
   ],
   "source": [
    "from lcls_live.archiver import lcls_archiver_restore\n",
    "from lcls_live import data_dir\n",
    "import json\n",
    "import os\n",
    "\n",
    "# This is the main function\n",
    "?lcls_archiver_restore"
   ]
  },
  {
   "cell_type": "markdown",
   "metadata": {},
   "source": [
    "## Optional: off-site setup"
   ]
  },
  {
   "cell_type": "code",
   "execution_count": 3,
   "metadata": {},
   "outputs": [],
   "source": [
    "# Optional: \n",
    "\n",
    "# Open an SSH tunnel in a terminal like:\n",
    "# ssh -D 8080 cmayes@rhel6-64.slac.stanford.edu \n",
    "# And then set:\n",
    "os.environ['http_proxy']='socks5h://localhost:8080'\n",
    "os.environ['HTTPS_PROXY']='socks5h://localhost:8080'\n",
    "os.environ['ALL_PROXY']='socks5h://localhost:8080'"
   ]
  },
  {
   "cell_type": "markdown",
   "metadata": {},
   "source": [
    "# Restore known PVs"
   ]
  },
  {
   "cell_type": "code",
   "execution_count": 4,
   "metadata": {},
   "outputs": [
    {
     "name": "stdout",
     "output_type": "stream",
     "text": [
      "Requesting: http://lcls-archapp.slac.stanford.edu/retrieval/data/getDataAtTime?at=2020-07-29T14:34:59.000000-07:00&includeProxies=true\n"
     ]
    },
    {
     "data": {
      "text/plain": [
       "{'IRIS:LR20:130:MOTR_ANGLE': 220.6020050048828,\n",
       " 'SOLN:IN20:121:BDES': 0.463,\n",
       " 'QUAD:IN20:121:BDES': 0.0010584,\n",
       " 'QUAD:IN20:122:BDES': 0.00055215,\n",
       " 'ACCL:IN20:300:L0A_PDES': 0.0}"
      ]
     },
     "execution_count": 4,
     "metadata": {},
     "output_type": "execute_result"
    }
   ],
   "source": [
    "pvlist = ['IRIS:LR20:130:MOTR_ANGLE', \n",
    "          'SOLN:IN20:121:BDES',\n",
    "          'QUAD:IN20:121:BDES',\n",
    "          'QUAD:IN20:122:BDES',\n",
    "          'ACCL:IN20:300:L0A_PDES']\n",
    "\n",
    "lcls_archiver_restore(pvlist, '2020-07-29T14:34:59.000000-07:00')"
   ]
  },
  {
   "cell_type": "markdown",
   "metadata": {},
   "source": [
    "## Get snapshot from a large list\n",
    "\n",
    "Same as above, but for processing large amounts of data"
   ]
  },
  {
   "cell_type": "code",
   "execution_count": 5,
   "metadata": {},
   "outputs": [
    {
     "data": {
      "text/plain": [
       "['ACCL:IN20:350:FUDGE', 'ACCL:LI21:180:L1X_S_AV', 'ACCL:LI21:180:L1X_S_PV']"
      ]
     },
     "execution_count": 5,
     "metadata": {},
     "output_type": "execute_result"
    }
   ],
   "source": [
    "# Get list of PVs\n",
    "fname = os.path.join(data_dir, 'classic/full_pvlist.json')\n",
    "pvlist = json.load(open(fname))\n",
    "pvlist[0:3]"
   ]
  },
  {
   "cell_type": "code",
   "execution_count": 6,
   "metadata": {},
   "outputs": [],
   "source": [
    "# Simple filename naming\n",
    "def snapshot_filename(isotime):\n",
    "    return  'epics_snapshot_'+isotime+'.json'"
   ]
  },
  {
   "cell_type": "code",
   "execution_count": 7,
   "metadata": {},
   "outputs": [
    {
     "name": "stdout",
     "output_type": "stream",
     "text": [
      "Requesting: http://lcls-archapp.slac.stanford.edu/retrieval/data/getDataAtTime?at=2018-03-06T15:21:15.000000-08:00&includeProxies=true\n"
     ]
    },
    {
     "data": {
      "text/plain": [
       "{'ACCL:IN20:350:FUDGE': 1.0039740050739583,\n",
       " 'ACCL:LI21:180:L1X_S_AV': 20.01551950520014,\n",
       " 'ACCL:LI21:180:L1X_S_PV': -159.9562692633193,\n",
       " 'ACCL:LI21:1:FUDGE': 0.9916613729353901,\n",
       " 'ACCL:LI21:1:L1S_S_PV': -26.12494033014282,\n",
       " 'ACCL:LI22:1:FUDGE': 1.0191546491070553,\n",
       " 'ACCL:LI24:100:KLY_PDES': 11.508785641181667,\n",
       " 'ACCL:LI24:200:KLY_PDES': -75.12033429656984,\n",
       " 'ACCL:LI24:300:KLY_PDES': -31.816975843257694,\n",
       " 'ACCL:LI25:1:FUDGE': 1.0398871739006177}"
      ]
     },
     "execution_count": 7,
     "metadata": {},
     "output_type": "execute_result"
    }
   ],
   "source": [
    "times = ['2018-03-06T15:21:15.000000-08:00']\n",
    "\n",
    "lcls_archiver_restore(pvlist[0:10], times[0])"
   ]
  },
  {
   "cell_type": "code",
   "execution_count": 8,
   "metadata": {},
   "outputs": [
    {
     "name": "stdout",
     "output_type": "stream",
     "text": [
      "Requesting: http://lcls-archapp.slac.stanford.edu/retrieval/data/getDataAtTime?at=2018-03-06T15:21:15.000000-08:00&includeProxies=true\n",
      "Warning: Missing PV: BEND:LTU1:866:BDES\n",
      "Warning: Missing PV: BEND:LTU1:868:BDES\n",
      "Warning: Missing PV: BEND:LTU1:870:BDES\n",
      "Warning: Missing PV: BEND:LTU1:872:BDES\n",
      "Warning: Missing PV: SHTR:LR20:200:UV_STS\n",
      "Warning: Missing PV: XCOR:BSYH:485:BACT\n",
      "Warning: Missing PV: XCOR:BSYH:486:BACT\n",
      "Warning: Missing PV: YCOR:BSYH:486:BACT\n",
      "Warning: Missing PV: YCOR:LTU0:105:BDES\n",
      "Warning: Missing PV: YCOR:LTU0:133:BDES\n",
      "Warning: Missing PV: YCOR:LTU0:171:BDES\n",
      "Warning: Missing PV: YCOR:LTU0:185:BDES\n",
      "Warning: Missing PV: YCOR:LTU1:253:BDES\n",
      "Warning: Missing PV: YCOR:LTU1:293:BDES\n",
      "Warning: Missing PV: YCOR:LTU1:353:BDES\n",
      "Warning: Missing PV: YCOR:LTU1:453:BDES\n",
      "Warning: Missing PV: YCOR:LTU1:493:BDES\n",
      "Warning: Missing PV: YCOR:LTU1:563:BDES\n",
      "Warning: Missing PV: YCOR:LTU1:593:BDES\n",
      "Warning: Missing PV: YCOR:LTU1:611:BDES\n",
      "Warning: Missing PV: YCOR:LTU1:657:BDES\n",
      "Warning: Missing PV: YCOR:LTU1:727:BDES\n",
      "Warning: Missing PV: YCOR:LTU1:747:BDES\n",
      "Warning: Missing PV: YCOR:LTU1:767:BDES\n",
      "Warning: Missing PV: YCOR:LTU1:837:BDES\n",
      "Written: ./data/epics_snapshot_2018-03-06T15:21:15.000000-08:00.json\n",
      "CPU times: user 15.9 ms, sys: 3.44 ms, total: 19.3 ms\n",
      "Wall time: 3.4 s\n"
     ]
    }
   ],
   "source": [
    "%%time\n",
    "# Make multiple files\n",
    "root = './data/'\n",
    "for t in times:\n",
    "    newdata = lcls_archiver_restore(pvlist, t)\n",
    "    fname = os.path.join(root, snapshot_filename(t))\n",
    "    with open(fname, 'w') as f:\n",
    "        f.write(json.dumps(newdata))\n",
    "    print('Written:', fname)"
   ]
  },
  {
   "cell_type": "markdown",
   "metadata": {},
   "source": [
    "# Get history of a single PV"
   ]
  },
  {
   "cell_type": "code",
   "execution_count": 9,
   "metadata": {},
   "outputs": [
    {
     "name": "stdout",
     "output_type": "stream",
     "text": [
      "http://lcls-archapp.slac.stanford.edu/retrieval/data/getData.json?pv=SOLN:IN20:121:BDES&from=2020-07-29T14:30:00.000000-07:00&to=2020-07-29T14:40:00.000000-07:00\n"
     ]
    },
    {
     "data": {
      "text/plain": [
       "([1596057797, 1596058247, 1596058247, 1596058252, 1596058292],\n",
       " [0.4664496,\n",
       "  0.46369960000000005,\n",
       "  0.46094960000000007,\n",
       "  0.46369960000000005,\n",
       "  0.4659])"
      ]
     },
     "execution_count": 9,
     "metadata": {},
     "output_type": "execute_result"
    }
   ],
   "source": [
    "from lcls_live.archiver import lcls_archiver_history, lcls_archiver_history_dataframe\n",
    "\n",
    "t_start = '2020-07-29T14:30:00.000000-07:00'\n",
    "t_end =   '2020-07-29T14:40:00.000000-07:00'\n",
    "\n",
    "secs, vals = lcls_archiver_history('SOLN:IN20:121:BDES', start=t_start, end=t_end)\n",
    "\n",
    "secs[0:5], vals[0:5]"
   ]
  },
  {
   "cell_type": "markdown",
   "metadata": {},
   "source": [
    "More convenient, is to format this as a pandas dataframe. "
   ]
  },
  {
   "cell_type": "code",
   "execution_count": 10,
   "metadata": {},
   "outputs": [
    {
     "data": {
      "text/plain": [
       "\u001b[0;31mSignature:\u001b[0m \u001b[0mlcls_archiver_history_dataframe\u001b[0m\u001b[0;34m(\u001b[0m\u001b[0mpvname\u001b[0m\u001b[0;34m,\u001b[0m \u001b[0;34m**\u001b[0m\u001b[0mkwargs\u001b[0m\u001b[0;34m)\u001b[0m\u001b[0;34m\u001b[0m\u001b[0;34m\u001b[0m\u001b[0m\n",
       "\u001b[0;31mDocstring:\u001b[0m Same as lcls_archiver_history, but returns a dataframe with the index as the time. \n",
       "\u001b[0;31mFile:\u001b[0m      ~/Code/GitHub/lcls-live/lcls_live/archiver.py\n",
       "\u001b[0;31mType:\u001b[0m      function\n"
      ]
     },
     "metadata": {},
     "output_type": "display_data"
    }
   ],
   "source": [
    "?lcls_archiver_history_dataframe"
   ]
  },
  {
   "cell_type": "code",
   "execution_count": 11,
   "metadata": {},
   "outputs": [
    {
     "name": "stdout",
     "output_type": "stream",
     "text": [
      "http://lcls-archapp.slac.stanford.edu/retrieval/data/getData.json?pv=SOLN:IN20:121:BDES&from=2020-07-29T14:30:00.000000-07:00&to=2020-07-29T14:40:00.000000-07:00\n"
     ]
    },
    {
     "data": {
      "text/html": [
       "<div>\n",
       "<style scoped>\n",
       "    .dataframe tbody tr th:only-of-type {\n",
       "        vertical-align: middle;\n",
       "    }\n",
       "\n",
       "    .dataframe tbody tr th {\n",
       "        vertical-align: top;\n",
       "    }\n",
       "\n",
       "    .dataframe thead th {\n",
       "        text-align: right;\n",
       "    }\n",
       "</style>\n",
       "<table border=\"1\" class=\"dataframe\">\n",
       "  <thead>\n",
       "    <tr style=\"text-align: right;\">\n",
       "      <th></th>\n",
       "      <th>SOLN:IN20:121:BDES</th>\n",
       "    </tr>\n",
       "    <tr>\n",
       "      <th>time</th>\n",
       "      <th></th>\n",
       "    </tr>\n",
       "  </thead>\n",
       "  <tbody>\n",
       "    <tr>\n",
       "      <th>2020-07-29 21:23:17</th>\n",
       "      <td>0.46645</td>\n",
       "    </tr>\n",
       "    <tr>\n",
       "      <th>2020-07-29 21:30:47</th>\n",
       "      <td>0.46370</td>\n",
       "    </tr>\n",
       "    <tr>\n",
       "      <th>2020-07-29 21:30:47</th>\n",
       "      <td>0.46095</td>\n",
       "    </tr>\n",
       "    <tr>\n",
       "      <th>2020-07-29 21:30:52</th>\n",
       "      <td>0.46370</td>\n",
       "    </tr>\n",
       "    <tr>\n",
       "      <th>2020-07-29 21:31:32</th>\n",
       "      <td>0.46590</td>\n",
       "    </tr>\n",
       "  </tbody>\n",
       "</table>\n",
       "</div>"
      ],
      "text/plain": [
       "                     SOLN:IN20:121:BDES\n",
       "time                                   \n",
       "2020-07-29 21:23:17             0.46645\n",
       "2020-07-29 21:30:47             0.46370\n",
       "2020-07-29 21:30:47             0.46095\n",
       "2020-07-29 21:30:52             0.46370\n",
       "2020-07-29 21:31:32             0.46590"
      ]
     },
     "execution_count": 11,
     "metadata": {},
     "output_type": "execute_result"
    }
   ],
   "source": [
    "df1 = lcls_archiver_history_dataframe('SOLN:IN20:121:BDES', start=t_start, end=t_end)\n",
    "df1[0:5]"
   ]
  },
  {
   "cell_type": "code",
   "execution_count": 12,
   "metadata": {},
   "outputs": [
    {
     "data": {
      "text/plain": [
       "<matplotlib.axes._subplots.AxesSubplot at 0x7fda0b6f4250>"
      ]
     },
     "execution_count": 12,
     "metadata": {},
     "output_type": "execute_result"
    },
    {
     "data": {
      "image/png": "[encoded data removed]",
      "text/plain": [
       "<Figure size 432x288 with 1 Axes>"
      ]
     },
     "metadata": {
      "needs_background": "light"
     },
     "output_type": "display_data"
    }
   ],
   "source": [
    "# Pandas has convenient plotting\n",
    "df1.plot()"
   ]
  },
  {
   "cell_type": "code",
   "execution_count": 13,
   "metadata": {},
   "outputs": [
    {
     "name": "stdout",
     "output_type": "stream",
     "text": [
      "http://lcls-archapp.slac.stanford.edu/retrieval/data/getData.json?pv=YAGS:IN20:241:XRMS&from=2020-07-29T14:30:00.000000-07:00&to=2020-07-29T14:40:00.000000-07:00\n"
     ]
    },
    {
     "data": {
      "text/html": [
       "<div>\n",
       "<style scoped>\n",
       "    .dataframe tbody tr th:only-of-type {\n",
       "        vertical-align: middle;\n",
       "    }\n",
       "\n",
       "    .dataframe tbody tr th {\n",
       "        vertical-align: top;\n",
       "    }\n",
       "\n",
       "    .dataframe thead th {\n",
       "        text-align: right;\n",
       "    }\n",
       "</style>\n",
       "<table border=\"1\" class=\"dataframe\">\n",
       "  <thead>\n",
       "    <tr style=\"text-align: right;\">\n",
       "      <th></th>\n",
       "      <th>YAGS:IN20:241:XRMS</th>\n",
       "    </tr>\n",
       "    <tr>\n",
       "      <th>time</th>\n",
       "      <th></th>\n",
       "    </tr>\n",
       "  </thead>\n",
       "  <tbody>\n",
       "    <tr>\n",
       "      <th>2020-07-20 03:31:57</th>\n",
       "      <td>419.030786</td>\n",
       "    </tr>\n",
       "  </tbody>\n",
       "</table>\n",
       "</div>"
      ],
      "text/plain": [
       "                     YAGS:IN20:241:XRMS\n",
       "time                                   \n",
       "2020-07-20 03:31:57          419.030786"
      ]
     },
     "execution_count": 13,
     "metadata": {},
     "output_type": "execute_result"
    }
   ],
   "source": [
    "# Try another PV. Note that this one only has one point, and is at a very different time\n",
    "df2 = lcls_archiver_history_dataframe('YAGS:IN20:241:XRMS', start=t_start, end=t_end)\n",
    "df2"
   ]
  },
  {
   "cell_type": "code",
   "execution_count": null,
   "metadata": {},
   "outputs": [],
   "source": []
  }
 ],
 "metadata": {
  "kernelspec": {
   "display_name": "Python 3",
   "language": "python",
   "name": "python3"
  },
  "language_info": {
   "codemirror_mode": {
    "name": "ipython",
    "version": 3
   },
   "file_extension": ".py",
   "mimetype": "text/x-python",
   "name": "python",
   "nbconvert_exporter": "python",
   "pygments_lexer": "ipython3",
   "version": "3.7.6"
  }
 },
 "nbformat": 4,
 "nbformat_minor": 4
}
