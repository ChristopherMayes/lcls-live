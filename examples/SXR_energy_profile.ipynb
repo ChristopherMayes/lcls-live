{
 "cells": [
  {
   "cell_type": "markdown",
   "id": "ff6180e4-ec7f-4aa7-8911-9706eaab94d5",
   "metadata": {},
   "source": [
    "# SXR Energy Profile"
   ]
  },
  {
   "cell_type": "code",
   "execution_count": 1,
   "id": "c8629902-88b6-4f74-9352-9ed5a8dcef83",
   "metadata": {},
   "outputs": [
    {
     "name": "stdout",
     "output_type": "stream",
     "text": [
      "Populating the interactive namespace from numpy and matplotlib\n"
     ]
    }
   ],
   "source": [
    "# Useful for debugging\n",
    "%load_ext autoreload\n",
    "%autoreload 2\n",
    "\n",
    "%config InlineBackend.figure_format = 'retina'\n",
    "%pylab inline"
   ]
  },
  {
   "cell_type": "code",
   "execution_count": 2,
   "id": "e39b4706-f357-4ebc-9adc-55a33b376220",
   "metadata": {},
   "outputs": [],
   "source": [
    "from lcls_live.datamaps import get_datamaps\n",
    "from lcls_live.archiver import lcls_archiver_restore\n",
    "\n",
    "from pytao import Tao\n",
    "\n",
    "import os"
   ]
  },
  {
   "cell_type": "code",
   "execution_count": 3,
   "id": "791d2fa6-05cd-4813-a307-843b84fd140d",
   "metadata": {},
   "outputs": [],
   "source": [
    "BEAMPATH = 'cu_sxr'"
   ]
  },
  {
   "cell_type": "markdown",
   "id": "0f16a169-96d7-42b4-85a9-edd2694a0d3d",
   "metadata": {},
   "source": [
    "## Datamaps, and all PVs needed"
   ]
  },
  {
   "cell_type": "code",
   "execution_count": 4,
   "id": "456e089d-38f1-4ec0-9b90-ff8478019b38",
   "metadata": {},
   "outputs": [
    {
     "data": {
      "text/plain": [
       "dict_keys(['bpms', 'collimators', 'subboosters', 'linac', 'K21_1', 'K21_2', 'K21_3', 'K21_4', 'K21_5', 'K21_6', 'K21_7', 'K21_8', 'K22_1', 'K22_2', 'K22_3', 'K22_4', 'K22_5', 'K22_6', 'K22_7', 'K22_8', 'K23_1', 'K23_2', 'K23_3', 'K23_4', 'K23_5', 'K23_6', 'K23_7', 'K23_8', 'K24_1', 'K24_2', 'K24_3', 'K24_4', 'K24_5', 'K24_6', 'K25_1', 'K25_2', 'K25_3', 'K25_4', 'K25_5', 'K25_6', 'K25_7', 'K25_8', 'K26_1', 'K26_2', 'K26_3', 'K26_4', 'K26_5', 'K26_6', 'K26_7', 'K26_8', 'K27_1', 'K27_2', 'K27_3', 'K27_4', 'K27_5', 'K27_6', 'K27_7', 'K27_8', 'K28_1', 'K28_2', 'K28_3', 'K28_4', 'K28_5', 'K28_6', 'K28_7', 'K28_8', 'K29_1', 'K29_2', 'K29_3', 'K29_4', 'K29_5', 'K29_6', 'K29_7', 'K29_8', 'K30_1', 'K30_2', 'K30_3', 'K30_4', 'K30_5', 'K30_6', 'K30_7', 'K30_8', 'quad', 'beginning_WS02', 'tao_energy_measurements'])"
      ]
     },
     "execution_count": 4,
     "metadata": {},
     "output_type": "execute_result"
    }
   ],
   "source": [
    "DM = get_datamaps(BEAMPATH)\n",
    "\n",
    "DM.keys()"
   ]
  },
  {
   "cell_type": "code",
   "execution_count": 5,
   "id": "49cbb944-b46c-42e5-bf39-e6bcaef41023",
   "metadata": {},
   "outputs": [
    {
     "data": {
      "text/plain": [
       "890"
      ]
     },
     "execution_count": 5,
     "metadata": {},
     "output_type": "execute_result"
    }
   ],
   "source": [
    "\n",
    "# datamaps to exclude\n",
    "DENYLIST = ['beginning_WS02', 'quad']\n",
    "\n",
    "# PVs needed\n",
    "ALLPVS =  []\n",
    "for name, dm in DM.items():\n",
    "    if name in DENYLIST:\n",
    "        continue\n",
    "    ALLPVS.extend(dm.pvlist)\n",
    "ALLPVS = list(set(ALLPVS))\n",
    "\n",
    "\n",
    "len(ALLPVS)"
   ]
  },
  {
   "cell_type": "markdown",
   "id": "44de44f1-9b16-4431-8995-27cf287fd186",
   "metadata": {},
   "source": [
    "## Archiver restore"
   ]
  },
  {
   "cell_type": "code",
   "execution_count": 6,
   "id": "3f64235e-22df-4e27-8deb-082f75ccfae3",
   "metadata": {},
   "outputs": [],
   "source": [
    "ISOTIME = '2021-12-01T16:45:00.000000-08:00'"
   ]
  },
  {
   "cell_type": "code",
   "execution_count": 7,
   "id": "d6a74e63-514d-4921-b628-839b556c7157",
   "metadata": {},
   "outputs": [],
   "source": [
    "# Optional: \n",
    "\n",
    "# Open an SSH tunnel in a terminal like:\n",
    "# ssh -D 8080 <some user>@<some SLAC machine>\n",
    "# And then set:\n",
    "os.environ['http_proxy']='socks5h://localhost:8080'\n",
    "os.environ['HTTPS_PROXY']='socks5h://localhost:8080'\n",
    "os.environ['ALL_PROXY']='socks5h://localhost:8080'"
   ]
  },
  {
   "cell_type": "code",
   "execution_count": 8,
   "id": "5c088fc9-a28e-4dcd-ae9c-c214e2b1ef5d",
   "metadata": {},
   "outputs": [
    {
     "name": "stdout",
     "output_type": "stream",
     "text": [
      "Requesting: http://lcls-archapp.slac.stanford.edu/retrieval/data/getDataAtTime?at=2021-12-01T16:45:00.000000-08:00&includeProxies=true\n",
      "Warning: Missing PV: BPMS:LTUS:550:YCUS1H\n",
      "Warning: Missing PV: BPMS:LTUS:110:YCUS1H\n",
      "Warning: Missing PV: BPMS:LTUS:110:XCUS1H\n",
      "Warning: Missing PV: BPMS:LTUS:550:XCUS1H\n",
      "Warning: Missing PV: BPMS:LTUS:760:XCUS1H\n",
      "Warning: Missing PV: BPMS:LTUS:430:XCUS1H\n",
      "Warning: Missing PV: BPMS:LTUS:780:XCUS1H\n",
      "Warning: Missing PV: BPMS:LTUS:270:XCUS1H\n",
      "Warning: Missing PV: BPMS:LTUS:780:YCUS1H\n",
      "Warning: Missing PV: BPMS:LTUS:270:YCUS1H\n",
      "Warning: Missing PV: BPMS:LTUS:720:YCUS1H\n",
      "Warning: Missing PV: BPMS:LTUS:760:YCUS1H\n",
      "Warning: Missing PV: BPMS:LTUS:730:YCUS1H\n",
      "Warning: Missing PV: BPMS:LTUS:730:XCUS1H\n",
      "Warning: Missing PV: BPMS:LTUS:430:YCUS1H\n",
      "Warning: Missing PV: BPMS:LTUS:720:XCUS1H\n"
     ]
    },
    {
     "data": {
      "text/plain": [
       "874"
      ]
     },
     "execution_count": 8,
     "metadata": {},
     "output_type": "execute_result"
    }
   ],
   "source": [
    "PVDATA = lcls_archiver_restore(ALLPVS, ISOTIME)\n",
    "len(PVDATA)"
   ]
  },
  {
   "cell_type": "markdown",
   "id": "ee617749-33fc-4275-a380-c4493b630c57",
   "metadata": {},
   "source": [
    "## Form commands using PVDATA and datamaps"
   ]
  },
  {
   "cell_type": "code",
   "execution_count": 9,
   "id": "ceac60af-4218-4a46-b365-ed748cc55596",
   "metadata": {},
   "outputs": [
    {
     "data": {
      "text/plain": [
       "['set data orbit.x[7]|meas  = 0.001 * 0.14876915514469147',\n",
       " 'set data orbit.x[8]|meas  = 0.001 * 0.09264747053384781',\n",
       " 'set data orbit.x[9]|meas  = 0.001 * 0.10240171104669571',\n",
       " 'set data orbit.x[10]|meas  = 0.001 * 0.026750247925519943',\n",
       " 'set data orbit.x[11]|meas  = 0.001 * 0.1629796326160431']"
      ]
     },
     "execution_count": 9,
     "metadata": {},
     "output_type": "execute_result"
    }
   ],
   "source": [
    "CMDS = []\n",
    "for name, dm in DM.items():\n",
    "    CMDS.extend(dm.as_tao(PVDATA))\n",
    "\n",
    "CMDS[0:5]"
   ]
  },
  {
   "cell_type": "code",
   "execution_count": 10,
   "id": "d5c2ac88-31d8-4a13-8167-840d19637f37",
   "metadata": {},
   "outputs": [],
   "source": [
    "# Write to file for running with vanilla Tao\n",
    "with open('cmds.tao', 'w') as f:\n",
    "    f.write('set global lattice_calc_on = F\\n')\n",
    "    f.write('set global plot_on = F\\n')    \n",
    "    for cmd in CMDS:\n",
    "        f.write(cmd+'\\n')\n",
    "    f.write('set global lattice_calc_on = T\\n')        \n",
    "    f.write('set global plot_on = T\\n')            "
   ]
  },
  {
   "cell_type": "markdown",
   "id": "514d89bb-4570-4343-b4a3-6fb80ab031c6",
   "metadata": {},
   "source": [
    "# Examine klystrons"
   ]
  },
  {
   "cell_type": "code",
   "execution_count": 11,
   "id": "74d1c6ec-d3ef-4900-a768-e71fc5325116",
   "metadata": {},
   "outputs": [
    {
     "data": {
      "text/plain": [
       "{'name': 'K24_2',\n",
       " 'sector': 24,\n",
       " 'station': 2,\n",
       " 'description': 'Klystron in sector 24, station 2, beamcode 2 for special feedback',\n",
       " 'enld_pvname': 'KLYS:LI24:21:ENLD',\n",
       " 'phase_pvname': 'ACCL:LI24:200:KLY_PDES:SETDATA_1',\n",
       " 'accelerate_pvname': 'KLYS:LI24:21:BEAMCODE2_STAT',\n",
       " 'swrd_pvname': 'KLYS:LI24:21:SWRD',\n",
       " 'stat_pvname': 'KLYS:LI24:21:STAT',\n",
       " 'hdsc_pvname': 'KLYS:LI24:21:HDSC',\n",
       " 'dsta_pvname': 'KLYS:LI24:21:DSTA'}"
      ]
     },
     "execution_count": 11,
     "metadata": {},
     "output_type": "execute_result"
    }
   ],
   "source": [
    "from lcls_live.datamaps.klystron import klystron_pvinfo\n",
    "d = klystron_pvinfo(24, 2, beamcode=2)\n",
    "d"
   ]
  },
  {
   "cell_type": "code",
   "execution_count": 12,
   "id": "97e1ed9b-6cef-455f-93e1-84b6f1f4aa62",
   "metadata": {},
   "outputs": [
    {
     "data": {
      "text/plain": [
       "{'enld_pvname': 178.02,\n",
       " 'phase_pvname': -85.94271136029545,\n",
       " 'accelerate_pvname': 1.0,\n",
       " 'swrd_pvname': 128,\n",
       " 'stat_pvname': 33,\n",
       " 'hdsc_pvname': 1.0,\n",
       " 'dsta_pvname': [1610612737.0, 528640.0]}"
      ]
     },
     "execution_count": 12,
     "metadata": {},
     "output_type": "execute_result"
    }
   ],
   "source": [
    "d2 = {}\n",
    "for k in d:\n",
    "    if k.endswith('_pvname'):\n",
    "        d2[k] = PVDATA[d[k]]\n",
    "d2        "
   ]
  },
  {
   "cell_type": "markdown",
   "id": "d16209fc-165f-4cd0-94f5-99cd96878380",
   "metadata": {},
   "source": [
    "# Start Tao\n",
    "\n"
   ]
  },
  {
   "cell_type": "code",
   "execution_count": 13,
   "id": "0fc569b2-91d9-4ec5-b824-ba624d5104ad",
   "metadata": {},
   "outputs": [
    {
     "data": {
      "text/plain": [
       "'-init $LCLS_LATTICE/bmad/models/cu_sxr/tao.init -slice BEGINNING:ENDUNDH -noplot'"
      ]
     },
     "execution_count": 13,
     "metadata": {},
     "output_type": "execute_result"
    }
   ],
   "source": [
    "init = f'-init $LCLS_LATTICE/bmad/models/{BEAMPATH}/tao.init -slice BEGINNING:ENDUNDH -noplot'\n",
    "init"
   ]
  },
  {
   "cell_type": "code",
   "execution_count": 14,
   "id": "f68daeeb-16f3-48c0-8b70-2658e529b689",
   "metadata": {},
   "outputs": [],
   "source": [
    "tao = Tao(init)"
   ]
  },
  {
   "cell_type": "code",
   "execution_count": 15,
   "id": "b1e17ee8-fa7e-46fb-b731-46a9e981c69f",
   "metadata": {},
   "outputs": [],
   "source": [
    "# apply commands all at once\n",
    "tao.cmds(CMDS);"
   ]
  },
  {
   "cell_type": "code",
   "execution_count": 16,
   "id": "d9a45caf-f0d8-4ab0-bec0-bdd83d7d9205",
   "metadata": {},
   "outputs": [
    {
     "data": {
      "text/plain": [
       "(0.0, 4.5)"
      ]
     },
     "execution_count": 16,
     "metadata": {},
     "output_type": "execute_result"
    },
    {
     "data": {
      "image/png": "[encoded data removed]",
      "text/plain": [
       "<Figure size 864x288 with 1 Axes>"
      ]
     },
     "metadata": {
      "image/png": {
       "height": 277,
       "width": 720
      },
      "needs_background": "light"
     },
     "output_type": "display_data"
    }
   ],
   "source": [
    "s = tao.lat_list('*', 'ele.s')\n",
    "e_tot = tao.lat_list('*', 'ele.e_tot')\n",
    "\n",
    "fig, ax = plt.subplots(figsize=(12,4))\n",
    "ax.plot(s, e_tot/1e9)\n",
    "ax.set_xlabel('s (m)')\n",
    "ax.set_ylabel('Energy (GeV)')\n",
    "ax.set_title(f'Bmad LCLS-Live {BEAMPATH} at {ISOTIME}')\n",
    "ax.set_ylim(0, 4.5)"
   ]
  },
  {
   "cell_type": "code",
   "execution_count": 17,
   "id": "fa19031b-bc47-435b-8d22-de4670cbfe1b",
   "metadata": {},
   "outputs": [
    {
     "name": "stdout",
     "output_type": "stream",
     "text": [
      "-------------------------\n",
      "Tao> sho ele endbc2\n",
      "Element # 755\n",
      "Element Name: ENDBC2\n",
      "Key: Marker\n",
      "S_start, S:    423.734561,    423.734561\n",
      "Ref_time:  1.413449E-06\n",
      "\n",
      "Attribute values [Only non-zero values shown]:\n",
      "    1  L                           =  0.0000000E+00 m\n",
      "    5  CRUNCH                      =  0.0000000E+00 rad\n",
      "    6  NOISE                       =  0.0000000E+00\n",
      "    7  OSC_AMPLITUDE               =  0.0000000E+00 m\n",
      "   21  CRUNCH_CALIB                =  0.0000000E+00 rad\n",
      "   24  TILT_CALIB                  =  0.0000000E+00 rad\n",
      "   25  DE_ETA_MEAS                 =  0.0000000E+00\n",
      "   26  N_SAMPLE                    =  0.0000000E+00\n",
      "   50  DELTA_REF_TIME              =  0.0000000E+00 sec\n",
      "   53  P0C                         =  4.4126385E+09 eV           BETA                        =  9.9999999E-01\n",
      "   54  E_TOT                       =  4.4126386E+09 eV           GAMMA                       =  8.6353183E+03\n",
      "\n",
      "       TRACKING_METHOD              =  Bmad_Standard             APERTURE_AT                =  Exit_End\n",
      "       MAT6_CALC_METHOD             =  Bmad_Standard             APERTURE_TYPE              =  Rectangular\n",
      "       SPIN_TRACKING_METHOD         =  Tracking                  OFFSET_MOVES_APERTURE      =  F\n",
      "       PTC_INTEGRATION_TYPE         =  Matrix_Kick               LONGITUDINAL ORIENTATION   =       1\n",
      "\n",
      "Slave_status: Free\n",
      "\n",
      "Lord_status:  Not_a_Lord\n",
      "\n",
      "Twiss at end of element:\n",
      "                          A              B            Cbar                        C_mat\n",
      "  Beta (m)        10.63609026    68.64530271  |   0.00000000   0.00000000      0.00000000   0.00000000\n",
      "  Alpha           -0.92703342     2.13932896  |   0.00000000   0.00000000      0.00000000   0.00000000\n",
      "  Gamma (1/m)      0.17481903     0.08123977  |   Gamma_c =   1.00000000       Mode_Flip = F\n",
      "  Phi (rad)       36.30070425    33.05994637            X              Y              Z\n",
      "  Eta (m)         -0.00000000     0.00000000    -0.00000000     0.00000000     0.00599023\n",
      "  Etap            -0.00000000    -0.00000000    -0.00000000    -0.00000000    -0.00000000\n",
      "\n",
      "Orbit:  Electron   State: Alive\n",
      "         Position[mm] Momentum[mrad]        Spin   |\n",
      "  X:      -0.00000000     0.00000000               | t_particle [sec]:        1.41344853E-06  E_tot: 4.41264E+09\n",
      "  Y:       0.00000000     0.00000000               | t_part-t_ref [sec]:      0.00000000E+00  PC:    4.41264E+09\n",
      "  Z:      -0.00000000     0.00000000               | (t_ref-t_part)*Vel [m]:  0.00000000E+00  Beta:  0.999999993\n",
      "-------------------------\n",
      "Tao> \n"
     ]
    }
   ],
   "source": [
    "%%tao\n",
    "sho ele endbc2"
   ]
  }
 ],
 "metadata": {
  "kernelspec": {
   "display_name": "Python 3 (ipykernel)",
   "language": "python",
   "name": "python3"
  },
  "language_info": {
   "codemirror_mode": {
    "name": "ipython",
    "version": 3
   },
   "file_extension": ".py",
   "mimetype": "text/x-python",
   "name": "python",
   "nbconvert_exporter": "python",
   "pygments_lexer": "ipython3",
   "version": "3.9.7"
  }
 },
 "nbformat": 4,
 "nbformat_minor": 5
}
