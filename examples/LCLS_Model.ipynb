{
 "cells": [
  {
   "cell_type": "code",
   "execution_count": null,
   "metadata": {},
   "outputs": [],
   "source": [
    "# Useful for debugging\n",
    "%load_ext autoreload\n",
    "%autoreload 2"
   ]
  },
  {
   "cell_type": "markdown",
   "metadata": {},
   "source": [
    "# LCLS Classic model "
   ]
  },
  {
   "cell_type": "code",
   "execution_count": null,
   "metadata": {},
   "outputs": [],
   "source": [
    "from lcls_live.bmad import LCLSTaoModel\n",
    "from lcls_live.epics import epics_proxy\n",
    "\n",
    "import numpy as np\n",
    "import os\n",
    "import json\n",
    "import matplotlib.pyplot as plt\n",
    "%matplotlib inline"
   ]
  },
  {
   "cell_type": "code",
   "execution_count": null,
   "metadata": {},
   "outputs": [],
   "source": [
    "# Make sure this exists\n",
    "assert 'LCLS_LATTICE' in os.environ"
   ]
  },
  {
   "cell_type": "code",
   "execution_count": null,
   "metadata": {},
   "outputs": [],
   "source": [
    "# Cached EPICS pv data\n",
    "epics = epics_proxy('data/epics_snapshot_2018-03-06T11:22:45.000000-08:00.json', verbose=True)"
   ]
  },
  {
   "cell_type": "code",
   "execution_count": null,
   "metadata": {},
   "outputs": [],
   "source": [
    "M = LCLSTaoModel('cu_sxr', epics = epics,verbose=True, ploton=True)\n",
    "print(M)"
   ]
  },
  {
   "cell_type": "code",
   "execution_count": null,
   "metadata": {},
   "outputs": [],
   "source": [
    "%%tao \n",
    "sho var linac_fudge"
   ]
  },
  {
   "cell_type": "markdown",
   "metadata": {},
   "source": [
    "## Track particles"
   ]
  },
  {
   "cell_type": "code",
   "execution_count": null,
   "metadata": {},
   "outputs": [],
   "source": [
    "%%tao\n",
    "set beam_init beam_track_end = UEEND\n",
    "set csr_param n_bin = 40\n",
    "snparticle 10000\n",
    "beamon\n",
    "beamoff"
   ]
  },
  {
   "cell_type": "code",
   "execution_count": null,
   "metadata": {},
   "outputs": [],
   "source": []
  },
  {
   "cell_type": "code",
   "execution_count": null,
   "metadata": {},
   "outputs": [],
   "source": [
    "h5file1 = os.path.join(os.getcwd(), 'test1.h5')\n",
    "M.cmd('write beam -at UEBEG '+h5file1)\n",
    "\n",
    "h5file2 = os.path.join(os.getcwd(), 'test2.h5')\n",
    "M.cmd('write beam -at UEEND '+h5file2)"
   ]
  },
  {
   "cell_type": "markdown",
   "metadata": {},
   "source": [
    "# Plot"
   ]
  },
  {
   "cell_type": "code",
   "execution_count": null,
   "metadata": {},
   "outputs": [],
   "source": [
    "from opmd_beamphysics import bunch_plotting, bunch_tools, bunch_stats\n",
    "from bokeh.plotting import  show, output_notebook\n",
    "from bokeh.layouts import column, row\n",
    "output_notebook(verbose=False, hide_banner=True)\n",
    "from h5py import File"
   ]
  },
  {
   "cell_type": "code",
   "execution_count": null,
   "metadata": {},
   "outputs": [],
   "source": [
    "#h1.close()\n",
    "#h2.close()\n",
    "h1 = File(h5file1, 'r')\n",
    "h2 = File(h5file2, 'r')\n",
    "bunch1 = h1['data/00001/particles']\n",
    "bunch2 = h2['data/00001/particles']\n",
    "\n",
    "show(\n",
    "    row(\n",
    "        column(    \n",
    "            bunch_plotting.plot_bunch_h5(bunch1, 't', 'pz', liveOnly=True,  bins = 100),\n",
    "            bunch_plotting.plot_histogram_h5(bunch1, 't', bins=100)), \n",
    "    column(\n",
    "        \n",
    "    bunch_plotting.plot_bunch_h5(bunch2, 't', 'pz', liveOnly=True,  bins = 100),\n",
    "    bunch_plotting.plot_histogram_h5(bunch2, 't', bins=100))        \n",
    "\n",
    "    )\n",
    "    \n",
    "    )"
   ]
  },
  {
   "cell_type": "code",
   "execution_count": null,
   "metadata": {},
   "outputs": [],
   "source": [
    "# Cleanup\n",
    "os.remove(h5file1), os.remove(h5file2)"
   ]
  },
  {
   "cell_type": "code",
   "execution_count": null,
   "metadata": {},
   "outputs": [],
   "source": []
  }
 ],
 "metadata": {
  "kernelspec": {
   "display_name": "Python 3",
   "language": "python",
   "name": "python3"
  },
  "language_info": {
   "codemirror_mode": {
    "name": "ipython",
    "version": 3
   },
   "file_extension": ".py",
   "mimetype": "text/x-python",
   "name": "python",
   "nbconvert_exporter": "python",
   "pygments_lexer": "ipython3",
   "version": "3.7.3"
  }
 },
 "nbformat": 4,
 "nbformat_minor": 2
}
