{
 "cells": [
  {
   "cell_type": "code",
   "execution_count": 1,
   "metadata": {},
   "outputs": [],
   "source": [
    "# Useful for debugging\n",
    "%load_ext autoreload\n",
    "%autoreload 2"
   ]
  },
  {
   "cell_type": "markdown",
   "metadata": {},
   "source": [
    "# LCLS Classic model "
   ]
  },
  {
   "cell_type": "code",
   "execution_count": 8,
   "metadata": {},
   "outputs": [],
   "source": [
    "from LCLS.bmad import LCLSTaoModel\n",
    "from LCLS.epics import epics_proxy\n",
    "\n",
    "import numpy as np\n",
    "import os\n",
    "import json\n",
    "import matplotlib.pyplot as plt\n",
    "%matplotlib inline"
   ]
  },
  {
   "cell_type": "code",
   "execution_count": 9,
   "metadata": {},
   "outputs": [],
   "source": [
    "# Point to a LCLS tao model\n",
    "assert 'LCLS_LATTICE' in os.environ\n",
    "modeldir = os.path.join(os.environ['LCLS_LATTICE'], 'bmad/model/')\n",
    "initfile = modeldir+'tao.init'"
   ]
  },
  {
   "cell_type": "code",
   "execution_count": 10,
   "metadata": {},
   "outputs": [
    {
     "name": "stdout",
     "output_type": "stream",
     "text": [
      "Loaded data/epics_snapshot_2018-03-06T12:07:21.000000-08:00.json with 1191 PVs\n"
     ]
    }
   ],
   "source": [
    "# Cached EPICS pv data\n",
    "epics = epics_proxy('data/epics_snapshot_2018-03-06T12:07:21.000000-08:00.json', verbose=True)"
   ]
  },
  {
   "cell_type": "code",
   "execution_count": 11,
   "metadata": {},
   "outputs": [
    {
     "name": "stdout",
     "output_type": "stream",
     "text": [
      "_______________________________________________\n",
      "_______________________________________________\n",
      "LCLS Copper Linac EPICS info\n",
      "\n",
      "Bunch charge off cathode:  244.8 pC\n",
      "Laser heater energy      39.03 μJ =>  44.67 keV rms energy spread\n",
      "Bunch charge in LTU:           177.7 pC\n",
      "BC1 mean current:              221.1 A\n",
      "BC2 peak current:             3430.2 A\n",
      "\n",
      "Linac    Energy (MeV)      Phase (deg)    fudge (%)\n",
      "L1       238.779        -26.21         99.6\n",
      "L1X       220.038        -159.7\n",
      "L2       5000.08        -32.08        102.4\n",
      "L3       14429.0          -8.0        103.7\n",
      "\n",
      "FEL Pulse energy :             -0.024 mJ\n",
      "_______________________________________________\n"
     ]
    }
   ],
   "source": [
    "M = LCLSTaoModel(input_file=initfile, epics = epics, verbose=False, ploton=False)\n",
    "print(M)"
   ]
  },
  {
   "cell_type": "code",
   "execution_count": 7,
   "metadata": {},
   "outputs": [
    {
     "name": "stdout",
     "output_type": "stream",
     "text": [
      "-------------------------\n",
      "Tao> sho var linac_fudge\n",
      "Variable name:  linac_fudge\n",
      "\n",
      " Index  Controlled Attributes(s)    Meas         Model        Design  Useit_opt\n",
      "     1  O_L1_FUDGE[F]           0.0000E+00    9.9863E-01    1.0000E+00       T\n",
      "     2  O_L2_FUDGE[F]           0.0000E+00    1.0298E+00    1.0000E+00       T\n",
      "     3  O_L3_FUDGE[F]           0.0000E+00    1.0417E+00    1.0000E+00       T\n",
      " Index  Controlled Attributes(s)    Meas         Model        Design  Useit_opt\n",
      "-------------------------\n",
      "Tao> \n"
     ]
    }
   ],
   "source": [
    "%%tao \n",
    "sho var linac_fudge"
   ]
  },
  {
   "cell_type": "markdown",
   "metadata": {},
   "source": [
    "## Track particles"
   ]
  },
  {
   "cell_type": "code",
   "execution_count": null,
   "metadata": {},
   "outputs": [],
   "source": [
    "%%tao\n",
    "set beam_init beam_track_end = UEEND\n",
    "set csr_param n_bin = 40\n",
    "snparticle 10000\n",
    "beamon\n",
    "beamoff"
   ]
  },
  {
   "cell_type": "code",
   "execution_count": null,
   "metadata": {},
   "outputs": [],
   "source": [
    "h5file = '/Users/chrisonian/Code/GitHub/lcls2-live/devel/test1.h5'\n",
    "M.cmd('write beam -at UEEND '+h5file)"
   ]
  },
  {
   "cell_type": "markdown",
   "metadata": {},
   "source": [
    "# Plot"
   ]
  },
  {
   "cell_type": "code",
   "execution_count": null,
   "metadata": {},
   "outputs": [],
   "source": [
    "from opmd_beamphysics import bunch_plotting, bunch_tools, bunch_stats\n",
    "from bokeh.plotting import  show, output_notebook\n",
    "from bokeh.layouts import column, row\n",
    "output_notebook(verbose=False, hide_banner=True)\n",
    "from h5py import File"
   ]
  },
  {
   "cell_type": "code",
   "execution_count": null,
   "metadata": {},
   "outputs": [],
   "source": [
    "#h1.close()\n",
    "#h2.close()\n",
    "h1 = File( '/Users/chrisonian/Code/GitHub/lcls2-live/devel/test1.h5', 'r')\n",
    "h2 = File( '/Users/chrisonian/Code/GitHub/lcls2-live/devel/test2.h5', 'r')\n",
    "bunch1 = h1['data/1/particles']\n",
    "bunch2 = h2['data/1/particles']\n",
    "\n",
    "show(\n",
    "    row(\n",
    "        column(    \n",
    "            bunch_plotting.plot_bunch_h5(bunch1, 't', 'pz', liveOnly=True,  bins = 100),\n",
    "            bunch_plotting.plot_histogram_h5(bunch1, 't', bins=100)), \n",
    "    column(\n",
    "        \n",
    "    bunch_plotting.plot_bunch_h5(bunch2, 't', 'pz', liveOnly=True,  bins = 100),\n",
    "    bunch_plotting.plot_histogram_h5(bunch2, 't', bins=100))        \n",
    "\n",
    "    )\n",
    "    \n",
    "    )"
   ]
  },
  {
   "cell_type": "code",
   "execution_count": null,
   "metadata": {},
   "outputs": [],
   "source": [
    "%%tao\n",
    "sho beam UEEND"
   ]
  },
  {
   "cell_type": "code",
   "execution_count": null,
   "metadata": {},
   "outputs": [],
   "source": []
  }
 ],
 "metadata": {
  "kernelspec": {
   "display_name": "Python 3",
   "language": "python",
   "name": "python3"
  },
  "language_info": {
   "codemirror_mode": {
    "name": "ipython",
    "version": 3
   },
   "file_extension": ".py",
   "mimetype": "text/x-python",
   "name": "python",
   "nbconvert_exporter": "python",
   "pygments_lexer": "ipython3",
   "version": "3.7.3"
  }
 },
 "nbformat": 4,
 "nbformat_minor": 2
}
