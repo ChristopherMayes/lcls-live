{
 "cells": [
  {
   "cell_type": "code",
   "execution_count": null,
   "metadata": {},
   "outputs": [],
   "source": [
    "# Useful for debugging\n",
    "%load_ext autoreload\n",
    "%autoreload 2"
   ]
  },
  {
   "cell_type": "markdown",
   "metadata": {},
   "source": [
    "# EPICS Proxy example\n",
    "\n",
    "The epics proxy should provide methods that look the same as those in pyepics\n",
    "https://cars9.uchicago.edu/software/python/pyepics3/\n"
   ]
  },
  {
   "cell_type": "code",
   "execution_count": null,
   "metadata": {},
   "outputs": [],
   "source": [
    "from lcls_live.epics import epics_proxy\n",
    "import os"
   ]
  },
  {
   "cell_type": "code",
   "execution_count": null,
   "metadata": {},
   "outputs": [],
   "source": [
    "epics = epics_proxy('data/epics_snapshot_2018-03-06T15:21:15.000000-08:00.json', verbose=True)"
   ]
  },
  {
   "cell_type": "code",
   "execution_count": null,
   "metadata": {},
   "outputs": [],
   "source": [
    "# Data is kept internally as a dict in .pvdata:\n",
    "list(epics.pvdata)[0:10]"
   ]
  },
  {
   "cell_type": "code",
   "execution_count": null,
   "metadata": {},
   "outputs": [],
   "source": [
    "# caget fetches from .pvdata\n",
    "epics.caget('KLYS:LI21:11:ENLD')"
   ]
  },
  {
   "cell_type": "code",
   "execution_count": null,
   "metadata": {},
   "outputs": [],
   "source": [
    "# caput writes to .pvdata\n",
    "epics.caput('KLYS:LI21:11:ENLD', 0)\n",
    "epics.caget('KLYS:LI21:11:ENLD')"
   ]
  },
  {
   "cell_type": "code",
   "execution_count": null,
   "metadata": {},
   "outputs": [],
   "source": [
    "# caget_many \n",
    "epics.caget_many(['KLYS:LI21:11:ENLD',\n",
    " 'ACCL:LI21:1:L1S_S_PV',\n",
    " 'KLYS:LI21:11:PDES',\n",
    " 'KLYS:LI21:11:SWRD',\n",
    " 'KLYS:LI21:11:STAT',\n",
    " 'KLYS:LI21:11:HDSC',\n",
    " 'KLYS:LI21:11:DSTA',\n",
    " 'KLYS:LI21:11:BEAMCODE1_STAT',\n",
    " 'ACCL:LI21:180:L1X_S_AV',\n",
    " 'ACCL:LI21:180:L1X_S_PV'])"
   ]
  },
  {
   "cell_type": "code",
   "execution_count": null,
   "metadata": {},
   "outputs": [],
   "source": [
    "# Non-epics routine to save .pvdata to a JSON file\n",
    "epics.save(filename='test.json')"
   ]
  },
  {
   "cell_type": "code",
   "execution_count": null,
   "metadata": {},
   "outputs": [],
   "source": [
    "# Corresponding load routine\n",
    "epics.load(filename='test.json')"
   ]
  },
  {
   "cell_type": "code",
   "execution_count": null,
   "metadata": {},
   "outputs": [],
   "source": [
    "# Cleanup\n",
    "os.remove('test.json')"
   ]
  },
  {
   "cell_type": "markdown",
   "metadata": {},
   "source": [
    "# Nested proxies"
   ]
  },
  {
   "cell_type": "code",
   "execution_count": null,
   "metadata": {},
   "outputs": [],
   "source": [
    "# Start with a 'base' source of epics data\n",
    "epics0 = epics_proxy('data/epics_snapshot_2018-03-06T15:21:15.000000-08:00.json', verbose=True)\n",
    "\n",
    "# Make another proxy\n",
    "epics1 = epics_proxy('cache.json', epics=epics0, verbose=True)"
   ]
  },
  {
   "cell_type": "code",
   "execution_count": null,
   "metadata": {},
   "outputs": [],
   "source": [
    "# Get a value\n",
    "epics1.caget('KLYS:LI21:11:ENLD')"
   ]
  },
  {
   "cell_type": "code",
   "execution_count": null,
   "metadata": {},
   "outputs": [],
   "source": [
    "# This is the internal data\n",
    "epics1.pvdata"
   ]
  },
  {
   "cell_type": "code",
   "execution_count": null,
   "metadata": {},
   "outputs": [],
   "source": [
    "epics1.caget_many(['KLYS:LI21:11:ENLD', 'KLYS:LI21:11:DSTA'])"
   ]
  },
  {
   "cell_type": "code",
   "execution_count": null,
   "metadata": {},
   "outputs": [],
   "source": [
    "# This is the internal data\n",
    "epics1.pvdata"
   ]
  },
  {
   "cell_type": "code",
   "execution_count": null,
   "metadata": {},
   "outputs": [],
   "source": [
    "# Save to JSON\n",
    "epics1.save()"
   ]
  },
  {
   "cell_type": "code",
   "execution_count": null,
   "metadata": {},
   "outputs": [],
   "source": [
    "# Cleanup\n",
    "os.remove('cache.json')"
   ]
  },
  {
   "cell_type": "code",
   "execution_count": null,
   "metadata": {},
   "outputs": [],
   "source": []
  }
 ],
 "metadata": {
  "kernelspec": {
   "display_name": "Python 3",
   "language": "python",
   "name": "python3"
  },
  "language_info": {
   "codemirror_mode": {
    "name": "ipython",
    "version": 3
   },
   "file_extension": ".py",
   "mimetype": "text/x-python",
   "name": "python",
   "nbconvert_exporter": "python",
   "pygments_lexer": "ipython3",
   "version": "3.7.3"
  }
 },
 "nbformat": 4,
 "nbformat_minor": 2
}
