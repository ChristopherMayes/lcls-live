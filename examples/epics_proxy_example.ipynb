{
 "cells": [
  {
   "cell_type": "code",
   "execution_count": 1,
   "metadata": {},
   "outputs": [],
   "source": [
    "# Useful for debugging\n",
    "%load_ext autoreload\n",
    "%autoreload 2"
   ]
  },
  {
   "cell_type": "markdown",
   "metadata": {},
   "source": [
    "# EPICS Proxy example\n",
    "\n",
    "The epics proxy should provide methods that look the same as those in pyepics\n",
    "https://cars9.uchicago.edu/software/python/pyepics3/\n"
   ]
  },
  {
   "cell_type": "code",
   "execution_count": 2,
   "metadata": {},
   "outputs": [],
   "source": [
    "from LCLS.epics import epics_proxy\n",
    "import os"
   ]
  },
  {
   "cell_type": "code",
   "execution_count": 3,
   "metadata": {},
   "outputs": [
    {
     "name": "stdout",
     "output_type": "stream",
     "text": [
      "Loaded data/epics_cache.json with 1178 PVs\n"
     ]
    }
   ],
   "source": [
    "epics = epics_proxy('data/epics_cache.json', verbose=True)"
   ]
  },
  {
   "cell_type": "code",
   "execution_count": 4,
   "metadata": {},
   "outputs": [
    {
     "data": {
      "text/plain": [
       "['ACCL:IN20:350:FUDGE',\n",
       " 'ACCL:LI21:180:L1X_S_AV',\n",
       " 'ACCL:LI21:180:L1X_S_PV',\n",
       " 'ACCL:LI21:1:FUDGE',\n",
       " 'ACCL:LI21:1:L1S_S_PV',\n",
       " 'ACCL:LI22:1:FUDGE',\n",
       " 'ACCL:LI24:100:KLY_PDES',\n",
       " 'ACCL:LI24:200:KLY_PDES',\n",
       " 'ACCL:LI24:300:KLY_PDES',\n",
       " 'ACCL:LI25:1:FUDGE']"
      ]
     },
     "execution_count": 4,
     "metadata": {},
     "output_type": "execute_result"
    }
   ],
   "source": [
    "# Data is kept internally as a dict in .pvdata:\n",
    "list(epics.pvdata)[0:10]"
   ]
  },
  {
   "cell_type": "code",
   "execution_count": 5,
   "metadata": {},
   "outputs": [
    {
     "data": {
      "text/plain": [
       "115.836"
      ]
     },
     "execution_count": 5,
     "metadata": {},
     "output_type": "execute_result"
    }
   ],
   "source": [
    "# caget fetches from .pvdata\n",
    "epics.caget('KLYS:LI21:11:ENLD')"
   ]
  },
  {
   "cell_type": "code",
   "execution_count": 6,
   "metadata": {},
   "outputs": [
    {
     "data": {
      "text/plain": [
       "0"
      ]
     },
     "execution_count": 6,
     "metadata": {},
     "output_type": "execute_result"
    }
   ],
   "source": [
    "# caput writes to .pvdata\n",
    "epics.caput('KLYS:LI21:11:ENLD', 0)\n",
    "epics.caget('KLYS:LI21:11:ENLD')"
   ]
  },
  {
   "cell_type": "code",
   "execution_count": 7,
   "metadata": {},
   "outputs": [
    {
     "data": {
      "text/plain": [
       "[0,\n",
       " -24.0234392758982,\n",
       " -24.5,\n",
       " 0,\n",
       " 1,\n",
       " 1048577.0,\n",
       " [1610612738.0, 528640.0],\n",
       " 1.0,\n",
       " 19.898735507715752,\n",
       " -160.19231286737053]"
      ]
     },
     "execution_count": 7,
     "metadata": {},
     "output_type": "execute_result"
    }
   ],
   "source": [
    "# caget_many \n",
    "epics.caget_many(['KLYS:LI21:11:ENLD',\n",
    " 'ACCL:LI21:1:L1S_S_PV',\n",
    " 'KLYS:LI21:11:PDES',\n",
    " 'KLYS:LI21:11:SWRD',\n",
    " 'KLYS:LI21:11:STAT',\n",
    " 'KLYS:LI21:11:HDSC',\n",
    " 'KLYS:LI21:11:DSTA',\n",
    " 'KLYS:LI21:11:BEAMCODE1_STAT',\n",
    " 'ACCL:LI21:180:L1X_S_AV',\n",
    " 'ACCL:LI21:180:L1X_S_PV'])"
   ]
  },
  {
   "cell_type": "code",
   "execution_count": 8,
   "metadata": {},
   "outputs": [
    {
     "name": "stdout",
     "output_type": "stream",
     "text": [
      "Saved test.json\n"
     ]
    }
   ],
   "source": [
    "# Non-epics routine to save .pvdata to a JSON file\n",
    "epics.save(filename='test.json')"
   ]
  },
  {
   "cell_type": "code",
   "execution_count": 9,
   "metadata": {},
   "outputs": [
    {
     "name": "stdout",
     "output_type": "stream",
     "text": [
      "Loaded test.json with 1178 PVs\n"
     ]
    }
   ],
   "source": [
    "# Corresponding load routine\n",
    "epics.load(filename='test.json')"
   ]
  },
  {
   "cell_type": "code",
   "execution_count": 10,
   "metadata": {},
   "outputs": [],
   "source": [
    "# Cleanup\n",
    "os.remove('test.json')"
   ]
  },
  {
   "cell_type": "code",
   "execution_count": null,
   "metadata": {},
   "outputs": [],
   "source": []
  },
  {
   "cell_type": "code",
   "execution_count": null,
   "metadata": {},
   "outputs": [],
   "source": []
  },
  {
   "cell_type": "code",
   "execution_count": null,
   "metadata": {},
   "outputs": [],
   "source": []
  }
 ],
 "metadata": {
  "kernelspec": {
   "display_name": "Python 3",
   "language": "python",
   "name": "python3"
  },
  "language_info": {
   "codemirror_mode": {
    "name": "ipython",
    "version": 3
   },
   "file_extension": ".py",
   "mimetype": "text/x-python",
   "name": "python",
   "nbconvert_exporter": "python",
   "pygments_lexer": "ipython3",
   "version": "3.7.3"
  }
 },
 "nbformat": 4,
 "nbformat_minor": 2
}
