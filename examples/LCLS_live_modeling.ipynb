{
 "cells": [
  {
   "cell_type": "markdown",
   "metadata": {},
   "source": [
    "# LCLS `cu_hxr` Modeling using vanilla Tao"
   ]
  },
  {
   "cell_type": "code",
   "execution_count": null,
   "metadata": {},
   "outputs": [],
   "source": [
    "# Useful for debugging\n",
    "%load_ext autoreload\n",
    "%autoreload 2\n",
    "\n",
    "%config InlineBackend.figure_format = 'retina'\n",
    "\n",
    "%pylab --no-import-all inline"
   ]
  },
  {
   "cell_type": "code",
   "execution_count": null,
   "metadata": {},
   "outputs": [],
   "source": [
    "from pytao import Tao\n",
    "from lcls_live.datamaps.klystron import KlystronDataMap, existing_LCLS_klystrons_sector_station\n",
    "from lcls_live.datamaps.tabular import TabularDataMap\n",
    "from lcls_live.tools import isotime\n",
    "from lcls_live import data_dir\n",
    "import pandas as pd\n",
    "import json\n",
    "import os"
   ]
  },
  {
   "cell_type": "code",
   "execution_count": null,
   "metadata": {},
   "outputs": [],
   "source": [
    "# Basic model with options\n",
    "MODEL = 'cu_hxr'\n",
    "OPTIONS = f'-slice OTR2:END -noplot'\n",
    "INIT = f'-init $LCLS_LATTICE/bmad/models/{MODEL}/tao.init {OPTIONS}'\n",
    "\n",
    "# Make sure this exists\n",
    "assert 'LCLS_LATTICE' in os.environ\n",
    "\n",
    "INIT"
   ]
  },
  {
   "cell_type": "markdown",
   "metadata": {},
   "source": [
    "## Tao"
   ]
  },
  {
   "cell_type": "code",
   "execution_count": null,
   "metadata": {},
   "outputs": [],
   "source": [
    "tao = Tao(INIT)"
   ]
  },
  {
   "cell_type": "markdown",
   "metadata": {},
   "source": [
    "## PVDATA\n",
    "\n",
    "Load a dict of archived PV data. This is a simple dict of `pvname:value`"
   ]
  },
  {
   "cell_type": "code",
   "execution_count": null,
   "metadata": {},
   "outputs": [],
   "source": [
    "PVDATA = json.load(open('data/PVDATA-2021-04-21T08:10:25.000000-07:00.json'))"
   ]
  },
  {
   "cell_type": "markdown",
   "metadata": {
    "jupyter": {
     "outputs_hidden": true
    },
    "tags": []
   },
   "source": [
    "# DataMaps "
   ]
  },
  {
   "cell_type": "markdown",
   "metadata": {},
   "source": [
    "## Quads"
   ]
  },
  {
   "cell_type": "code",
   "execution_count": null,
   "metadata": {},
   "outputs": [],
   "source": [
    "def quad_pvinfo(tao, ele):\n",
    "    \"\"\"\n",
    "    Returns dict of PV information for use in a DataMap\n",
    "    \"\"\"\n",
    "    head = tao.ele_head(ele)\n",
    "    attrs = tao.ele_gen_attribs(ele)\n",
    "    device = head['alias']\n",
    "    \n",
    "    d = {}\n",
    "    d['bmad_name'] = ele\n",
    "    d['pvname_rbv'] = device+':BACT'\n",
    "    d['pvname'] = device+':BDES'    \n",
    "    d['bmad_factor'] = -1/attrs['L']/10\n",
    "    d['bmad_attribute'] = 'b1_gradient'\n",
    "    return d\n",
    "\n",
    "quad_pvinfo(tao, 'QM01')"
   ]
  },
  {
   "cell_type": "code",
   "execution_count": null,
   "metadata": {},
   "outputs": [],
   "source": [
    "quad_names = tao.lat_list('quad::*', 'ele.name', flags='-no_slaves')\n",
    "\n",
    "dfq = pd.DataFrame([quad_pvinfo(tao, ele) for ele in quad_names])\n",
    "dfq"
   ]
  },
  {
   "cell_type": "code",
   "execution_count": null,
   "metadata": {},
   "outputs": [],
   "source": [
    "QUAD_DATAMAP = TabularDataMap(dfq, pvname='pvname', element='bmad_name', attribute = 'bmad_attribute', factor='bmad_factor')\n",
    "#QUAD_DATAMAP.pvlist"
   ]
  },
  {
   "cell_type": "code",
   "execution_count": null,
   "metadata": {},
   "outputs": [],
   "source": [
    "JSONFILE = os.path.join(data_dir, 'cu_hxr/quad_TabularDataMap.json')\n",
    "QUAD_DATAMAP.to_json(JSONFILE)"
   ]
  },
  {
   "cell_type": "markdown",
   "metadata": {},
   "source": [
    "## Klystrons"
   ]
  },
  {
   "cell_type": "code",
   "execution_count": null,
   "metadata": {
    "tags": []
   },
   "outputs": [],
   "source": [
    "klystron_names = tao.lat_list('overlay::K*', 'ele.name', flags='-no_slaves')\n",
    "\n",
    "# Export to file and reload\n",
    "klystron_datamaps = []\n",
    "for i, identifier in enumerate(existing_LCLS_klystrons_sector_station):\n",
    "    sector = identifier[0]\n",
    "    station = identifier[1]\n",
    "    \n",
    "    JSONFILE = os.path.join(data_dir, f'cu/sector{sector}_station{station}_klystron_datamap.json')\n",
    "    klystron_datamaps.append(KlystronDataMap.from_json(JSONFILE))\n",
    "\n",
    "\n",
    "# Just take the ones that we have\n",
    "klystron_datamaps = [k for k in klystron_datamaps if k.name in klystron_names]"
   ]
  },
  {
   "cell_type": "markdown",
   "metadata": {},
   "source": [
    "## Linac and Bunch Compressors"
   ]
  },
  {
   "cell_type": "code",
   "execution_count": null,
   "metadata": {},
   "outputs": [],
   "source": [
    "LINAC_JSON = os.path.join(data_dir, 'cu/linac_TabularDataMap.json')\n",
    "LINAC_DATAMAP = TabularDataMap.from_json(LINAC_JSON)\n",
    "LINAC_DATAMAP.data"
   ]
  },
  {
   "cell_type": "markdown",
   "metadata": {},
   "source": [
    "## Energy measurements"
   ]
  },
  {
   "cell_type": "code",
   "execution_count": null,
   "metadata": {},
   "outputs": [],
   "source": [
    "ENERGY_MEAS = os.path.join(data_dir, 'cu_hxr/tao_energy_measurements_TabularDataMap.json')\n",
    "ENERGY_MEAS_DATAMAP = TabularDataMap.from_json(open(ENERGY_MEAS).read())\n",
    "ENERGY_MEAS_DATAMAP.data"
   ]
  },
  {
   "cell_type": "markdown",
   "metadata": {},
   "source": [
    "## Subboosters"
   ]
  },
  {
   "cell_type": "code",
   "execution_count": null,
   "metadata": {},
   "outputs": [],
   "source": [
    "SUBBOSTER_DATAMAP = TabularDataMap.from_json(os.path.join(data_dir, 'cu/subboosters_TabularDataMap.json'))\n",
    "SUBBOSTER_DATAMAP.data"
   ]
  },
  {
   "cell_type": "markdown",
   "metadata": {},
   "source": [
    "## Beginning Twiss parameters"
   ]
  },
  {
   "cell_type": "code",
   "execution_count": null,
   "metadata": {},
   "outputs": [],
   "source": [
    "BEGINNING_TWISS_DATAMAP = TabularDataMap.from_json(os.path.join(data_dir, 'cu/beginning_OTR2_TabularDataMap.json'))\n",
    "BEGINNING_TWISS_DATAMAP.data"
   ]
  },
  {
   "cell_type": "markdown",
   "metadata": {},
   "source": [
    "## Collect all DataMaps"
   ]
  },
  {
   "cell_type": "code",
   "execution_count": null,
   "metadata": {
    "tags": []
   },
   "outputs": [],
   "source": [
    "ALL_DATAMAPS = klystron_datamaps + [QUAD_DATAMAP, LINAC_DATAMAP, ENERGY_MEAS_DATAMAP, SUBBOSTER_DATAMAP, BEGINNING_TWISS_DATAMAP]\n",
    "\n",
    "#ALL_DATAMAPS = [QUAD_DATAMAP]\n",
    "\n",
    "def get_pvlist():\n",
    "    pvlist = set()\n",
    "    for dm in ALL_DATAMAPS:\n",
    "        for pv in dm.pvlist:\n",
    "            pvlist.add(pv) \n",
    "    return list(pvlist)\n",
    "\n",
    "def get_bmad(pvdata):\n",
    "    lines = []\n",
    "    for dm in ALL_DATAMAPS:\n",
    "        lines += dm.as_bmad(pvdata)\n",
    "    return lines\n",
    "\n",
    "def get_tao(pvdata):\n",
    "    lines = []\n",
    "    for dm in ALL_DATAMAPS:\n",
    "        lines += dm.as_tao(pvdata)\n",
    "    return lines\n",
    "\n",
    "# Get a list of all PVs needed\n",
    "ALL_PVS = get_pvlist()\n",
    "len(ALL_PVS)"
   ]
  },
  {
   "cell_type": "markdown",
   "metadata": {},
   "source": [
    "# Prepare all commands"
   ]
  },
  {
   "cell_type": "code",
   "execution_count": null,
   "metadata": {},
   "outputs": [],
   "source": [
    "tao = Tao('-init $LCLS_LATTICE/bmad/models/cu_hxr/tao.init -slice OTR2:END -noplot')"
   ]
  },
  {
   "cell_type": "code",
   "execution_count": null,
   "metadata": {},
   "outputs": [],
   "source": [
    "%%time\n",
    "init_cmds = \"\"\"\n",
    "place floor energy\n",
    "!set global plot_on = F\n",
    "set global lattice_calc_on = F\n",
    "set lattice model=design ! Reset the lattice\n",
    "set ele quad::* field_master = T\n",
    "\"\"\".split('\\n')\n",
    "\n",
    "cmds = get_tao(PVDATA)\n",
    "\n",
    "final_cmds = \"\"\"\n",
    "set global lattice_calc_on = T\n",
    "!set global plot_on = T\n",
    "\"\"\".split('\\n')\n",
    "\n",
    "all_cmds = init_cmds + cmds + final_cmds\n",
    "\n",
    "for cmd in all_cmds:\n",
    "    tao.cmd(cmd)"
   ]
  },
  {
   "cell_type": "code",
   "execution_count": null,
   "metadata": {},
   "outputs": [],
   "source": [
    "# Output collecting\n",
    "\n",
    "outkeys = \"\"\"ele.name\n",
    "ele.ix_ele\n",
    "ele.ix_branch\n",
    "ele.a.beta\n",
    "ele.a.alpha\n",
    "ele.a.eta\n",
    "ele.a.etap\n",
    "ele.a.gamma\n",
    "ele.a.phi\n",
    "ele.b.beta\n",
    "ele.b.alpha\n",
    "ele.b.eta\n",
    "ele.b.etap\n",
    "ele.b.gamma\n",
    "ele.b.phi\n",
    "ele.x.eta\n",
    "ele.x.etap\n",
    "ele.y.eta\n",
    "ele.y.etap\n",
    "ele.s\n",
    "ele.l\n",
    "ele.e_tot\n",
    "ele.p0c\n",
    "ele.mat6\n",
    "ele.vec0\n",
    "\"\"\".split()\n",
    "def get_output(tao):\n",
    "    return {k:tao.lat_list('*', k) for k in outkeys}"
   ]
  },
  {
   "cell_type": "code",
   "execution_count": null,
   "metadata": {},
   "outputs": [],
   "source": [
    "def evaluate_tao(tao, cmds):\n",
    "\n",
    "    # Init\n",
    "    for cmd in init_cmds:\n",
    "        tao.cmd(cmd)\n",
    "\n",
    "    for cmd in cmds:\n",
    "        tao.cmd(cmd)\n",
    "    \n",
    "    # Turn lattice calc on\n",
    "    for cmd in final_cmds:\n",
    "        tao.cmd(cmd)    \n",
    "        \n",
    "    output = get_output(tao)\n",
    "    \n",
    "    return output"
   ]
  },
  {
   "cell_type": "code",
   "execution_count": null,
   "metadata": {},
   "outputs": [],
   "source": [
    "O = evaluate_tao(tao, cmds)\n",
    "O.keys()"
   ]
  },
  {
   "cell_type": "code",
   "execution_count": null,
   "metadata": {},
   "outputs": [],
   "source": [
    "def plot_twiss(output, info=''):\n",
    "    fig, ax = plt.subplots(figsize=(16,4))\n",
    "    \n",
    "    ax.plot(output['ele.s'], output['ele.a.beta'], label = r'$\\beta_a$')\n",
    "    ax.plot(output['ele.s'], output['ele.b.beta'], label = r'$\\beta_b$')\n",
    "    plt.legend()\n",
    "    \n",
    "    # Add energy to the rhs\n",
    "    ax2 = ax.twinx()\n",
    "    ax2.plot(output['ele.s'], output['ele.e_tot']/1e9, color='red')\n",
    "    ax2.set_ylabel('Energy (GeV)')\n",
    "    \n",
    "    ax.set_xlabel('s (m)')\n",
    "    ax.set_ylabel('Twiss Beta (m)')\n",
    "    \n",
    "    itime = isotime()\n",
    "    efinal = output['ele.e_tot'][-1]\n",
    "    plt.title(f'{info} Final energy: {efinal} GeV')\n",
    "        \n",
    "    return fig\n",
    "\n",
    "plot_twiss(O);   "
   ]
  },
  {
   "cell_type": "markdown",
   "metadata": {},
   "source": [
    "# Restore from the Archiver"
   ]
  },
  {
   "cell_type": "code",
   "execution_count": null,
   "metadata": {},
   "outputs": [],
   "source": [
    "from lcls_live.archiver import lcls_archiver_restore\n",
    "import os \n",
    "# Open an SSH tunnel in a terminal like:\n",
    "# ssh -D 8080 cmayes@rhel6-64.slac.stanford.edu \n",
    "# And then set:\n",
    "os.environ['http_proxy']='socks5h://localhost:8080'\n",
    "os.environ['HTTPS_PROXY']='socks5h://localhost:8080'\n",
    "os.environ['ALL_PROXY']='socks5h://localhost:8080'"
   ]
  },
  {
   "cell_type": "code",
   "execution_count": null,
   "metadata": {},
   "outputs": [],
   "source": [
    "# Pick a proper time\n",
    "ISOTIME = '2021-04-21T08:10:25.000000-07:00'\n",
    "#ISOTIME = '2021-01-20T01:10:43.000000-07:00'\n",
    "ARCHIVED_PVDATA = lcls_archiver_restore(ALL_PVS, ISOTIME)\n",
    "\n",
    "# Save for restoring later\n",
    "AOUT = f'data/PVDATA-{ISOTIME}.json'\n",
    "json.dump(ARCHIVED_PVDATA, open(AOUT, 'w'))\n",
    "\n",
    "# Some of the commands\n",
    "cmds = get_tao(ARCHIVED_PVDATA)\n",
    "cmds[0:10]"
   ]
  },
  {
   "cell_type": "code",
   "execution_count": null,
   "metadata": {},
   "outputs": [],
   "source": [
    "fout = 'test.tao'\n",
    "all_cmds = init_cmds + cmds + final_cmds\n",
    "with open(fout, 'w') as f:\n",
    "    for line in all_cmds:\n",
    "        f.write(line+'\\n')\n",
    "os.path.abspath(fout)"
   ]
  },
  {
   "cell_type": "code",
   "execution_count": null,
   "metadata": {},
   "outputs": [],
   "source": [
    "%%time\n",
    "OUT = evaluate_tao(tao, cmds)"
   ]
  },
  {
   "cell_type": "code",
   "execution_count": null,
   "metadata": {},
   "outputs": [],
   "source": [
    "plot_twiss(OUT)  "
   ]
  },
  {
   "cell_type": "markdown",
   "metadata": {},
   "source": [
    "# Live loop"
   ]
  },
  {
   "cell_type": "code",
   "execution_count": null,
   "metadata": {},
   "outputs": [],
   "source": [
    "import epics\n",
    "\n",
    "def get_live():\n",
    "    pvlist = get_pvlist()\n",
    "    return dict(zip(pvlist, epics.caget_many(pvlist)))"
   ]
  },
  {
   "cell_type": "code",
   "execution_count": null,
   "metadata": {},
   "outputs": [],
   "source": [
    "init_cmds = \"\"\"\n",
    "!place floor energy\n",
    "!place top beta\n",
    "!place middle eta\n",
    "!place bottom layout \n",
    "!x-a all s\n",
    "!sc\n",
    "!set global plot_on = F\n",
    "set global lattice_calc_on = F\n",
    "set lattice model=design ! Reset the lattice\n",
    "!set ele quad::* field_master = T\n",
    "\"\"\".split('\\n')\n",
    "\n",
    "final_cmds = \"\"\"\n",
    "set global lattice_calc_on = T\n",
    "!set global plot_on = T\n",
    "!sc\n",
    "\"\"\".split('\\n')"
   ]
  },
  {
   "cell_type": "code",
   "execution_count": null,
   "metadata": {},
   "outputs": [],
   "source": [
    "%%time\n",
    "pvdata = get_live()\n",
    "cmds = get_tao(pvdata)\n",
    "output = evaluate_tao(tao, cmds)\n"
   ]
  },
  {
   "cell_type": "code",
   "execution_count": null,
   "metadata": {},
   "outputs": [],
   "source": [
    "from IPython.display import clear_output"
   ]
  },
  {
   "cell_type": "code",
   "execution_count": null,
   "metadata": {},
   "outputs": [],
   "source": [
    "def plot1():\n",
    "    \"\"\"\n",
    "    Get live EPICS data and plot\n",
    "    \"\"\"\n",
    "    pvdata = get_live()\n",
    "    cmds = get_tao(pvdata)\n",
    "    output = evaluate_tao(tao, cmds)    \n",
    "    \n",
    "    clear_output(wait=True)  \n",
    "    fig = plot_twiss(output, info=isotime())  \n",
    "\n",
    "    fig.axes[0].set_ylim(0,1000)\n",
    "    \n",
    "\n",
    "    plt.show()\n",
    "    "
   ]
  },
  {
   "cell_type": "code",
   "execution_count": null,
   "metadata": {},
   "outputs": [],
   "source": [
    "%%time\n",
    "plot1()"
   ]
  },
  {
   "cell_type": "code",
   "execution_count": null,
   "metadata": {},
   "outputs": [],
   "source": [
    "# Run forever\n",
    "while True:\n",
    "    plot1()"
   ]
  }
 ],
 "metadata": {
  "kernelspec": {
   "display_name": "Python 3",
   "language": "python",
   "name": "python3"
  },
  "language_info": {
   "codemirror_mode": {
    "name": "ipython",
    "version": 3
   },
   "file_extension": ".py",
   "mimetype": "text/x-python",
   "name": "python",
   "nbconvert_exporter": "python",
   "pygments_lexer": "ipython3",
   "version": "3.7.10"
  }
 },
 "nbformat": 4,
 "nbformat_minor": 4
}
