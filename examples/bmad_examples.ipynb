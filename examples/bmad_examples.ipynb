{
 "cells": [
  {
   "cell_type": "code",
   "execution_count": 1,
   "metadata": {},
   "outputs": [],
   "source": [
    "# Useful for debugging\n",
    "%load_ext autoreload\n",
    "%autoreload 2"
   ]
  },
  {
   "cell_type": "markdown",
   "metadata": {},
   "source": [
    "# Bmad examples"
   ]
  },
  {
   "cell_type": "code",
   "execution_count": 2,
   "metadata": {},
   "outputs": [
    {
     "ename": "ImportError",
     "evalue": "cannot import name 'tao_LEM_lines' from 'LCLS.interfaces.bmad' (/Users/chrisonian/Code/GitHub/lcls2-live/LCLS/interfaces/bmad.py)",
     "output_type": "error",
     "traceback": [
      "\u001b[0;31m---------------------------------------------------------------------------\u001b[0m",
      "\u001b[0;31mImportError\u001b[0m                               Traceback (most recent call last)",
      "\u001b[0;32m<ipython-input-2-343585154353>\u001b[0m in \u001b[0;36m<module>\u001b[0;34m\u001b[0m\n\u001b[0;32m----> 1\u001b[0;31m \u001b[0;32mfrom\u001b[0m \u001b[0mLCLS\u001b[0m\u001b[0;34m.\u001b[0m\u001b[0minterfaces\u001b[0m\u001b[0;34m.\u001b[0m\u001b[0mbmad\u001b[0m \u001b[0;32mimport\u001b[0m \u001b[0mbmad_klystron_lines\u001b[0m\u001b[0;34m,\u001b[0m \u001b[0mwrite_bmad_klystron_settings\u001b[0m\u001b[0;34m,\u001b[0m \u001b[0mbmad_linac_phasing_lines\u001b[0m\u001b[0;34m,\u001b[0m \u001b[0mwrite_bmad_linac_phasing_lines\u001b[0m\u001b[0;34m,\u001b[0m \u001b[0mtao_LEM_lines\u001b[0m\u001b[0;34m,\u001b[0m \u001b[0mwrite_tao_LEM_lines\u001b[0m\u001b[0;34m\u001b[0m\u001b[0;34m\u001b[0m\u001b[0m\n\u001b[0m\u001b[1;32m      2\u001b[0m \u001b[0;32mfrom\u001b[0m \u001b[0mLCLS\u001b[0m\u001b[0;34m.\u001b[0m\u001b[0minterfaces\u001b[0m\u001b[0;34m.\u001b[0m\u001b[0mbmad\u001b[0m \u001b[0;32mimport\u001b[0m \u001b[0mbmad_collimator_lines\u001b[0m\u001b[0;34m\u001b[0m\u001b[0;34m\u001b[0m\u001b[0m\n\u001b[1;32m      3\u001b[0m \u001b[0;32mfrom\u001b[0m \u001b[0mLCLS\u001b[0m\u001b[0;34m.\u001b[0m\u001b[0mklystron\u001b[0m \u001b[0;32mimport\u001b[0m \u001b[0mKlystron\u001b[0m\u001b[0;34m,\u001b[0m \u001b[0mexisting_LCLS_klystrons\u001b[0m\u001b[0;34m\u001b[0m\u001b[0;34m\u001b[0m\u001b[0m\n\u001b[1;32m      4\u001b[0m \u001b[0;32mfrom\u001b[0m \u001b[0mLCLS\u001b[0m\u001b[0;34m.\u001b[0m\u001b[0mepics\u001b[0m \u001b[0;32mimport\u001b[0m \u001b[0mepics_proxy\u001b[0m\u001b[0;34m\u001b[0m\u001b[0;34m\u001b[0m\u001b[0m\n\u001b[1;32m      5\u001b[0m \u001b[0;32mimport\u001b[0m \u001b[0mjson\u001b[0m\u001b[0;34m\u001b[0m\u001b[0;34m\u001b[0m\u001b[0m\n",
      "\u001b[0;31mImportError\u001b[0m: cannot import name 'tao_LEM_lines' from 'LCLS.interfaces.bmad' (/Users/chrisonian/Code/GitHub/lcls2-live/LCLS/interfaces/bmad.py)"
     ]
    }
   ],
   "source": [
    "from LCLS.interfaces.bmad import bmad_klystron_lines, write_bmad_klystron_settings, bmad_linac_phasing_lines, write_bmad_linac_phasing_lines, tao_LEM_lines, write_tao_LEM_lines\n",
    "from LCLS.interfaces.bmad import bmad_collimator_lines\n",
    "from LCLS.klystron import Klystron, existing_LCLS_klystrons\n",
    "from LCLS.epics import epics_proxy\n",
    "import json\n",
    "import os"
   ]
  },
  {
   "cell_type": "code",
   "execution_count": 21,
   "metadata": {},
   "outputs": [
    {
     "name": "stdout",
     "output_type": "stream",
     "text": [
      "Loaded data/epics_cache.json with 1178 PVs\n"
     ]
    }
   ],
   "source": [
    "# Proxy setup\n",
    "epics = epics_proxy('data/epics_cache.json', verbose=True)"
   ]
  },
  {
   "cell_type": "markdown",
   "metadata": {},
   "source": [
    "# Linac"
   ]
  },
  {
   "cell_type": "code",
   "execution_count": 22,
   "metadata": {},
   "outputs": [],
   "source": [
    "# List of Klystron objects\n",
    "klist = existing_LCLS_klystrons(epics)"
   ]
  },
  {
   "cell_type": "code",
   "execution_count": 23,
   "metadata": {},
   "outputs": [
    {
     "data": {
      "text/plain": [
       "['!---------------',\n",
       " '! K22_3',\n",
       " 'O_K22_3[ENLD_MeV] = 210.644',\n",
       " 'O_K22_3[phase_deg] = 0.16066741943359375']"
      ]
     },
     "execution_count": 23,
     "metadata": {},
     "output_type": "execute_result"
    }
   ],
   "source": [
    "# Bmad lines for one klystron\n",
    "bmad_klystron_lines(klist[10])"
   ]
  },
  {
   "cell_type": "code",
   "execution_count": 24,
   "metadata": {},
   "outputs": [
    {
     "name": "stdout",
     "output_type": "stream",
     "text": [
      "klystron_settings.bmad written\n"
     ]
    }
   ],
   "source": [
    "write_bmad_klystron_settings(klist, filePath='klystron_settings.bmad', verbose=True)"
   ]
  },
  {
   "cell_type": "code",
   "execution_count": 25,
   "metadata": {},
   "outputs": [
    {
     "data": {
      "text/plain": [
       "['! Linac overall phasing',\n",
       " 'O_L1[phase_deg] = 0 ! K21_1 sets this directly',\n",
       " 'O_L2[phase_deg] = -34.34371573834004',\n",
       " 'O_L3[phase_deg] = -8.0']"
      ]
     },
     "execution_count": 25,
     "metadata": {},
     "output_type": "execute_result"
    }
   ],
   "source": [
    "bmad_linac_phasing_lines(epics)"
   ]
  },
  {
   "cell_type": "code",
   "execution_count": 26,
   "metadata": {},
   "outputs": [
    {
     "name": "stdout",
     "output_type": "stream",
     "text": [
      "Written: linac_settings.bmad\n"
     ]
    }
   ],
   "source": [
    "write_bmad_linac_phasing_lines(filePath='linac_settings.bmad', epics=epics, verbose=True)"
   ]
  },
  {
   "cell_type": "code",
   "execution_count": 27,
   "metadata": {},
   "outputs": [],
   "source": [
    "# Cleanup\n",
    "os.remove('klystron_settings.bmad')\n",
    "os.remove('linac_settings.bmad')"
   ]
  },
  {
   "cell_type": "markdown",
   "metadata": {},
   "source": [
    "# Tao LEM and Bunch Compressor settings"
   ]
  },
  {
   "cell_type": "code",
   "execution_count": 28,
   "metadata": {},
   "outputs": [
    {
     "data": {
      "text/plain": [
       "['set dat BC1.energy[1]|meas = 219720346.92018503',\n",
       " 'set dat BC2.energy[1]|meas = 5000087962.347732',\n",
       " 'set dat L3.energy[2]|meas = 13424999999.999998',\n",
       " 'set dat BC1.offset[1]|meas = 0.24800029325297734',\n",
       " 'set dat BC2.offset[1]|meas = 0.38501205883567324']"
      ]
     },
     "execution_count": 28,
     "metadata": {},
     "output_type": "execute_result"
    }
   ],
   "source": [
    "tao_LEM_lines(epics)"
   ]
  },
  {
   "cell_type": "code",
   "execution_count": 29,
   "metadata": {},
   "outputs": [
    {
     "name": "stdout",
     "output_type": "stream",
     "text": [
      "Written: set_LEM_energies.tao\n"
     ]
    }
   ],
   "source": [
    "write_tao_LEM_lines(filePath='set_LEM_energies.tao', epics=epics, verbose=True)"
   ]
  },
  {
   "cell_type": "code",
   "execution_count": 30,
   "metadata": {},
   "outputs": [],
   "source": [
    "# cleanup\n",
    "os.remove('set_LEM_energies.tao')"
   ]
  },
  {
   "cell_type": "markdown",
   "metadata": {},
   "source": [
    "# Collimators"
   ]
  },
  {
   "cell_type": "code",
   "execution_count": 33,
   "metadata": {},
   "outputs": [
    {
     "data": {
      "text/plain": [
       "['CE11[x1_limit] = 0.0051896030232714664',\n",
       " 'CE11[x2_limit] = 0.0021763184354004045']"
      ]
     },
     "execution_count": 33,
     "metadata": {},
     "output_type": "execute_result"
    }
   ],
   "source": [
    "bmad_collimator_lines(epics)"
   ]
  },
  {
   "cell_type": "markdown",
   "metadata": {},
   "source": [
    "# Quads"
   ]
  },
  {
   "cell_type": "code",
   "execution_count": 18,
   "metadata": {},
   "outputs": [],
   "source": [
    "madnames = json.load(open('data/madname_pvs.json'))"
   ]
  },
  {
   "cell_type": "code",
   "execution_count": null,
   "metadata": {},
   "outputs": [],
   "source": []
  },
  {
   "cell_type": "code",
   "execution_count": null,
   "metadata": {},
   "outputs": [],
   "source": []
  }
 ],
 "metadata": {
  "kernelspec": {
   "display_name": "Python 3",
   "language": "python",
   "name": "python3"
  },
  "language_info": {
   "codemirror_mode": {
    "name": "ipython",
    "version": 3
   },
   "file_extension": ".py",
   "mimetype": "text/x-python",
   "name": "python",
   "nbconvert_exporter": "python",
   "pygments_lexer": "ipython3",
   "version": "3.7.3"
  }
 },
 "nbformat": 4,
 "nbformat_minor": 2
}
