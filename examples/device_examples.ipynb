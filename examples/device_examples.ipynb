{
 "cells": [
  {
   "cell_type": "markdown",
   "metadata": {},
   "source": [
    "# Klystron example"
   ]
  },
  {
   "cell_type": "code",
   "execution_count": 1,
   "metadata": {},
   "outputs": [],
   "source": [
    "# Useful for debugging\n",
    "%load_ext autoreload\n",
    "%autoreload 2"
   ]
  },
  {
   "cell_type": "code",
   "execution_count": 2,
   "metadata": {},
   "outputs": [],
   "source": [
    "from LCLS.epics import epics_proxy\n",
    "from LCLS import Klystron, Magnet, BPM\n",
    "import os"
   ]
  },
  {
   "cell_type": "code",
   "execution_count": 3,
   "metadata": {},
   "outputs": [
    {
     "name": "stdout",
     "output_type": "stream",
     "text": [
      "Loaded data/epics_cache.json with 2188 PVs\n"
     ]
    }
   ],
   "source": [
    "epics = epics_proxy('data/epics_cache.json', verbose=True)"
   ]
  },
  {
   "cell_type": "code",
   "execution_count": 4,
   "metadata": {},
   "outputs": [
    {
     "name": "stdout",
     "output_type": "stream",
     "text": [
      "caget_many on ['ACCL:LI21:180:L1X_S_AV', 'ACCL:LI21:180:L1X_S_PV', 'KLYS:LI21:21:PDES', 'KLYS:LI21:21:SWRD', 'KLYS:LI21:21:STAT', 'KLYS:LI21:21:HDSC', 'KLYS:LI21:21:DSTA', 'KLYS:LI21:21:BEAMCODE1_STAT']\n"
     ]
    }
   ],
   "source": [
    "k = Klystron(21,2, epics=epics, verbose=True)"
   ]
  },
  {
   "cell_type": "code",
   "execution_count": 5,
   "metadata": {},
   "outputs": [
    {
     "data": {
      "text/plain": [
       "'KLYS:LI21:21'"
      ]
     },
     "execution_count": 5,
     "metadata": {},
     "output_type": "execute_result"
    }
   ],
   "source": [
    "# Base PV name\n",
    "k.basePV"
   ]
  },
  {
   "cell_type": "code",
   "execution_count": 6,
   "metadata": {},
   "outputs": [
    {
     "data": {
      "text/plain": [
       "['enld', 'phase', 'pdes', 'swrd', 'stat', 'hdsc', 'dsta', 'acc_trigger_status']"
      ]
     },
     "execution_count": 6,
     "metadata": {},
     "output_type": "execute_result"
    }
   ],
   "source": [
    "# Basic attributes are listed in\n",
    "k.attributes"
   ]
  },
  {
   "cell_type": "code",
   "execution_count": 7,
   "metadata": {},
   "outputs": [
    {
     "data": {
      "text/plain": [
       "(20.007444817907157,\n",
       " -159.92927549622402,\n",
       " -110.9,\n",
       " 1024,\n",
       " 33,\n",
       " 5242881.0,\n",
       " [1610612738.0, 528640.0],\n",
       " 1.0)"
      ]
     },
     "execution_count": 7,
     "metadata": {},
     "output_type": "execute_result"
    }
   ],
   "source": [
    "# and thes attributes are held as\n",
    "k.enld, k.phase, k.pdes, k.swrd, k.stat, k.hdsc, k.dsta, k.acc_trigger_status"
   ]
  },
  {
   "cell_type": "code",
   "execution_count": 8,
   "metadata": {},
   "outputs": [
    {
     "data": {
      "text/plain": [
       "(True, True, True)"
      ]
     },
     "execution_count": 8,
     "metadata": {},
     "output_type": "execute_result"
    }
   ],
   "source": [
    "# Summary methods\n",
    "k.is_usable(), k.is_accelerating(), k.has_faults()"
   ]
  },
  {
   "cell_type": "code",
   "execution_count": 9,
   "metadata": {},
   "outputs": [
    {
     "data": {
      "text/plain": [
       "['Phase Jitter']"
      ]
     },
     "execution_count": 9,
     "metadata": {},
     "output_type": "execute_result"
    }
   ],
   "source": [
    "# Here are the faults\n",
    "k.faults"
   ]
  },
  {
   "cell_type": "markdown",
   "metadata": {},
   "source": [
    "# Magnet example"
   ]
  },
  {
   "cell_type": "code",
   "execution_count": 10,
   "metadata": {},
   "outputs": [],
   "source": [
    "from LCLS import Klystron, Magnet"
   ]
  },
  {
   "cell_type": "code",
   "execution_count": 11,
   "metadata": {},
   "outputs": [
    {
     "name": "stdout",
     "output_type": "stream",
     "text": [
      "caget_many on ['QUAD:LI30:301:BACT', 'QUAD:LI30:301:Z', 'QUAD:LI30:301:MADNAME']\n"
     ]
    },
    {
     "data": {
      "text/plain": [
       "(['bact', 'z', 'madname'], 'QUAD')"
      ]
     },
     "execution_count": 11,
     "metadata": {},
     "output_type": "execute_result"
    }
   ],
   "source": [
    "m = Magnet(basePV='QUAD:LI30:301', epics=epics, verbose=True)\n",
    "m.attributes, m.type"
   ]
  },
  {
   "cell_type": "markdown",
   "metadata": {},
   "source": [
    "# BPM Example"
   ]
  },
  {
   "cell_type": "code",
   "execution_count": null,
   "metadata": {},
   "outputs": [],
   "source": []
  },
  {
   "cell_type": "code",
   "execution_count": null,
   "metadata": {},
   "outputs": [],
   "source": []
  }
 ],
 "metadata": {
  "kernelspec": {
   "display_name": "Python 3",
   "language": "python",
   "name": "python3"
  },
  "language_info": {
   "codemirror_mode": {
    "name": "ipython",
    "version": 3
   },
   "file_extension": ".py",
   "mimetype": "text/x-python",
   "name": "python",
   "nbconvert_exporter": "python",
   "pygments_lexer": "ipython3",
   "version": "3.7.3"
  }
 },
 "nbformat": 4,
 "nbformat_minor": 2
}
