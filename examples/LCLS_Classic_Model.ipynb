{
 "cells": [
  {
   "cell_type": "code",
   "execution_count": 9,
   "metadata": {},
   "outputs": [
    {
     "name": "stdout",
     "output_type": "stream",
     "text": [
      "The autoreload extension is already loaded. To reload it, use:\n",
      "  %reload_ext autoreload\n"
     ]
    }
   ],
   "source": [
    "# Useful for debugging\n",
    "%load_ext autoreload\n",
    "%autoreload 2"
   ]
  },
  {
   "cell_type": "markdown",
   "metadata": {},
   "source": [
    "# LCLS Classic model "
   ]
  },
  {
   "cell_type": "code",
   "execution_count": 18,
   "metadata": {},
   "outputs": [],
   "source": [
    "from lcls_live.bmad import LCLSTaoModel\n",
    "from lcls_live.epics import epics_proxy\n",
    "\n",
    "import numpy as np\n",
    "import os\n",
    "import json\n",
    "import matplotlib.pyplot as plt\n",
    "%matplotlib inline"
   ]
  },
  {
   "cell_type": "code",
   "execution_count": 19,
   "metadata": {},
   "outputs": [],
   "source": [
    "# Make sure this exists\n",
    "assert 'LCLS_CLASSIC_LATTICE' in os.environ"
   ]
  },
  {
   "cell_type": "code",
   "execution_count": 20,
   "metadata": {},
   "outputs": [],
   "source": [
    "# Optional.\n",
    "# For archiver, if off-site\n",
    "\n",
    "# Open an SSH tunnel in a terminal like:\n",
    "# ssh -D 8080 cmayes@rhel6-64.slac.stanford.edu \n",
    "# And then set:\n",
    "os.environ['http_proxy']='socks5h://localhost:8080'\n",
    "os.environ['HTTPS_PROXY']='socks5h://localhost:8080'\n",
    "os.environ['ALL_PROXY']='socks5h://localhost:8080'"
   ]
  },
  {
   "cell_type": "markdown",
   "metadata": {},
   "source": [
    "# Get snapshot"
   ]
  },
  {
   "cell_type": "code",
   "execution_count": 21,
   "metadata": {},
   "outputs": [
    {
     "name": "stdout",
     "output_type": "stream",
     "text": [
      "Loaded data/epics_snapshot_2018-03-06T11:22:45.000000-08:00.json with 1722 PVs\n"
     ]
    }
   ],
   "source": [
    "# Cached EPICS pv data\n",
    "epics = epics_proxy('data/epics_snapshot_2018-03-06T11:22:45.000000-08:00.json', verbose=True)"
   ]
  },
  {
   "cell_type": "code",
   "execution_count": 22,
   "metadata": {},
   "outputs": [
    {
     "name": "stdout",
     "output_type": "stream",
     "text": [
      "Initialized Tao with /var/folders/wj/lfgr01993dx79p9cm_skykbw0000gn/T/tmps2loiv4r/tao/tao.init\n",
      "Loading all settings\n",
      "Reading: settings/klystron_settings.bmad\n",
      "Written: /var/folders/wj/lfgr01993dx79p9cm_skykbw0000gn/T/tmps2loiv4r/tao/settings/klystron_settings.bmad\n",
      "Reading: settings/linac_settings.bmad\n",
      "Written: /var/folders/wj/lfgr01993dx79p9cm_skykbw0000gn/T/tmps2loiv4r/tao/settings/linac_settings.bmad\n",
      "Reading: settings/collimator_settings.bmad\n",
      "Written: /var/folders/wj/lfgr01993dx79p9cm_skykbw0000gn/T/tmps2loiv4r/tao/settings/collimator_settings.bmad\n",
      "Calling: settings/LEM_settings.tao\n",
      "Written: /var/folders/wj/lfgr01993dx79p9cm_skykbw0000gn/T/tmps2loiv4r/tao/settings/LEM_settings.tao\n",
      "offsetting bunch compressors\n",
      "call /var/folders/wj/lfgr01993dx79p9cm_skykbw0000gn/T/tmps2loiv4r/tao/scripts/BC_offsets.tao\n",
      "LEMing\n",
      "call /var/folders/wj/lfgr01993dx79p9cm_skykbw0000gn/T/tmps2loiv4r/tao/scripts/LEM.tao\n",
      "Configured.\n",
      "_______________________________________________\n",
      "_______________________________________________\n",
      "LCLS Copper Linac EPICS info\n",
      "\n",
      "Bunch charge off cathode:  249.4 pC\n",
      "VCC offset x, y:   -0.5,    0.5 mm\n",
      "Laser heater energy      39.35 μJ =>  44.85 keV rms energy spread\n",
      "Bunch charge in LTU:          0.5069 pC\n",
      "BC1 mean current:              251.8 A\n",
      "BC2 peak current:             3667.1 A\n",
      "\n",
      "Linac    Energy (MeV)      Phase (deg)    fudge (%)\n",
      "L1       238.862        -27.34        99.71\n",
      "L1X       220.038        -160.0\n",
      "L2        5000.1        -32.37        101.6\n",
      "L3       14429.0          -8.0        103.3\n",
      "\n",
      "FEL Pulse energy :                2.6 mJ\n",
      "_______________________________________________\n"
     ]
    }
   ],
   "source": [
    "M = LCLSTaoModel('lcls_classic', epics = epics,verbose=True, ploton=True)\n",
    "print(M)"
   ]
  },
  {
   "cell_type": "code",
   "execution_count": 23,
   "metadata": {},
   "outputs": [
    {
     "name": "stdout",
     "output_type": "stream",
     "text": [
      "-------------------------\n",
      "Tao> place floor beta_compare\n",
      "-------------------------\n",
      "Tao> set lattice base = model\n",
      "-------------------------\n",
      "Tao> \n"
     ]
    }
   ],
   "source": [
    "%%tao\n",
    "place floor beta_compare\n",
    "set lattice base = model"
   ]
  },
  {
   "cell_type": "code",
   "execution_count": 24,
   "metadata": {},
   "outputs": [
    {
     "name": "stdout",
     "output_type": "stream",
     "text": [
      "Requesting: http://lcls-archapp.slac.stanford.edu/retrieval/data/getDataAtTime?at=2018-11-06T11:22:45.000000-08:00&includeProxies=true\n",
      "Loading all settings\n",
      "Reading: settings/klystron_settings.bmad\n",
      "Written: /var/folders/wj/lfgr01993dx79p9cm_skykbw0000gn/T/tmps2loiv4r/tao/settings/klystron_settings.bmad\n",
      "Reading: settings/linac_settings.bmad\n",
      "Written: /var/folders/wj/lfgr01993dx79p9cm_skykbw0000gn/T/tmps2loiv4r/tao/settings/linac_settings.bmad\n",
      "Reading: settings/collimator_settings.bmad\n",
      "Written: /var/folders/wj/lfgr01993dx79p9cm_skykbw0000gn/T/tmps2loiv4r/tao/settings/collimator_settings.bmad\n",
      "Calling: settings/LEM_settings.tao\n",
      "Warning: BC1 current is zero!\n",
      "Warning: BC1 current is zero!\n",
      "Written: /var/folders/wj/lfgr01993dx79p9cm_skykbw0000gn/T/tmps2loiv4r/tao/settings/LEM_settings.tao\n",
      "offsetting bunch compressors\n",
      "call /var/folders/wj/lfgr01993dx79p9cm_skykbw0000gn/T/tmps2loiv4r/tao/scripts/BC_offsets.tao\n",
      "LEMing\n",
      "call /var/folders/wj/lfgr01993dx79p9cm_skykbw0000gn/T/tmps2loiv4r/tao/scripts/LEM.tao\n"
     ]
    }
   ],
   "source": [
    "# Restore from some other time\n",
    "M.archiver_restore('2018-11-06T11:22:45.000000-08:00')"
   ]
  },
  {
   "cell_type": "markdown",
   "metadata": {},
   "source": [
    "## Track particles"
   ]
  },
  {
   "cell_type": "code",
   "execution_count": null,
   "metadata": {},
   "outputs": [],
   "source": [
    "%%tao\n",
    "set beam_init beam_track_end = UEEND\n",
    "set csr_param n_bin = 40\n",
    "snparticle 10000\n",
    "beamon\n",
    "beamoff"
   ]
  },
  {
   "cell_type": "code",
   "execution_count": null,
   "metadata": {},
   "outputs": [],
   "source": []
  },
  {
   "cell_type": "code",
   "execution_count": null,
   "metadata": {},
   "outputs": [],
   "source": [
    "h5file1 = os.path.join(os.getcwd(), 'test1.h5')\n",
    "M.cmd('write beam -at UEBEG '+h5file1)\n",
    "\n",
    "h5file2 = os.path.join(os.getcwd(), 'test2.h5')\n",
    "M.cmd('write beam -at UEEND '+h5file2)"
   ]
  },
  {
   "cell_type": "markdown",
   "metadata": {},
   "source": [
    "# Plot"
   ]
  },
  {
   "cell_type": "code",
   "execution_count": null,
   "metadata": {},
   "outputs": [],
   "source": [
    "from opmd_beamphysics import bunch_plotting, bunch_tools, bunch_stats\n",
    "from bokeh.plotting import  show, output_notebook\n",
    "from bokeh.layouts import column, row\n",
    "output_notebook(verbose=False, hide_banner=True)\n",
    "from h5py import File"
   ]
  },
  {
   "cell_type": "code",
   "execution_count": null,
   "metadata": {},
   "outputs": [],
   "source": [
    "#h1.close()\n",
    "#h2.close()\n",
    "h1 = File(h5file1, 'r')\n",
    "h2 = File(h5file2, 'r')\n",
    "bunch1 = h1['data/00001/particles']\n",
    "bunch2 = h2['data/00001/particles']\n",
    "\n",
    "show(\n",
    "    row(\n",
    "        column(    \n",
    "            bunch_plotting.plot_bunch_h5(bunch1, 't', 'pz', liveOnly=True,  bins = 100),\n",
    "            bunch_plotting.plot_histogram_h5(bunch1, 't', bins=100)), \n",
    "    column(\n",
    "        \n",
    "    bunch_plotting.plot_bunch_h5(bunch2, 't', 'pz', liveOnly=True,  bins = 100),\n",
    "    bunch_plotting.plot_histogram_h5(bunch2, 't', bins=100))        \n",
    "\n",
    "    )\n",
    "    \n",
    "    )"
   ]
  },
  {
   "cell_type": "code",
   "execution_count": null,
   "metadata": {},
   "outputs": [],
   "source": [
    "# Cleanup\n",
    "os.remove(h5file1), os.remove(h5file2)"
   ]
  },
  {
   "cell_type": "code",
   "execution_count": null,
   "metadata": {},
   "outputs": [],
   "source": []
  }
 ],
 "metadata": {
  "kernelspec": {
   "display_name": "Python 3",
   "language": "python",
   "name": "python3"
  },
  "language_info": {
   "codemirror_mode": {
    "name": "ipython",
    "version": 3
   },
   "file_extension": ".py",
   "mimetype": "text/x-python",
   "name": "python",
   "nbconvert_exporter": "python",
   "pygments_lexer": "ipython3",
   "version": "3.7.3"
  }
 },
 "nbformat": 4,
 "nbformat_minor": 2
}
