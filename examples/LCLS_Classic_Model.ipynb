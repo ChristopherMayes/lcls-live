{
 "cells": [
  {
   "cell_type": "code",
   "execution_count": null,
   "metadata": {},
   "outputs": [],
   "source": [
    "# Useful for debugging\n",
    "%load_ext autoreload\n",
    "%autoreload 2"
   ]
  },
  {
   "cell_type": "markdown",
   "metadata": {},
   "source": [
    "# LCLS Classic model "
   ]
  },
  {
   "cell_type": "code",
   "execution_count": 2,
   "metadata": {},
   "outputs": [],
   "source": [
    "from lcls_live.bmad import LCLSTaoModel\n",
    "from lcls_live.epics import epics_proxy\n",
    "\n",
    "import numpy as np\n",
    "import os\n",
    "import json\n",
    "import matplotlib.pyplot as plt\n",
    "%matplotlib inline"
   ]
  },
  {
   "cell_type": "code",
   "execution_count": 3,
   "metadata": {},
   "outputs": [],
   "source": [
    "# Make sure this exists\n",
    "assert 'LCLS_CLASSIC_LATTICE' in os.environ"
   ]
  },
  {
   "cell_type": "code",
   "execution_count": 4,
   "metadata": {},
   "outputs": [],
   "source": [
    "# Optional.\n",
    "# For archiver, if off-site\n",
    "\n",
    "# Open an SSH tunnel in a terminal like:\n",
    "# ssh -D 8080 cmayes@rhel6-64.slac.stanford.edu \n",
    "# And then set:\n",
    "os.environ['http_proxy']='socks5h://localhost:8080'\n",
    "os.environ['HTTPS_PROXY']='socks5h://localhost:8080'\n",
    "os.environ['ALL_PROXY']='socks5h://localhost:8080'"
   ]
  },
  {
   "cell_type": "markdown",
   "metadata": {},
   "source": [
    "# Get snapshot"
   ]
  },
  {
   "cell_type": "code",
   "execution_count": 5,
   "metadata": {},
   "outputs": [
    {
     "name": "stdout",
     "output_type": "stream",
     "text": [
      "Loaded data/epics_snapshot_2018-03-06T11:22:45.000000-08:00.json with 1722 PVs\n"
     ]
    }
   ],
   "source": [
    "# Cached EPICS pv data\n",
    "epics = epics_proxy('data/epics_snapshot_2018-03-06T11:22:45.000000-08:00.json', verbose=True)"
   ]
  },
  {
   "cell_type": "code",
   "execution_count": 6,
   "metadata": {},
   "outputs": [
    {
     "name": "stdout",
     "output_type": "stream",
     "text": [
      "Initialized Tao with /var/folders/wj/lfgr01993dx79p9cm_skykbw0000gn/T/tmpovd48b7f/tao/tao.init\n",
      "Loading all settings\n",
      "Reading: settings/klystron_settings.bmad\n",
      "Written: /var/folders/wj/lfgr01993dx79p9cm_skykbw0000gn/T/tmpovd48b7f/tao/settings/klystron_settings.bmad\n",
      "Reading: settings/linac_settings.bmad\n",
      "Written: /var/folders/wj/lfgr01993dx79p9cm_skykbw0000gn/T/tmpovd48b7f/tao/settings/linac_settings.bmad\n",
      "Reading: settings/collimator_settings.bmad\n",
      "Written: /var/folders/wj/lfgr01993dx79p9cm_skykbw0000gn/T/tmpovd48b7f/tao/settings/collimator_settings.bmad\n",
      "Calling: settings/LEM_settings.tao\n",
      "Written: /var/folders/wj/lfgr01993dx79p9cm_skykbw0000gn/T/tmpovd48b7f/tao/settings/LEM_settings.tao\n",
      "offsetting bunch compressors\n",
      "call /var/folders/wj/lfgr01993dx79p9cm_skykbw0000gn/T/tmpovd48b7f/tao/scripts/BC_offsets.tao\n",
      "LEMing\n",
      "call /var/folders/wj/lfgr01993dx79p9cm_skykbw0000gn/T/tmpovd48b7f/tao/scripts/LEM.tao\n",
      "Configured.\n",
      "_______________________________________________\n",
      "_______________________________________________\n",
      "LCLS Copper Linac EPICS info\n",
      "\n",
      "Bunch charge off cathode:  249.4 pC\n",
      "VCC offset x, y:   -0.5,    0.5 mm\n",
      "Laser heater energy      39.35 μJ =>  44.85 keV rms energy spread\n",
      "Bunch charge in LTU:          0.5069 pC\n",
      "BC1 mean current:              251.8 A\n",
      "BC2 peak current:             3667.1 A\n",
      "\n",
      "Linac    Energy (MeV)      Phase (deg)    fudge (%)\n",
      "L1       238.862        -27.34        99.71\n",
      "L1X       220.038        -160.0\n",
      "L2        5000.1        -32.37        101.6\n",
      "L3       14429.0          -8.0        103.3\n",
      "\n",
      "FEL Pulse energy :                2.6 mJ\n",
      "_______________________________________________\n"
     ]
    }
   ],
   "source": [
    "M = LCLSTaoModel('lcls_classic', epics = epics,verbose=True, ploton=True)\n",
    "print(M)"
   ]
  },
  {
   "cell_type": "code",
   "execution_count": 7,
   "metadata": {},
   "outputs": [
    {
     "name": "stdout",
     "output_type": "stream",
     "text": [
      "-------------------------\n",
      "Tao> place floor beta_compare\n",
      "-------------------------\n",
      "Tao> set lattice base = model\n",
      "-------------------------\n",
      "Tao> \n"
     ]
    }
   ],
   "source": [
    "%%tao\n",
    "place floor beta_compare\n",
    "set lattice base = model"
   ]
  },
  {
   "cell_type": "code",
   "execution_count": 8,
   "metadata": {},
   "outputs": [
    {
     "name": "stdout",
     "output_type": "stream",
     "text": [
      "Requesting: http://lcls-archapp.slac.stanford.edu/retrieval/data/getDataAtTime?at=2018-11-06T11:22:45.000000-08:00&includeProxies=true\n",
      "Loading all settings\n",
      "Reading: settings/klystron_settings.bmad\n",
      "Written: /var/folders/wj/lfgr01993dx79p9cm_skykbw0000gn/T/tmpovd48b7f/tao/settings/klystron_settings.bmad\n",
      "Reading: settings/linac_settings.bmad\n",
      "Written: /var/folders/wj/lfgr01993dx79p9cm_skykbw0000gn/T/tmpovd48b7f/tao/settings/linac_settings.bmad\n",
      "Reading: settings/collimator_settings.bmad\n",
      "Written: /var/folders/wj/lfgr01993dx79p9cm_skykbw0000gn/T/tmpovd48b7f/tao/settings/collimator_settings.bmad\n",
      "Calling: settings/LEM_settings.tao\n",
      "Warning: BC1 current is zero!\n",
      "Warning: BC1 current is zero!\n",
      "Written: /var/folders/wj/lfgr01993dx79p9cm_skykbw0000gn/T/tmpovd48b7f/tao/settings/LEM_settings.tao\n",
      "offsetting bunch compressors\n",
      "call /var/folders/wj/lfgr01993dx79p9cm_skykbw0000gn/T/tmpovd48b7f/tao/scripts/BC_offsets.tao\n",
      "LEMing\n",
      "call /var/folders/wj/lfgr01993dx79p9cm_skykbw0000gn/T/tmpovd48b7f/tao/scripts/LEM.tao\n"
     ]
    }
   ],
   "source": [
    "# Restore from some other time\n",
    "M.archiver_restore('2018-11-06T11:22:45.000000-08:00')"
   ]
  },
  {
   "cell_type": "markdown",
   "metadata": {},
   "source": [
    "## Track particles"
   ]
  },
  {
   "cell_type": "code",
   "execution_count": 9,
   "metadata": {},
   "outputs": [
    {
     "name": "stdout",
     "output_type": "stream",
     "text": [
      "-------------------------\n",
      "Tao> set beam_init beam_track_end = UEEND\n",
      "-------------------------\n",
      "Tao> set csr_param n_bin = 40\n",
      "-------------------------\n",
      "Tao> snparticle 10000\n",
      "-------------------------\n",
      "Tao> beamon\n",
      "Beam at Element: 1162. Time: 1 min\n",
      "-------------------------\n",
      "Tao> beamoff\n",
      "-------------------------\n",
      "Tao> \n"
     ]
    }
   ],
   "source": [
    "%%tao\n",
    "set beam_init beam_track_end = UEEND\n",
    "set csr_param n_bin = 40\n",
    "snparticle 10000\n",
    "beamon\n",
    "beamoff"
   ]
  },
  {
   "cell_type": "code",
   "execution_count": 10,
   "metadata": {},
   "outputs": [
    {
     "data": {
      "text/plain": [
       "['[INFO] tao_write_cmd:',\n",
       " '    Written: /Users/chrisonian/Code/GitHub/lcls-live/examples/test2.h5']"
      ]
     },
     "execution_count": 10,
     "metadata": {},
     "output_type": "execute_result"
    }
   ],
   "source": [
    "h5file1 = os.path.join(os.getcwd(), 'test1.h5')\n",
    "M.cmd('write beam -at UEBEG '+h5file1)\n",
    "\n",
    "h5file2 = os.path.join(os.getcwd(), 'test2.h5')\n",
    "M.cmd('write beam -at UEEND '+h5file2)"
   ]
  },
  {
   "cell_type": "markdown",
   "metadata": {},
   "source": [
    "# Functional usage"
   ]
  },
  {
   "cell_type": "code",
   "execution_count": 11,
   "metadata": {},
   "outputs": [],
   "source": [
    "from lcls_live.bmad.evaluate import run_LCLSTao, evaluate_LCLSTao"
   ]
  },
  {
   "cell_type": "code",
   "execution_count": 12,
   "metadata": {},
   "outputs": [],
   "source": [
    "settings00 = {\n",
    "    'ele:O_BC1:angle_deg':-5.12345,\n",
    "    'ele:O_BC2:angle_deg':-2.0,\n",
    "    'ele:O_L1:phase_deg':-25.1,\n",
    "    'ele:O_L2:phase_deg':-41.4,\n",
    "    'ele:O_L3:phase_deg':0.0,\n",
    "    'ele:O_L1_fudge:f': 1.0,\n",
    "    'ele:O_L2_fudge:f': 1.0,\n",
    "    'ele:O_L3_fudge:f': 1.0,\n",
    "    'csr_param:n_bin':40,\n",
    "    'csr_param ds_track_step':0.01,\n",
    "    'beam_init:n_particle': 100,\n",
    "    'beam_init:beam_saved_at':'CE11',\n",
    "    'bmad_com:coherent_synch_rad_on':False\n",
    "}\n",
    "\n",
    "M = run_LCLSTao(settings=settings00)"
   ]
  },
  {
   "cell_type": "code",
   "execution_count": 13,
   "metadata": {},
   "outputs": [
    {
     "data": {
      "text/plain": [
       "{'lat::orbit.x[end]': 1.4073164558374e-16, 'beam::n_particle_loss[end]': 0.0}"
      ]
     },
     "execution_count": 13,
     "metadata": {},
     "output_type": "execute_result"
    }
   ],
   "source": [
    "# This will run the model, and return a dict with values from the following expressions\n",
    "expressions = [\n",
    "    'lat::orbit.x[end]',\n",
    "    'beam::n_particle_loss[end]'    \n",
    "]\n",
    "evaluate_LCLSTao(settings=settings00, expressions=expressions)"
   ]
  },
  {
   "cell_type": "markdown",
   "metadata": {},
   "source": [
    "# Plot"
   ]
  },
  {
   "cell_type": "code",
   "execution_count": 14,
   "metadata": {},
   "outputs": [],
   "source": [
    "from pmd_beamphysics import ParticleGroup, particle_paths\n",
    "from pmd_beamphysics.plot import marginal_plot\n",
    "\n",
    "from h5py import File"
   ]
  },
  {
   "cell_type": "code",
   "execution_count": 15,
   "metadata": {},
   "outputs": [],
   "source": [
    "#h1.close()\n",
    "#h2.close()\n",
    "h1 = File(h5file1, 'r')\n",
    "h2 = File(h5file2, 'r')\n",
    "bunch1 = h1['data/00001/particles']\n",
    "bunch2 = h2['data/00001/particles']"
   ]
  },
  {
   "cell_type": "code",
   "execution_count": 16,
   "metadata": {},
   "outputs": [
    {
     "data": {
      "image/png": "[encoded data removed]",
      "text/plain": [
       "<Figure size 432x288 with 3 Axes>"
      ]
     },
     "metadata": {
      "needs_background": "light"
     },
     "output_type": "display_data"
    }
   ],
   "source": [
    "P1 = ParticleGroup(bunch1)\n",
    "marginal_plot(P1, 't', 'energy')"
   ]
  },
  {
   "cell_type": "code",
   "execution_count": 17,
   "metadata": {},
   "outputs": [
    {
     "data": {
      "image/png": "[encoded data removed]",
      "text/plain": [
       "<Figure size 432x288 with 3 Axes>"
      ]
     },
     "metadata": {
      "needs_background": "light"
     },
     "output_type": "display_data"
    }
   ],
   "source": [
    "P2 = ParticleGroup(bunch2)\n",
    "marginal_plot(P2, 't', 'energy')"
   ]
  },
  {
   "cell_type": "code",
   "execution_count": 18,
   "metadata": {},
   "outputs": [
    {
     "data": {
      "text/plain": [
       "(None, None)"
      ]
     },
     "execution_count": 18,
     "metadata": {},
     "output_type": "execute_result"
    }
   ],
   "source": [
    "# Cleanup\n",
    "os.remove(h5file1), os.remove(h5file2)"
   ]
  },
  {
   "cell_type": "code",
   "execution_count": null,
   "metadata": {},
   "outputs": [],
   "source": []
  }
 ],
 "metadata": {
  "kernelspec": {
   "display_name": "Python 3",
   "language": "python",
   "name": "python3"
  },
  "language_info": {
   "codemirror_mode": {
    "name": "ipython",
    "version": 3
   },
   "file_extension": ".py",
   "mimetype": "text/x-python",
   "name": "python",
   "nbconvert_exporter": "python",
   "pygments_lexer": "ipython3",
   "version": "3.7.6"
  }
 },
 "nbformat": 4,
 "nbformat_minor": 4
}
