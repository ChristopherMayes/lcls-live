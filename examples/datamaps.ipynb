{
 "cells": [
  {
   "cell_type": "code",
   "execution_count": 1,
   "id": "d064fd74-f9d2-4c17-8c55-04e44a294c0c",
   "metadata": {},
   "outputs": [],
   "source": [
    "# Useful for debugging\n",
    "%load_ext autoreload\n",
    "%autoreload 2\n",
    "\n",
    "%config InlineBackend.figure_format = 'retina'"
   ]
  },
  {
   "cell_type": "markdown",
   "id": "4a03e7e9-5884-4158-8ff2-f890ce1415ed",
   "metadata": {},
   "source": [
    "# DataMap examples"
   ]
  },
  {
   "cell_type": "markdown",
   "id": "7591a99a-86f6-4b7a-883d-7e1c6f6d4155",
   "metadata": {},
   "source": [
    "## PVDATA\n",
    "\n",
    "Get some actual data that we will use to map"
   ]
  },
  {
   "cell_type": "code",
   "execution_count": 2,
   "id": "d546b044-bec2-430e-a2bc-b3a397096d58",
   "metadata": {},
   "outputs": [],
   "source": [
    "import json\n",
    "import os"
   ]
  },
  {
   "cell_type": "code",
   "execution_count": 3,
   "id": "1a76f3a1-d471-432a-be5b-c91700a12393",
   "metadata": {
    "tags": []
   },
   "outputs": [],
   "source": [
    "rdat = json.load(open('data/live_model_PVDB.json'))\n",
    "\n",
    "PVDATA = {k:rdat[k]['value'] for k in rdat}\n",
    "\n"
   ]
  },
  {
   "cell_type": "markdown",
   "id": "a5969162-c237-41c1-a47c-a8c336b53166",
   "metadata": {},
   "source": [
    "# Tabular\n",
    "\n",
    "Often PVs have a simple linear mapping to simulation inputs. The `TabularDataMap` helps with this"
   ]
  },
  {
   "cell_type": "code",
   "execution_count": 4,
   "id": "fbfe1532-8716-4fbd-8ce7-cf9e7a3aa08a",
   "metadata": {},
   "outputs": [],
   "source": [
    "from lcls_live.datamaps.tabular import TabularDataMap\n",
    "from lcls_live import data_dir\n",
    "\n",
    "import pandas as pd\n",
    "import dataclasses "
   ]
  },
  {
   "cell_type": "code",
   "execution_count": 5,
   "id": "289fffaf-9942-42d1-8654-830d754404e8",
   "metadata": {},
   "outputs": [
    {
     "data": {
      "text/html": [
       "<div>\n",
       "<style scoped>\n",
       "    .dataframe tbody tr th:only-of-type {\n",
       "        vertical-align: middle;\n",
       "    }\n",
       "\n",
       "    .dataframe tbody tr th {\n",
       "        vertical-align: top;\n",
       "    }\n",
       "\n",
       "    .dataframe thead th {\n",
       "        text-align: right;\n",
       "    }\n",
       "</style>\n",
       "<table border=\"1\" class=\"dataframe\">\n",
       "  <thead>\n",
       "    <tr style=\"text-align: right;\">\n",
       "      <th></th>\n",
       "      <th>name</th>\n",
       "      <th>pvname</th>\n",
       "      <th>bmad_factor</th>\n",
       "      <th>bmad_name</th>\n",
       "      <th>bmad_attribute</th>\n",
       "      <th>bmad_offset</th>\n",
       "    </tr>\n",
       "  </thead>\n",
       "  <tbody>\n",
       "    <tr>\n",
       "      <th>0</th>\n",
       "      <td>BC1_offset</td>\n",
       "      <td>BMLN:LI21:235:MOTR</td>\n",
       "      <td>0.001</td>\n",
       "      <td>O_BC1_OFFSET</td>\n",
       "      <td>offset</td>\n",
       "      <td>NaN</td>\n",
       "    </tr>\n",
       "    <tr>\n",
       "      <th>1</th>\n",
       "      <td>BC2_offset</td>\n",
       "      <td>BMLN:LI24:805:MOTR</td>\n",
       "      <td>0.001</td>\n",
       "      <td>O_BC2_OFFSET</td>\n",
       "      <td>offset</td>\n",
       "      <td>NaN</td>\n",
       "    </tr>\n",
       "    <tr>\n",
       "      <th>2</th>\n",
       "      <td>L2_phase</td>\n",
       "      <td>ACCL:LI22:1:PDES</td>\n",
       "      <td>1.000</td>\n",
       "      <td>O_L2</td>\n",
       "      <td>phase_deg</td>\n",
       "      <td>NaN</td>\n",
       "    </tr>\n",
       "    <tr>\n",
       "      <th>3</th>\n",
       "      <td>L3_phase</td>\n",
       "      <td>ACCL:LI25:1:PDES</td>\n",
       "      <td>NaN</td>\n",
       "      <td>O_L3</td>\n",
       "      <td>phase_deg</td>\n",
       "      <td>0.0</td>\n",
       "    </tr>\n",
       "  </tbody>\n",
       "</table>\n",
       "</div>"
      ],
      "text/plain": [
       "         name              pvname  bmad_factor     bmad_name bmad_attribute  \\\n",
       "0  BC1_offset  BMLN:LI21:235:MOTR        0.001  O_BC1_OFFSET         offset   \n",
       "1  BC2_offset  BMLN:LI24:805:MOTR        0.001  O_BC2_OFFSET         offset   \n",
       "2    L2_phase    ACCL:LI22:1:PDES        1.000          O_L2      phase_deg   \n",
       "3    L3_phase    ACCL:LI25:1:PDES          NaN          O_L3      phase_deg   \n",
       "\n",
       "   bmad_offset  \n",
       "0          NaN  \n",
       "1          NaN  \n",
       "2          NaN  \n",
       "3          0.0  "
      ]
     },
     "execution_count": 5,
     "metadata": {},
     "output_type": "execute_result"
    }
   ],
   "source": [
    "# Make some tabular data\n",
    "\n",
    "dat = [\n",
    "    \n",
    "    {'name': 'BC1_offset',\n",
    "     'pvname':'BMLN:LI21:235:MOTR',  # mm\n",
    "     'bmad_factor': 0.001,\n",
    "     'bmad_name': 'O_BC1_OFFSET',\n",
    "     'bmad_attribute': 'offset'\n",
    "    },\n",
    "    \n",
    "    {'name': 'BC2_offset',\n",
    "     'pvname':'BMLN:LI24:805:MOTR', # mm\n",
    "     'bmad_factor': 0.001,\n",
    "     'bmad_name': 'O_BC2_OFFSET',\n",
    "     'bmad_attribute': 'offset'\n",
    "    },\n",
    "    \n",
    "    {\n",
    "    'name': 'L2_phase',\n",
    "    'pvname': 'ACCL:LI22:1:PDES',\n",
    "    'bmad_name':'O_L2',\n",
    "    'bmad_factor': 1,\n",
    "    'bmad_attribute':'phase_deg'\n",
    "    \n",
    "},\n",
    "    {\n",
    "    'name': 'L3_phase',\n",
    "    'pvname': 'ACCL:LI25:1:PDES',\n",
    "    'bmad_name':'O_L3',\n",
    "    'bmad_attribute':'phase_deg',\n",
    "    'bmad_offset': 0\n",
    "    \n",
    "},\n",
    "]\n",
    "\n",
    "#Note that there are sone NaNs here. That's okay.\n",
    "df = pd.DataFrame(dat)\n",
    "df"
   ]
  },
  {
   "cell_type": "code",
   "execution_count": 6,
   "id": "1b64ebeb-9b23-4fd0-8035-275030f22f13",
   "metadata": {},
   "outputs": [
    {
     "data": {
      "text/plain": [
       "['BMLN:LI21:235:MOTR',\n",
       " 'BMLN:LI24:805:MOTR',\n",
       " 'ACCL:LI22:1:PDES',\n",
       " 'ACCL:LI25:1:PDES']"
      ]
     },
     "execution_count": 6,
     "metadata": {},
     "output_type": "execute_result"
    }
   ],
   "source": [
    "# Make the DataMap object, identifying the columns to be used\n",
    "DM = TabularDataMap(df, pvname='pvname', element='bmad_name', attribute='bmad_attribute', factor='bmad_factor', offset='bmad_offset')\n",
    "\n",
    "DM.pvlist"
   ]
  },
  {
   "cell_type": "code",
   "execution_count": 7,
   "id": "f16aeca9-2e50-4751-9f4c-b0f8e331c065",
   "metadata": {},
   "outputs": [
    {
     "data": {
      "text/plain": [
       "['O_BC1_OFFSET[offset] = 0.001 * 247.85581047127175',\n",
       " 'O_BC2_OFFSET[offset] = 0.001 * 385.0',\n",
       " 'O_L2[phase_deg] = -35.882813702404',\n",
       " 'O_L3[phase_deg] = 0.0']"
      ]
     },
     "execution_count": 7,
     "metadata": {},
     "output_type": "execute_result"
    }
   ],
   "source": [
    "# Process the data for Bmad commands\n",
    "DM.as_bmad(PVDATA)"
   ]
  },
  {
   "cell_type": "code",
   "execution_count": 8,
   "id": "efde17a8-fadb-4883-af48-9413af2432d7",
   "metadata": {},
   "outputs": [
    {
     "data": {
      "text/plain": [
       "['set ele O_BC1_OFFSET offset = 0.001 * 247.85581047127175',\n",
       " 'set ele O_BC2_OFFSET offset = 0.001 * 385.0',\n",
       " 'set ele O_L2 phase_deg = -35.882813702404',\n",
       " 'set ele O_L3 phase_deg = 0.0']"
      ]
     },
     "execution_count": 8,
     "metadata": {},
     "output_type": "execute_result"
    }
   ],
   "source": [
    "# or Tao commands\n",
    "DM.as_tao(PVDATA)"
   ]
  },
  {
   "cell_type": "code",
   "execution_count": 9,
   "id": "26063c63-ced3-4ffb-8eb1-edf2af6459ca",
   "metadata": {},
   "outputs": [
    {
     "data": {
      "text/html": [
       "<div>\n",
       "<style scoped>\n",
       "    .dataframe tbody tr th:only-of-type {\n",
       "        vertical-align: middle;\n",
       "    }\n",
       "\n",
       "    .dataframe tbody tr th {\n",
       "        vertical-align: top;\n",
       "    }\n",
       "\n",
       "    .dataframe thead th {\n",
       "        text-align: right;\n",
       "    }\n",
       "</style>\n",
       "<table border=\"1\" class=\"dataframe\">\n",
       "  <thead>\n",
       "    <tr style=\"text-align: right;\">\n",
       "      <th></th>\n",
       "      <th>name</th>\n",
       "      <th>pvname</th>\n",
       "      <th>bmad_factor</th>\n",
       "      <th>bmad_name</th>\n",
       "      <th>bmad_attribute</th>\n",
       "      <th>bmad_offset</th>\n",
       "    </tr>\n",
       "  </thead>\n",
       "  <tbody>\n",
       "    <tr>\n",
       "      <th>0</th>\n",
       "      <td>BC1_offset</td>\n",
       "      <td>BMLN:LI21:235:MOTR</td>\n",
       "      <td>0.001</td>\n",
       "      <td>O_BC1_OFFSET</td>\n",
       "      <td>offset</td>\n",
       "      <td>NaN</td>\n",
       "    </tr>\n",
       "    <tr>\n",
       "      <th>1</th>\n",
       "      <td>BC2_offset</td>\n",
       "      <td>BMLN:LI24:805:MOTR</td>\n",
       "      <td>0.001</td>\n",
       "      <td>O_BC2_OFFSET</td>\n",
       "      <td>offset</td>\n",
       "      <td>NaN</td>\n",
       "    </tr>\n",
       "    <tr>\n",
       "      <th>2</th>\n",
       "      <td>L2_phase</td>\n",
       "      <td>ACCL:LI22:1:PDES</td>\n",
       "      <td>1.000</td>\n",
       "      <td>O_L2</td>\n",
       "      <td>phase_deg</td>\n",
       "      <td>NaN</td>\n",
       "    </tr>\n",
       "    <tr>\n",
       "      <th>3</th>\n",
       "      <td>L3_phase</td>\n",
       "      <td>ACCL:LI25:1:PDES</td>\n",
       "      <td>NaN</td>\n",
       "      <td>O_L3</td>\n",
       "      <td>phase_deg</td>\n",
       "      <td>0.0</td>\n",
       "    </tr>\n",
       "  </tbody>\n",
       "</table>\n",
       "</div>"
      ],
      "text/plain": [
       "         name              pvname  bmad_factor     bmad_name bmad_attribute  \\\n",
       "0  BC1_offset  BMLN:LI21:235:MOTR        0.001  O_BC1_OFFSET         offset   \n",
       "1  BC2_offset  BMLN:LI24:805:MOTR        0.001  O_BC2_OFFSET         offset   \n",
       "2    L2_phase    ACCL:LI22:1:PDES        1.000          O_L2      phase_deg   \n",
       "3    L3_phase    ACCL:LI25:1:PDES          NaN          O_L3      phase_deg   \n",
       "\n",
       "   bmad_offset  \n",
       "0          NaN  \n",
       "1          NaN  \n",
       "2          NaN  \n",
       "3          0.0  "
      ]
     },
     "execution_count": 9,
     "metadata": {},
     "output_type": "execute_result"
    }
   ],
   "source": [
    "# Save, and reload\n",
    "JSON_OUT = os.path.join(data_dir, 'cu/linac_TabularDataMap.json')\n",
    "\n",
    "DM.to_json(JSON_OUT)\n",
    "\n",
    "DM2 = TabularDataMap.from_json(open(JSON_OUT).read())\n",
    "DM2.data"
   ]
  },
  {
   "cell_type": "code",
   "execution_count": 10,
   "id": "7838105c-eb4a-49b8-bb02-ac18000aef96",
   "metadata": {},
   "outputs": [
    {
     "data": {
      "text/plain": [
       "Index(['device_name', 'attribute', 'unit', 'bmad_ele_name', 'bmad_factor',\n",
       "       'bmad_attribute', 'example_value'],\n",
       "      dtype='object')"
      ]
     },
     "execution_count": 10,
     "metadata": {},
     "output_type": "execute_result"
    }
   ],
   "source": [
    "# Read a previously made csv file. This has slightly different columns\n",
    "df2 = pd.read_csv('../lcls_live/data/cu_hxr/quad_mapping.csv')[0:10]\n",
    "df2.columns"
   ]
  },
  {
   "cell_type": "code",
   "execution_count": 11,
   "id": "8512b523-f963-4dd7-9ec9-e4dfde35d548",
   "metadata": {},
   "outputs": [
    {
     "data": {
      "text/plain": [
       "['QUAD:LI21:211:BDES',\n",
       " 'QUAD:LI21:221:BDES',\n",
       " 'QUAD:LI21:243:BDES',\n",
       " 'QUAD:LI21:251:BDES',\n",
       " 'QUAD:LI21:271:BDES',\n",
       " 'QUAD:LI21:335:BDES',\n",
       " 'QUAD:LI24:713:BDES',\n",
       " 'QUAD:LI24:740:BDES',\n",
       " 'QUAD:LI24:860:BDES',\n",
       " 'QUAD:LI24:892:BDES']"
      ]
     },
     "execution_count": 11,
     "metadata": {},
     "output_type": "execute_result"
    }
   ],
   "source": [
    "df2['pvname'] = df2['device_name'] + ':' + df2['attribute']\n",
    "\n",
    "DM2 = TabularDataMap(df2, pvname='pvname', element='bmad_ele_name', attribute='bmad_attribute', factor='bmad_factor', offset='')\n",
    "DM2.pvlist"
   ]
  },
  {
   "cell_type": "code",
   "execution_count": 12,
   "id": "cede21e7-edeb-482f-877f-e9f6fd57b52e",
   "metadata": {},
   "outputs": [
    {
     "data": {
      "text/plain": [
       "['! Bad value for QM11[b1_gradient]: None',\n",
       " '! Bad value for CQ11[b1_gradient]: None',\n",
       " '! Bad value for SQ13[b1_gradient]: None',\n",
       " '! Bad value for CQ12[b1_gradient]: None',\n",
       " '! Bad value for QM12[b1_gradient]: None',\n",
       " '! Bad value for QM15[b1_gradient]: None',\n",
       " '! Bad value for QM21[b1_gradient]: None',\n",
       " '! Bad value for CQ21[b1_gradient]: None',\n",
       " '! Bad value for CQ22[b1_gradient]: None',\n",
       " '! Bad value for QM22[b1_gradient]: None']"
      ]
     },
     "execution_count": 12,
     "metadata": {},
     "output_type": "execute_result"
    }
   ],
   "source": [
    "# Here these aren't in our PVDATA\n",
    "DM2.as_tao(PVDATA)"
   ]
  },
  {
   "cell_type": "code",
   "execution_count": 13,
   "id": "15361e67-7afa-49e3-94fc-d79e522f9339",
   "metadata": {},
   "outputs": [
    {
     "data": {
      "text/plain": [
       "10"
      ]
     },
     "execution_count": 13,
     "metadata": {},
     "output_type": "execute_result"
    }
   ],
   "source": [
    "# We could  check beforehand:\n",
    "missing = [name for name in DM2.pvlist if name not in PVDATA]\n",
    "len(missing)"
   ]
  },
  {
   "cell_type": "markdown",
   "id": "c7e7cc44-5048-4341-9097-6223ae77b2dd",
   "metadata": {},
   "source": [
    "# Klystrons"
   ]
  },
  {
   "cell_type": "code",
   "execution_count": 14,
   "id": "e414ca02-675c-4e5b-9dbf-b3eaca83edfc",
   "metadata": {},
   "outputs": [],
   "source": [
    "from lcls_live.datamaps.klystron import KlystronDataMap, klystron_pvinfo, existing_LCLS_klystrons_sector_station"
   ]
  },
  {
   "cell_type": "code",
   "execution_count": 15,
   "id": "70a5d22f-fae1-4e94-b98f-54951d2d7a70",
   "metadata": {},
   "outputs": [
    {
     "data": {
      "text/plain": [
       "(20, 6)"
      ]
     },
     "execution_count": 15,
     "metadata": {},
     "output_type": "execute_result"
    }
   ],
   "source": [
    "# Get a sector, station that exists\n",
    "existing_LCLS_klystrons_sector_station[0]"
   ]
  },
  {
   "cell_type": "code",
   "execution_count": 16,
   "id": "3c52e276-51b9-4422-ae7f-68c8187158e5",
   "metadata": {},
   "outputs": [
    {
     "data": {
      "text/plain": [
       "{'name': 'K20_6',\n",
       " 'sector': 20,\n",
       " 'station': 6,\n",
       " 'description': 'Klystron in sector 20, station 6 for the GUN',\n",
       " 'enld_pvname': 'GUN:IN20:1:GN1_AAVG',\n",
       " 'phase_pvname': 'GUN:IN20:1:GN1_PAVG'}"
      ]
     },
     "execution_count": 16,
     "metadata": {},
     "output_type": "execute_result"
    }
   ],
   "source": [
    "# This will return a flat dict of info\n",
    "klystron_pvinfo(20, 6)"
   ]
  },
  {
   "cell_type": "code",
   "execution_count": 17,
   "id": "ddcdfa73-581a-4d6b-bba3-fb168ff4c58d",
   "metadata": {},
   "outputs": [
    {
     "data": {
      "text/plain": [
       "\u001b[0;31mInit signature:\u001b[0m\n",
       "\u001b[0mKlystronDataMap\u001b[0m\u001b[0;34m(\u001b[0m\u001b[0;34m\u001b[0m\n",
       "\u001b[0;34m\u001b[0m    \u001b[0mname\u001b[0m\u001b[0;34m:\u001b[0m \u001b[0mstr\u001b[0m\u001b[0;34m,\u001b[0m\u001b[0;34m\u001b[0m\n",
       "\u001b[0;34m\u001b[0m    \u001b[0msector\u001b[0m\u001b[0;34m:\u001b[0m \u001b[0mint\u001b[0m\u001b[0;34m,\u001b[0m\u001b[0;34m\u001b[0m\n",
       "\u001b[0;34m\u001b[0m    \u001b[0mstation\u001b[0m\u001b[0;34m:\u001b[0m \u001b[0mint\u001b[0m\u001b[0;34m,\u001b[0m\u001b[0;34m\u001b[0m\n",
       "\u001b[0;34m\u001b[0m    \u001b[0mdescription\u001b[0m\u001b[0;34m:\u001b[0m \u001b[0mstr\u001b[0m \u001b[0;34m=\u001b[0m \u001b[0;34m''\u001b[0m\u001b[0;34m,\u001b[0m\u001b[0;34m\u001b[0m\n",
       "\u001b[0;34m\u001b[0m    \u001b[0menld_pvname\u001b[0m\u001b[0;34m:\u001b[0m \u001b[0mstr\u001b[0m \u001b[0;34m=\u001b[0m \u001b[0;34m''\u001b[0m\u001b[0;34m,\u001b[0m\u001b[0;34m\u001b[0m\n",
       "\u001b[0;34m\u001b[0m    \u001b[0mphase_pvname\u001b[0m\u001b[0;34m:\u001b[0m \u001b[0mstr\u001b[0m \u001b[0;34m=\u001b[0m \u001b[0;34m''\u001b[0m\u001b[0;34m,\u001b[0m\u001b[0;34m\u001b[0m\n",
       "\u001b[0;34m\u001b[0m    \u001b[0maccelerate_pvname\u001b[0m\u001b[0;34m:\u001b[0m \u001b[0mstr\u001b[0m \u001b[0;34m=\u001b[0m \u001b[0;34m''\u001b[0m\u001b[0;34m,\u001b[0m\u001b[0;34m\u001b[0m\n",
       "\u001b[0;34m\u001b[0m    \u001b[0mswrd_pvname\u001b[0m\u001b[0;34m:\u001b[0m \u001b[0mstr\u001b[0m \u001b[0;34m=\u001b[0m \u001b[0;34m''\u001b[0m\u001b[0;34m,\u001b[0m\u001b[0;34m\u001b[0m\n",
       "\u001b[0;34m\u001b[0m    \u001b[0mstat_pvname\u001b[0m\u001b[0;34m:\u001b[0m \u001b[0mstr\u001b[0m \u001b[0;34m=\u001b[0m \u001b[0;34m''\u001b[0m\u001b[0;34m,\u001b[0m\u001b[0;34m\u001b[0m\n",
       "\u001b[0;34m\u001b[0m    \u001b[0mhdsc_pvname\u001b[0m\u001b[0;34m:\u001b[0m \u001b[0mstr\u001b[0m \u001b[0;34m=\u001b[0m \u001b[0;34m''\u001b[0m\u001b[0;34m,\u001b[0m\u001b[0;34m\u001b[0m\n",
       "\u001b[0;34m\u001b[0m    \u001b[0mdsta_pvname\u001b[0m\u001b[0;34m:\u001b[0m \u001b[0mstr\u001b[0m \u001b[0;34m=\u001b[0m \u001b[0;34m''\u001b[0m\u001b[0;34m,\u001b[0m\u001b[0;34m\u001b[0m\n",
       "\u001b[0;34m\u001b[0m\u001b[0;34m)\u001b[0m \u001b[0;34m->\u001b[0m \u001b[0;32mNone\u001b[0m\u001b[0;34m\u001b[0m\u001b[0;34m\u001b[0m\u001b[0m\n",
       "\u001b[0;31mDocstring:\u001b[0m     \n",
       "Attributes\n",
       "----------\n",
       "bmad_name : str\n",
       "pvlist : list[str]\n",
       "\n",
       "Methods\n",
       "-------\n",
       "evaluate(pvdata) :\n",
       "    Returns\n",
       "    -------\n",
       "    dict of:\n",
       "        enld : float\n",
       "            energy gain in MeV\n",
       "        phase : float\n",
       "            phase in deg\n",
       "        in_use : bool\n",
       "            \n",
       "            \n",
       "    \n",
       "\n",
       "as_bmad(pvdata)\n",
       "\u001b[0;31mFile:\u001b[0m           ~/Code/GitHub/lcls-live/lcls_live/datamaps/klystron.py\n",
       "\u001b[0;31mType:\u001b[0m           type\n",
       "\u001b[0;31mSubclasses:\u001b[0m     \n"
      ]
     },
     "metadata": {},
     "output_type": "display_data"
    }
   ],
   "source": [
    "?KlystronDataMap"
   ]
  },
  {
   "cell_type": "code",
   "execution_count": 18,
   "id": "164e79d0-c5e1-40c6-b734-469cff9e1434",
   "metadata": {},
   "outputs": [
    {
     "data": {
      "text/plain": [
       "KlystronDataMap(name='K20_6', sector=20, station=6, description='Klystron in sector 20, station 6 for the GUN', enld_pvname='GUN:IN20:1:GN1_AAVG', phase_pvname='GUN:IN20:1:GN1_PAVG', accelerate_pvname='', swrd_pvname='', stat_pvname='', hdsc_pvname='', dsta_pvname='')"
      ]
     },
     "execution_count": 18,
     "metadata": {},
     "output_type": "execute_result"
    }
   ],
   "source": [
    "# This makes an object\n",
    "KlystronDataMap(**klystron_pvinfo(20, 6))"
   ]
  },
  {
   "cell_type": "code",
   "execution_count": 19,
   "id": "1d1ecc7e-0490-4fb5-91b8-5244e234cfa7",
   "metadata": {},
   "outputs": [
    {
     "data": {
      "text/plain": [
       "['GUN:IN20:1:GN1_AAVG', 'GUN:IN20:1:GN1_PAVG']"
      ]
     },
     "execution_count": 19,
     "metadata": {},
     "output_type": "execute_result"
    }
   ],
   "source": [
    "k = KlystronDataMap(**klystron_pvinfo(20, 6))\n",
    "\n",
    "# These are the PV names needed to mapping data\n",
    "k.pvlist\n"
   ]
  },
  {
   "cell_type": "code",
   "execution_count": 20,
   "id": "12bd693b-b44f-4096-a787-5edcc91023f7",
   "metadata": {},
   "outputs": [
    {
     "data": {
      "text/plain": [
       "{'enld': 0.000929853773306308, 'phase': 3.8561623144726838, 'in_use': True}"
      ]
     },
     "execution_count": 20,
     "metadata": {},
     "output_type": "execute_result"
    }
   ],
   "source": [
    "# This will extract those and produce useful information\n",
    "k.evaluate(PVDATA)"
   ]
  },
  {
   "cell_type": "code",
   "execution_count": 21,
   "id": "a65a46a1-4014-492d-b834-5d7c9b91e7f4",
   "metadata": {},
   "outputs": [
    {
     "data": {
      "text/plain": [
       "['O_K20_6[ENLD_MeV] = 0.000929853773306308',\n",
       " 'O_K20_6[phase_deg] = 3.8561623144726838',\n",
       " 'O_K20_6[in_use] = 1']"
      ]
     },
     "execution_count": 21,
     "metadata": {},
     "output_type": "execute_result"
    }
   ],
   "source": [
    "# Actual inputs for a simulation\n",
    "k.as_bmad(PVDATA)"
   ]
  },
  {
   "cell_type": "code",
   "execution_count": 22,
   "id": "d5c560fe-6c77-40ed-bebf-fb10ada628f2",
   "metadata": {},
   "outputs": [],
   "source": [
    "# Make a large dict to look up a DataMap for any existing klystron by name\n",
    "\n",
    "KLYSTRON_DATAMAP = {}\n",
    "for sector, station in existing_LCLS_klystrons_sector_station:\n",
    "   # print(sector, station)    \n",
    "    info = klystron_pvinfo(sector, station)\n",
    "    k = KlystronDataMap(**info)\n",
    "\n",
    "    KLYSTRON_DATAMAP[info['name']] = k"
   ]
  },
  {
   "cell_type": "code",
   "execution_count": 23,
   "id": "a8b2fc9a-e3b6-4a2d-8fb3-3b66b90a061f",
   "metadata": {},
   "outputs": [],
   "source": [
    "# Check that our data is sufficient \n",
    "\n",
    "for name, k in KLYSTRON_DATAMAP.items():\n",
    "    for pv in k.pvlist:\n",
    "        if pv not in PVDATA:\n",
    "            print(k.name, pv)"
   ]
  },
  {
   "cell_type": "markdown",
   "id": "5df782ee-3485-46bd-b4d9-69e658c16981",
   "metadata": {},
   "source": [
    "## Export to JSON\n",
    "\n",
    "Using the `dataclasses.asdict` function, the object can be endoded for dumping to JSON, and then simply reloaded."
   ]
  },
  {
   "cell_type": "code",
   "execution_count": 24,
   "id": "6308ab52-6e51-495b-b035-7a9789245e4f",
   "metadata": {},
   "outputs": [
    {
     "data": {
      "text/plain": [
       "'{\"name\": \"K20_6\", \"sector\": 20, \"station\": 6, \"description\": \"Klystron in sector 20, station 6 for the GUN\", \"enld_pvname\": \"GUN:IN20:1:GN1_AAVG\", \"phase_pvname\": \"GUN:IN20:1:GN1_PAVG\", \"accelerate_pvname\": \"\", \"swrd_pvname\": \"\", \"stat_pvname\": \"\", \"hdsc_pvname\": \"\", \"dsta_pvname\": \"\"}'"
      ]
     },
     "execution_count": 24,
     "metadata": {},
     "output_type": "execute_result"
    }
   ],
   "source": [
    "import dataclasses\n",
    "class EnhancedJSONEncoder(json.JSONEncoder):\n",
    "    def default(self, o):\n",
    "        if dataclasses.is_dataclass(o):\n",
    "            return dataclasses.asdict(o)\n",
    "        return super().default(o)\n",
    "\n",
    "# Example serialization\n",
    "json.dumps(KLYSTRON_DATAMAP['K20_6'], cls=EnhancedJSONEncoder)"
   ]
  },
  {
   "cell_type": "code",
   "execution_count": 25,
   "id": "d1960752-6899-430f-b659-1d175f1ced27",
   "metadata": {},
   "outputs": [
    {
     "data": {
      "text/plain": [
       "KlystronDataMap(name='K20_6', sector=20, station=6, description='Klystron in sector 20, station 6 for the GUN', enld_pvname='GUN:IN20:1:GN1_AAVG', phase_pvname='GUN:IN20:1:GN1_PAVG', accelerate_pvname='', swrd_pvname='', stat_pvname='', hdsc_pvname='', dsta_pvname='')"
      ]
     },
     "execution_count": 25,
     "metadata": {},
     "output_type": "execute_result"
    }
   ],
   "source": [
    "# Export to file and reload\n",
    "\n",
    "JSONFILE = os.path.join(data_dir, 'cu/klystron_datamaps.json')\n",
    "\n",
    "json.dump(KLYSTRON_DATAMAP, open(JSONFILE, 'w'), cls=EnhancedJSONEncoder)\n",
    "\n",
    "KLYSTRON_DATAMAP2 = {k:KlystronDataMap(**v) for k, v in json.load(open(JSONFILE)).items()}\n",
    "KLYSTRON_DATAMAP2['K20_6']"
   ]
  }
 ],
 "metadata": {
  "kernelspec": {
   "display_name": "Python 3",
   "language": "python",
   "name": "python3"
  },
  "language_info": {
   "codemirror_mode": {
    "name": "ipython",
    "version": 3
   },
   "file_extension": ".py",
   "mimetype": "text/x-python",
   "name": "python",
   "nbconvert_exporter": "python",
   "pygments_lexer": "ipython3",
   "version": "3.9.2"
  }
 },
 "nbformat": 4,
 "nbformat_minor": 5
}
