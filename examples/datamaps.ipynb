{
 "cells": [
  {
   "cell_type": "code",
   "execution_count": 1,
   "id": "d064fd74-f9d2-4c17-8c55-04e44a294c0c",
   "metadata": {},
   "outputs": [],
   "source": [
    "# Useful for debugging\n",
    "%load_ext autoreload\n",
    "%autoreload 2\n",
    "\n",
    "%config InlineBackend.figure_format = 'retina'"
   ]
  },
  {
   "cell_type": "markdown",
   "id": "4a03e7e9-5884-4158-8ff2-f890ce1415ed",
   "metadata": {},
   "source": [
    "# DataMap examples"
   ]
  },
  {
   "cell_type": "markdown",
   "id": "7591a99a-86f6-4b7a-883d-7e1c6f6d4155",
   "metadata": {},
   "source": [
    "## PVDATA\n",
    "\n",
    "Get some actual data that we will use to map"
   ]
  },
  {
   "cell_type": "code",
   "execution_count": 2,
   "id": "d546b044-bec2-430e-a2bc-b3a397096d58",
   "metadata": {},
   "outputs": [],
   "source": [
    "import json"
   ]
  },
  {
   "cell_type": "code",
   "execution_count": 3,
   "id": "1a76f3a1-d471-432a-be5b-c91700a12393",
   "metadata": {},
   "outputs": [],
   "source": [
    "rdat = json.load(open('data/live_model_PVDB.json'))\n",
    "\n",
    "PVDATA = {k:rdat[k]['value'] for k in rdat}"
   ]
  },
  {
   "cell_type": "markdown",
   "id": "c7e7cc44-5048-4341-9097-6223ae77b2dd",
   "metadata": {},
   "source": [
    "## Klystrons"
   ]
  },
  {
   "cell_type": "code",
   "execution_count": 4,
   "id": "e414ca02-675c-4e5b-9dbf-b3eaca83edfc",
   "metadata": {},
   "outputs": [],
   "source": [
    "from lcls_live.datamaps.klystron import KlystronDataMap, klystron_pvinfo, existing_LCLS_klystrons_sector_station"
   ]
  },
  {
   "cell_type": "code",
   "execution_count": 5,
   "id": "70a5d22f-fae1-4e94-b98f-54951d2d7a70",
   "metadata": {},
   "outputs": [
    {
     "data": {
      "text/plain": [
       "(20, 6)"
      ]
     },
     "execution_count": 5,
     "metadata": {},
     "output_type": "execute_result"
    }
   ],
   "source": [
    "# Get a sector, station that exists\n",
    "existing_LCLS_klystrons_sector_station[0]"
   ]
  },
  {
   "cell_type": "code",
   "execution_count": 6,
   "id": "3c52e276-51b9-4422-ae7f-68c8187158e5",
   "metadata": {},
   "outputs": [
    {
     "data": {
      "text/plain": [
       "{'name': 'K20_6',\n",
       " 'sector': 20,\n",
       " 'station': 6,\n",
       " 'description': 'Klystron in sector 20, station 6 for the GUN',\n",
       " 'enld_pvname': 'GUN:IN20:1:GN1_AAVG',\n",
       " 'phase_pvname': 'GUN:IN20:1:GN1_PAVG'}"
      ]
     },
     "execution_count": 6,
     "metadata": {},
     "output_type": "execute_result"
    }
   ],
   "source": [
    "# This will return a flat dict of info\n",
    "klystron_pvinfo(20, 6)"
   ]
  },
  {
   "cell_type": "code",
   "execution_count": 7,
   "id": "ddcdfa73-581a-4d6b-bba3-fb168ff4c58d",
   "metadata": {},
   "outputs": [
    {
     "data": {
      "text/plain": [
       "\u001b[0;31mInit signature:\u001b[0m\n",
       "\u001b[0mKlystronDataMap\u001b[0m\u001b[0;34m(\u001b[0m\u001b[0;34m\u001b[0m\n",
       "\u001b[0;34m\u001b[0m    \u001b[0mname\u001b[0m\u001b[0;34m:\u001b[0m \u001b[0mstr\u001b[0m\u001b[0;34m,\u001b[0m\u001b[0;34m\u001b[0m\n",
       "\u001b[0;34m\u001b[0m    \u001b[0msector\u001b[0m\u001b[0;34m:\u001b[0m \u001b[0mint\u001b[0m\u001b[0;34m,\u001b[0m\u001b[0;34m\u001b[0m\n",
       "\u001b[0;34m\u001b[0m    \u001b[0mstation\u001b[0m\u001b[0;34m:\u001b[0m \u001b[0mint\u001b[0m\u001b[0;34m,\u001b[0m\u001b[0;34m\u001b[0m\n",
       "\u001b[0;34m\u001b[0m    \u001b[0mdescription\u001b[0m\u001b[0;34m:\u001b[0m \u001b[0mstr\u001b[0m \u001b[0;34m=\u001b[0m \u001b[0;34m''\u001b[0m\u001b[0;34m,\u001b[0m\u001b[0;34m\u001b[0m\n",
       "\u001b[0;34m\u001b[0m    \u001b[0menld_pvname\u001b[0m\u001b[0;34m:\u001b[0m \u001b[0mstr\u001b[0m \u001b[0;34m=\u001b[0m \u001b[0;34m''\u001b[0m\u001b[0;34m,\u001b[0m\u001b[0;34m\u001b[0m\n",
       "\u001b[0;34m\u001b[0m    \u001b[0mphase_pvname\u001b[0m\u001b[0;34m:\u001b[0m \u001b[0mstr\u001b[0m \u001b[0;34m=\u001b[0m \u001b[0;34m''\u001b[0m\u001b[0;34m,\u001b[0m\u001b[0;34m\u001b[0m\n",
       "\u001b[0;34m\u001b[0m    \u001b[0maccelerate_pvname\u001b[0m\u001b[0;34m:\u001b[0m \u001b[0mstr\u001b[0m \u001b[0;34m=\u001b[0m \u001b[0;34m''\u001b[0m\u001b[0;34m,\u001b[0m\u001b[0;34m\u001b[0m\n",
       "\u001b[0;34m\u001b[0m    \u001b[0mswrd_pvname\u001b[0m\u001b[0;34m:\u001b[0m \u001b[0mstr\u001b[0m \u001b[0;34m=\u001b[0m \u001b[0;34m''\u001b[0m\u001b[0;34m,\u001b[0m\u001b[0;34m\u001b[0m\n",
       "\u001b[0;34m\u001b[0m    \u001b[0mstat_pvname\u001b[0m\u001b[0;34m:\u001b[0m \u001b[0mstr\u001b[0m \u001b[0;34m=\u001b[0m \u001b[0;34m''\u001b[0m\u001b[0;34m,\u001b[0m\u001b[0;34m\u001b[0m\n",
       "\u001b[0;34m\u001b[0m    \u001b[0mhdsc_pvname\u001b[0m\u001b[0;34m:\u001b[0m \u001b[0mstr\u001b[0m \u001b[0;34m=\u001b[0m \u001b[0;34m''\u001b[0m\u001b[0;34m,\u001b[0m\u001b[0;34m\u001b[0m\n",
       "\u001b[0;34m\u001b[0m    \u001b[0mdsta_pvname\u001b[0m\u001b[0;34m:\u001b[0m \u001b[0mstr\u001b[0m \u001b[0;34m=\u001b[0m \u001b[0;34m''\u001b[0m\u001b[0;34m,\u001b[0m\u001b[0;34m\u001b[0m\n",
       "\u001b[0;34m\u001b[0m\u001b[0;34m)\u001b[0m \u001b[0;34m->\u001b[0m \u001b[0;32mNone\u001b[0m\u001b[0;34m\u001b[0m\u001b[0;34m\u001b[0m\u001b[0m\n",
       "\u001b[0;31mDocstring:\u001b[0m     \n",
       "Attributes\n",
       "----------\n",
       "bmad_name : str\n",
       "pvlist : list[str]\n",
       "\n",
       "Methods\n",
       "-------\n",
       "evaluate(pvdata) :\n",
       "    Returns\n",
       "    -------\n",
       "    dict of:\n",
       "        enld : float\n",
       "            energy gain in MeV\n",
       "        phase : float\n",
       "            phase in deg\n",
       "        in_use : bool\n",
       "            \n",
       "            \n",
       "    \n",
       "\n",
       "as_bmad(pvdata)\n",
       "\u001b[0;31mFile:\u001b[0m           ~/Code/GitHub/lcls-live/lcls_live/datamaps/klystron.py\n",
       "\u001b[0;31mType:\u001b[0m           type\n",
       "\u001b[0;31mSubclasses:\u001b[0m     \n"
      ]
     },
     "metadata": {},
     "output_type": "display_data"
    }
   ],
   "source": [
    "?KlystronDataMap"
   ]
  },
  {
   "cell_type": "code",
   "execution_count": 8,
   "id": "164e79d0-c5e1-40c6-b734-469cff9e1434",
   "metadata": {},
   "outputs": [
    {
     "data": {
      "text/plain": [
       "KlystronDataMap(name='K20_6', sector=20, station=6, description='Klystron in sector 20, station 6 for the GUN', enld_pvname='GUN:IN20:1:GN1_AAVG', phase_pvname='GUN:IN20:1:GN1_PAVG', accelerate_pvname='', swrd_pvname='', stat_pvname='', hdsc_pvname='', dsta_pvname='')"
      ]
     },
     "execution_count": 8,
     "metadata": {},
     "output_type": "execute_result"
    }
   ],
   "source": [
    "# This makes an object\n",
    "KlystronDataMap(**klystron_pvinfo(20, 6))"
   ]
  },
  {
   "cell_type": "code",
   "execution_count": 9,
   "id": "1d1ecc7e-0490-4fb5-91b8-5244e234cfa7",
   "metadata": {},
   "outputs": [
    {
     "data": {
      "text/plain": [
       "['GUN:IN20:1:GN1_AAVG', 'GUN:IN20:1:GN1_PAVG']"
      ]
     },
     "execution_count": 9,
     "metadata": {},
     "output_type": "execute_result"
    }
   ],
   "source": [
    "k = KlystronDataMap(**klystron_pvinfo(20, 6))\n",
    "\n",
    "# These are the PV names needed to mapping data\n",
    "k.pvlist\n"
   ]
  },
  {
   "cell_type": "code",
   "execution_count": 10,
   "id": "12bd693b-b44f-4096-a787-5edcc91023f7",
   "metadata": {},
   "outputs": [
    {
     "data": {
      "text/plain": [
       "{'enld': 0.000929853773306308, 'phase': 3.8561623144726838, 'in_use': True}"
      ]
     },
     "execution_count": 10,
     "metadata": {},
     "output_type": "execute_result"
    }
   ],
   "source": [
    "# This will extract those and produce useful information\n",
    "k.evaluate(PVDATA)"
   ]
  },
  {
   "cell_type": "code",
   "execution_count": 11,
   "id": "a65a46a1-4014-492d-b834-5d7c9b91e7f4",
   "metadata": {},
   "outputs": [
    {
     "data": {
      "text/plain": [
       "{'O_K20_6[ENLD_MeV]': 0.000929853773306308,\n",
       " 'O_K20_6[phase_deg]': 3.8561623144726838,\n",
       " 'O_K20_6[in_use]': 1}"
      ]
     },
     "execution_count": 11,
     "metadata": {},
     "output_type": "execute_result"
    }
   ],
   "source": [
    "# Actual inputs for a simulation\n",
    "k.as_bmad(PVDATA)"
   ]
  },
  {
   "cell_type": "code",
   "execution_count": 12,
   "id": "d5c560fe-6c77-40ed-bebf-fb10ada628f2",
   "metadata": {},
   "outputs": [],
   "source": [
    "# Make a large dict to look up a DataMap for any existing klystron by name\n",
    "\n",
    "KLYSTRON_DATAMAP = {}\n",
    "for sector, station in existing_LCLS_klystrons_sector_station:\n",
    "   # print(sector, station)    \n",
    "    info = klystron_pvinfo(sector, station)\n",
    "    k = KlystronDataMap(**info)\n",
    "\n",
    "    KLYSTRON_DATAMAP[info['name']] = k"
   ]
  },
  {
   "cell_type": "code",
   "execution_count": 13,
   "id": "f11db1f1-408d-4021-8422-67b62ca6c12d",
   "metadata": {},
   "outputs": [
    {
     "data": {
      "text/plain": [
       "['KLYS:LI23:81:ENLD',\n",
       " 'KLYS:LI23:81:PHAS',\n",
       " 'KLYS:LI23:81:BEAMCODE1_STAT',\n",
       " 'KLYS:LI23:81:SWRD',\n",
       " 'KLYS:LI23:81:STAT',\n",
       " 'KLYS:LI23:81:HDSC',\n",
       " 'KLYS:LI23:81:DSTA']"
      ]
     },
     "execution_count": 13,
     "metadata": {},
     "output_type": "execute_result"
    }
   ],
   "source": [
    "k = KLYSTRON_DATAMAP['K23_8']\n",
    "k.pvlist"
   ]
  },
  {
   "cell_type": "code",
   "execution_count": 14,
   "id": "d1960752-6899-430f-b659-1d175f1ced27",
   "metadata": {},
   "outputs": [],
   "source": [
    "# Check that our data is sufficient \n",
    "\n",
    "for name, k in KLYSTRON_DATAMAP.items():\n",
    "    for pv in k.pvlist:\n",
    "        if pv not in PVDATA:\n",
    "            print(k.name, pv)"
   ]
  }
 ],
 "metadata": {
  "kernelspec": {
   "display_name": "Python 3",
   "language": "python",
   "name": "python3"
  },
  "language_info": {
   "codemirror_mode": {
    "name": "ipython",
    "version": 3
   },
   "file_extension": ".py",
   "mimetype": "text/x-python",
   "name": "python",
   "nbconvert_exporter": "python",
   "pygments_lexer": "ipython3",
   "version": "3.9.2"
  }
 },
 "nbformat": 4,
 "nbformat_minor": 5
}
