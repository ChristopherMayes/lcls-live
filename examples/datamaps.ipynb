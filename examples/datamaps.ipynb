{
 "cells": [
  {
   "cell_type": "code",
   "execution_count": null,
   "id": "d064fd74-f9d2-4c17-8c55-04e44a294c0c",
   "metadata": {},
   "outputs": [],
   "source": [
    "# Useful for debugging\n",
    "%load_ext autoreload\n",
    "%autoreload 2\n",
    "\n",
    "%config InlineBackend.figure_format = 'retina'"
   ]
  },
  {
   "cell_type": "markdown",
   "id": "4a03e7e9-5884-4158-8ff2-f890ce1415ed",
   "metadata": {},
   "source": [
    "# DataMap examples\n",
    "\n",
    "`DataMaps` are configurable objects with the purpose of translating PV values to simulation inputs. They do *not* retain any values. Rather, they provide methods `.to_tao(pvdata)`, `.to_bmad(pvdata)` that will produce input for Tao and Bmad, respectively, from a dict-like `pvdata` object with the actual PV names and values. "
   ]
  },
  {
   "cell_type": "markdown",
   "id": "7591a99a-86f6-4b7a-883d-7e1c6f6d4155",
   "metadata": {},
   "source": [
    "## PVDATA\n",
    "\n",
    "Get some actual data that we will use to map"
   ]
  },
  {
   "cell_type": "code",
   "execution_count": null,
   "id": "d546b044-bec2-430e-a2bc-b3a397096d58",
   "metadata": {},
   "outputs": [],
   "source": [
    "import json\n",
    "import os"
   ]
  },
  {
   "cell_type": "code",
   "execution_count": null,
   "id": "1a76f3a1-d471-432a-be5b-c91700a12393",
   "metadata": {
    "tags": []
   },
   "outputs": [],
   "source": [
    "PVDATA = json.load(open('data/PVDATA-2021-04-21T08:10:25.000000-07:00.json'))\n",
    "len(PVDATA)"
   ]
  },
  {
   "cell_type": "markdown",
   "id": "a5969162-c237-41c1-a47c-a8c336b53166",
   "metadata": {},
   "source": [
    "# Tabular\n",
    "\n",
    "Often PVs have a simple linear mapping to simulation inputs. The `TabularDataMap` helps with this"
   ]
  },
  {
   "cell_type": "code",
   "execution_count": null,
   "id": "fbfe1532-8716-4fbd-8ce7-cf9e7a3aa08a",
   "metadata": {},
   "outputs": [],
   "source": [
    "from lcls_live.datamaps.tabular import TabularDataMap\n",
    "from lcls_live import data_dir\n",
    "\n",
    "import pandas as pd\n",
    "import dataclasses "
   ]
  },
  {
   "cell_type": "code",
   "execution_count": null,
   "id": "289fffaf-9942-42d1-8654-830d754404e8",
   "metadata": {},
   "outputs": [],
   "source": [
    "# Make some tabular data\n",
    "dat = [\n",
    "    \n",
    "    {'name': 'BC1_offset',\n",
    "     'pvname':'BMLN:LI21:235:MOTR',  # mm\n",
    "     'bmad_factor': 0.001,\n",
    "     'bmad_name': 'O_BC1_OFFSET',\n",
    "     'bmad_attribute': 'offset'\n",
    "    },\n",
    "    \n",
    "    {'name': 'BC2_offset',\n",
    "     'pvname':'BMLN:LI24:805:MOTR', # mm\n",
    "     'bmad_factor': 0.001,\n",
    "     'bmad_name': 'O_BC2_OFFSET',\n",
    "     'bmad_attribute': 'offset'\n",
    "    },\n",
    "    \n",
    "    {\n",
    "    'name': 'L1_phase',\n",
    "    'description': 'Controls the L1 phase, which is the single klystron L21_1. We will disable this for now, because the KlystronDataMap handles the phase directly.',\n",
    "    'pvname': 'ACCL:LI21:1:L1S_S_PV',\n",
    "    'bmad_name':'O_L1',\n",
    "    'bmad_factor': 0,  # We'll disable this for now. The Klystron handles it. \n",
    "    'bmad_attribute':'phase_deg'\n",
    "    \n",
    "},    \n",
    "    \n",
    "    {\n",
    "    'name': 'L2_phase',\n",
    "    'pvname': 'ACCL:LI22:1:PDES',\n",
    "    'bmad_name':'O_L2',\n",
    "    'bmad_factor': 1,\n",
    "    'bmad_attribute':'phase_deg'\n",
    "    \n",
    "},\n",
    "    {\n",
    "    'name': 'L3_phase',\n",
    "    'pvname': 'ACCL:LI25:1:PDES',\n",
    "    'bmad_name':'O_L3',\n",
    "    'bmad_attribute':'phase_deg',\n",
    "    'bmad_offset': 0\n",
    "    \n",
    "},\n",
    "]\n",
    "\n",
    "\n",
    "\n",
    "\n",
    "\n",
    "\n",
    "#Note that there are sone NaNs here. That's okay.\n",
    "df = pd.DataFrame(dat)\n",
    "df"
   ]
  },
  {
   "cell_type": "code",
   "execution_count": null,
   "id": "1b64ebeb-9b23-4fd0-8035-275030f22f13",
   "metadata": {},
   "outputs": [],
   "source": [
    "# Make the DataMap object, identifying the columns to be used\n",
    "DM = TabularDataMap(df, pvname='pvname', element='bmad_name', attribute='bmad_attribute', factor='bmad_factor', offset='bmad_offset')\n",
    "\n",
    "DM.pvlist"
   ]
  },
  {
   "cell_type": "code",
   "execution_count": null,
   "id": "f16aeca9-2e50-4751-9f4c-b0f8e331c065",
   "metadata": {},
   "outputs": [],
   "source": [
    "# Process the data for Bmad commands\n",
    "DM.as_bmad(PVDATA)"
   ]
  },
  {
   "cell_type": "code",
   "execution_count": null,
   "id": "efde17a8-fadb-4883-af48-9413af2432d7",
   "metadata": {},
   "outputs": [],
   "source": [
    "# or Tao commands\n",
    "DM.as_tao(PVDATA)"
   ]
  },
  {
   "cell_type": "code",
   "execution_count": null,
   "id": "26063c63-ced3-4ffb-8eb1-edf2af6459ca",
   "metadata": {},
   "outputs": [],
   "source": [
    "# Save, and reload\n",
    "JSON_OUT = os.path.join(data_dir, 'cu/linac_TabularDataMap.json')\n",
    "\n",
    "DM.to_json(JSON_OUT)\n",
    "\n",
    "DM2 = TabularDataMap.from_json(open(JSON_OUT).read())\n",
    "DM2.data"
   ]
  },
  {
   "cell_type": "markdown",
   "id": "c26059a7-e3e0-408d-a83f-b3ea2d060c5b",
   "metadata": {},
   "source": [
    "## from CSV"
   ]
  },
  {
   "cell_type": "code",
   "execution_count": null,
   "id": "7838105c-eb4a-49b8-bb02-ac18000aef96",
   "metadata": {},
   "outputs": [],
   "source": [
    "# Read a previously made csv file. This has slightly different columns\n",
    "df2 = pd.read_csv('../lcls_live/data/cu_hxr/quad_mapping.csv')[0:10]\n",
    "df2.columns"
   ]
  },
  {
   "cell_type": "code",
   "execution_count": null,
   "id": "8512b523-f963-4dd7-9ec9-e4dfde35d548",
   "metadata": {},
   "outputs": [],
   "source": [
    "df2['pvname'] = df2['device_name']+':'+df2['attribute']\n",
    "\n",
    "DM2 = TabularDataMap(df2, pvname='pvname', element='bmad_ele_name', attribute='bmad_attribute', factor='bmad_factor', offset='')\n",
    "DM2.pvlist"
   ]
  },
  {
   "cell_type": "code",
   "execution_count": null,
   "id": "cede21e7-edeb-482f-877f-e9f6fd57b52e",
   "metadata": {},
   "outputs": [],
   "source": [
    "# Here these aren't in our PVDATA\n",
    "DM2.as_tao(PVDATA)"
   ]
  },
  {
   "cell_type": "code",
   "execution_count": null,
   "id": "15361e67-7afa-49e3-94fc-d79e522f9339",
   "metadata": {},
   "outputs": [],
   "source": [
    "# We could  check beforehand:\n",
    "missing = [name for name in DM2.pvlist if name not in PVDATA]\n",
    "len(missing)"
   ]
  },
  {
   "cell_type": "markdown",
   "id": "bfbd6b49-9b00-4f6e-9b8a-f7d1a44e015c",
   "metadata": {},
   "source": [
    "## Quads from Pytao"
   ]
  },
  {
   "cell_type": "code",
   "execution_count": null,
   "id": "ebfef8ad-6fa5-4af0-bc8b-526393df047c",
   "metadata": {},
   "outputs": [],
   "source": [
    "from pytao import Tao\n",
    "tao = Tao('-init $LCLS_LATTICE/bmad/models/cu_hxr/tao.init -slice OTR2:END -noplot')"
   ]
  },
  {
   "cell_type": "code",
   "execution_count": null,
   "id": "bd978025-8388-4162-b065-077d33f78cc3",
   "metadata": {},
   "outputs": [],
   "source": [
    "def quad_pvinfo(tao, ele):\n",
    "    \"\"\"\n",
    "    Returns dict of PV information for use in a DataMap\n",
    "    \"\"\"\n",
    "    head = tao.ele_head(ele)\n",
    "    attrs = tao.ele_gen_attribs(ele)\n",
    "    device = head['alias']\n",
    "    \n",
    "    d = {}\n",
    "    d['bmad_name'] = ele\n",
    "    d['pvname_rbv'] = device+':BACT'\n",
    "    d['pvname'] = device+':BDES'    \n",
    "    d['bmad_factor'] = -1/attrs['L']/10\n",
    "    d['bmad_attribute'] = 'b1_gradient'\n",
    "    return d\n",
    "\n",
    "quad_pvinfo(tao, 'QM01')"
   ]
  },
  {
   "cell_type": "code",
   "execution_count": null,
   "id": "7df071bb-ce45-4026-b4c6-2ab1653f98d5",
   "metadata": {},
   "outputs": [],
   "source": [
    "quad_names = tao.lat_list('quad::*', 'ele.name', flags='-no_slaves')\n",
    "\n",
    "dfq = pd.DataFrame([quad_pvinfo(tao, ele) for ele in quad_names])\n",
    "dfq"
   ]
  },
  {
   "cell_type": "code",
   "execution_count": null,
   "id": "370926df-9299-40c8-bbb5-f520de5330ce",
   "metadata": {},
   "outputs": [],
   "source": [
    "QUAD_DATAMAP = TabularDataMap(dfq, pvname='pvname', element='bmad_name', attribute = 'bmad_attribute', factor='bmad_factor')"
   ]
  },
  {
   "cell_type": "code",
   "execution_count": null,
   "id": "af85dd1a-2a37-4b7c-ba66-75831b1dda02",
   "metadata": {},
   "outputs": [],
   "source": [
    "JSONFILE = os.path.join(data_dir, 'cu_hxr/quad_TabularDataMap.json')\n",
    "QUAD_DATAMAP.to_json(JSONFILE)"
   ]
  },
  {
   "cell_type": "markdown",
   "id": "d1877eec-f5e5-4186-93e7-704f918e6733",
   "metadata": {},
   "source": [
    "## Measurements for Tao"
   ]
  },
  {
   "cell_type": "code",
   "execution_count": null,
   "id": "0a2754f3-3efe-414f-83ff-82215f49cd32",
   "metadata": {},
   "outputs": [],
   "source": [
    "# The syntax is flexible enough to use for getting measurements for Tao\n",
    "ENERGY_MEAS = [\n",
    "    {\n",
    "    'name': 'L1_energy',\n",
    "    'pvname': 'BEND:LI21:231:EDES', # or EDES\n",
    "    'tao_datum': 'BC1.energy[1]',        \n",
    "    'factor': 1e9\n",
    "    },\n",
    "    {\n",
    "    'name': 'L2_energy',\n",
    "    'pvname': 'BEND:LI24:790:EDES', # or EDES\n",
    "    'tao_datum': 'BC2.energy[1]',\n",
    "    'factor': 1e9\n",
    "    },\n",
    "    {\n",
    "    'name': 'L3_HXR_energy',\n",
    "    'pvname': 'BEND:DMPH:400:EDES', # or EDES\n",
    "    'tao_datum': 'L3.energy[2]',\n",
    "    'factor': 1e9\n",
    "    }\n",
    "   #{\n",
    "   #'name': 'L3_SXR_energy',\n",
    "   #'pvname': 'BEND:DMPS:400:EDES', # or EDES\n",
    "   #'factor': 1e9\n",
    "   #},       \n",
    "]\n",
    "df = pd.DataFrame(ENERGY_MEAS)\n",
    "DM = TabularDataMap(df, pvname='pvname', element='tao_datum', factor='factor',\n",
    "                   tao_format = 'set data {element}|meas  = {value}',\n",
    "                   bmad_format = '! No equivalent Bmad format for: set data {element}|meas  = {value}'\n",
    "                   )\n",
    "DM.as_tao(PVDATA)"
   ]
  },
  {
   "cell_type": "code",
   "execution_count": null,
   "id": "795ad7e9-3e58-4fe1-9a38-70b893f3cba2",
   "metadata": {},
   "outputs": [],
   "source": [
    "# and this will produce\n",
    "DM.as_bmad(PVDATA)"
   ]
  },
  {
   "cell_type": "code",
   "execution_count": null,
   "id": "288ab169-22e9-4dc9-ac55-720bb92e5819",
   "metadata": {},
   "outputs": [],
   "source": [
    "# Save\n",
    "JSON_OUT = os.path.join(data_dir, 'cu_hxr/tao_energy_measurements_TabularDataMap.json')\n",
    "DM.to_json(JSON_OUT)"
   ]
  },
  {
   "cell_type": "markdown",
   "id": "f9a7886b-9059-4c64-b35b-1092d783c2a9",
   "metadata": {},
   "source": [
    "## Subboosters"
   ]
  },
  {
   "cell_type": "code",
   "execution_count": null,
   "id": "d4312122-eabb-4d7e-a0dd-e828a7e98810",
   "metadata": {},
   "outputs": [],
   "source": [
    "from lcls_live.datamaps.klystron import subbooster_pvinfo, SUBBOOSTER_SECTORS"
   ]
  },
  {
   "cell_type": "code",
   "execution_count": null,
   "id": "0f068b41-6e96-448c-804d-9fe9f352a242",
   "metadata": {},
   "outputs": [],
   "source": [
    "SUBBOOSTERS = []\n",
    "for sector in SUBBOOSTER_SECTORS:\n",
    "    \n",
    "    dat = subbooster_pvinfo(sector) \n",
    "    dat['bmad_name'] = f'SBST_{sector}'\n",
    "    dat['bmad_attribute'] = 'phase_deg'\n",
    "    SUBBOOSTERS.append(dat)\n",
    "df = pd.DataFrame(SUBBOOSTERS)    \n",
    "df  "
   ]
  },
  {
   "cell_type": "code",
   "execution_count": null,
   "id": "34741f70-c412-4664-861a-ffbdef9d9352",
   "metadata": {},
   "outputs": [],
   "source": [
    "# Make the DataMap object, identifying the columns to be used\n",
    "DM = TabularDataMap(df, pvname='phase_pvname', element='bmad_name', attribute='bmad_attribute')\n",
    "\n",
    "JSON_OUT = os.path.join(data_dir, 'cu/subboosters_TabularDataMap.json')\n",
    "\n",
    "DM.to_json(JSON_OUT)\n",
    "\n",
    "    \n",
    "# Load:\n",
    "#TabularDataMap.from_json(JSON_OUT)  "
   ]
  },
  {
   "cell_type": "markdown",
   "id": "54902628-49e2-42b0-82f7-b163fd350d28",
   "metadata": {},
   "source": [
    "## Beginning at OTR2"
   ]
  },
  {
   "cell_type": "code",
   "execution_count": null,
   "id": "e54df055-03ee-4a97-bc4d-46e2d35b2724",
   "metadata": {},
   "outputs": [],
   "source": [
    "OTR2_MEAS = [\n",
    "    {\n",
    "    'name': 'OTR2_beta_x_meas',\n",
    "    'pvname': 'OTRS:IN20:571:BETA_X', \n",
    "    'bmad_name': 'beginning',   \n",
    "    'bmad_attribute': 'beta_a'\n",
    "    },\n",
    "    {\n",
    "    'name': 'OTR2_beta_y_meas',\n",
    "    'pvname': 'OTRS:IN20:571:BETA_Y', \n",
    "    'bmad_name': 'beginning',   \n",
    "    'bmad_attribute': 'beta_b'\n",
    "    },\n",
    "    {\n",
    "    'name': 'OTR2_alpha_x_meas',\n",
    "    'pvname': 'OTRS:IN20:571:ALPHA_X', \n",
    "    'bmad_name': 'beginning',   \n",
    "    'bmad_attribute': 'alpha_a'\n",
    "    },\n",
    "    {\n",
    "    'name': 'OTR2_alpha_y_meas',\n",
    "    'pvname': 'OTRS:IN20:571:ALPHA_Y', \n",
    "    'bmad_name': 'beginning',   \n",
    "    'bmad_attribute': 'alpha_b'\n",
    "    },\n",
    "    \n",
    "    # Some others:\n",
    "    #'OTRS:IN20:571:EMITN_X',\n",
    "    #'OTRS:IN20:571:EMITN_Y',\n",
    "    #'OTRS:IN20:571:EMIT_TIME'\n",
    "    \n",
    "]\n",
    "df = pd.DataFrame(OTR2_MEAS)"
   ]
  },
  {
   "cell_type": "markdown",
   "id": "53916634-33b8-44f9-81aa-950ec5ff058c",
   "metadata": {},
   "source": [
    "## OTR2_BEGINNING = TabularDataMap(df, pvname='pvname', element='bmad_name', attribute = 'bmad_attribute')\n",
    "OTR2_BEGINNING.data"
   ]
  },
  {
   "cell_type": "code",
   "execution_count": null,
   "id": "7f6c47ed-26a5-46ed-bea8-945f4da680d3",
   "metadata": {},
   "outputs": [],
   "source": [
    "JSON_OUT = os.path.join(data_dir, 'cu/beginning_OTR2_TabularDataMap.json')\n",
    "\n",
    "OTR2_BEGINNING.to_json(JSON_OUT)"
   ]
  },
  {
   "cell_type": "markdown",
   "id": "f2a0116c-0fe8-42c3-b189-dd351a5b8403",
   "metadata": {},
   "source": [
    "# KlystronDataMap"
   ]
  },
  {
   "cell_type": "code",
   "execution_count": null,
   "id": "e414ca02-675c-4e5b-9dbf-b3eaca83edfc",
   "metadata": {},
   "outputs": [],
   "source": [
    "from lcls_live.datamaps.klystron import KlystronDataMap, klystron_pvinfo, existing_LCLS_klystrons_sector_station"
   ]
  },
  {
   "cell_type": "code",
   "execution_count": null,
   "id": "70a5d22f-fae1-4e94-b98f-54951d2d7a70",
   "metadata": {},
   "outputs": [],
   "source": [
    "# Get a sector, station that exists\n",
    "existing_LCLS_klystrons_sector_station"
   ]
  },
  {
   "cell_type": "code",
   "execution_count": null,
   "id": "3c52e276-51b9-4422-ae7f-68c8187158e5",
   "metadata": {},
   "outputs": [],
   "source": [
    "# This will return a flat dict of info\n",
    "klystron_pvinfo(30, 6)"
   ]
  },
  {
   "cell_type": "code",
   "execution_count": null,
   "id": "ddcdfa73-581a-4d6b-bba3-fb168ff4c58d",
   "metadata": {},
   "outputs": [],
   "source": [
    "?KlystronDataMap"
   ]
  },
  {
   "cell_type": "code",
   "execution_count": null,
   "id": "164e79d0-c5e1-40c6-b734-469cff9e1434",
   "metadata": {},
   "outputs": [],
   "source": [
    "# This makes an object\n",
    "KlystronDataMap(**klystron_pvinfo(21, 6))"
   ]
  },
  {
   "cell_type": "code",
   "execution_count": null,
   "id": "1d1ecc7e-0490-4fb5-91b8-5244e234cfa7",
   "metadata": {},
   "outputs": [],
   "source": [
    "k = KlystronDataMap(**klystron_pvinfo(21, 6))\n",
    "\n",
    "# These are the PV names needed to mapping data\n",
    "k.pvlist\n"
   ]
  },
  {
   "cell_type": "code",
   "execution_count": null,
   "id": "12bd693b-b44f-4096-a787-5edcc91023f7",
   "metadata": {},
   "outputs": [],
   "source": [
    "# This will extract those and produce useful information\n",
    "k.evaluate(PVDATA)"
   ]
  },
  {
   "cell_type": "code",
   "execution_count": null,
   "id": "a65a46a1-4014-492d-b834-5d7c9b91e7f4",
   "metadata": {},
   "outputs": [],
   "source": [
    "# Actual inputs for a simulation\n",
    "k.as_bmad(PVDATA)"
   ]
  },
  {
   "cell_type": "code",
   "execution_count": null,
   "id": "6f4d62de-d562-41c8-abbc-a5d2e90a0d41",
   "metadata": {},
   "outputs": [],
   "source": [
    "# A complete JSON string for serialization\n",
    "k.to_json()"
   ]
  },
  {
   "cell_type": "code",
   "execution_count": null,
   "id": "d5c560fe-6c77-40ed-bebf-fb10ada628f2",
   "metadata": {},
   "outputs": [],
   "source": [
    "# Make a large list\n",
    "\n",
    "KLYSTRON_DATAMAPS = []\n",
    "for sector, station in existing_LCLS_klystrons_sector_station:\n",
    "    print(sector, station)    \n",
    "    info = klystron_pvinfo(sector, station)\n",
    "    k = KlystronDataMap(**info)\n",
    "\n",
    "    KLYSTRON_DATAMAPS.append(k)"
   ]
  },
  {
   "cell_type": "code",
   "execution_count": null,
   "id": "a8b2fc9a-e3b6-4a2d-8fb3-3b66b90a061f",
   "metadata": {},
   "outputs": [],
   "source": [
    "# Check that our data is sufficient \n",
    "\n",
    "for k in KLYSTRON_DATAMAPS:\n",
    "    for pv in k.pvlist:\n",
    "        if pv not in PVDATA:\n",
    "            print(k.name, pv)"
   ]
  },
  {
   "cell_type": "code",
   "execution_count": null,
   "id": "eef142e0-4a03-4f79-a2aa-67d5b41a7204",
   "metadata": {},
   "outputs": [],
   "source": [
    "s = KLYSTRON_DATAMAPS[0].to_json()\n",
    "s"
   ]
  },
  {
   "cell_type": "code",
   "execution_count": null,
   "id": "cc672dd2-8b3d-495e-8e76-3c13debe8a4d",
   "metadata": {},
   "outputs": [],
   "source": [
    "KlystronDataMap.from_json(s)"
   ]
  },
  {
   "cell_type": "markdown",
   "id": "5df782ee-3485-46bd-b4d9-69e658c16981",
   "metadata": {},
   "source": [
    "## Export all to JSON"
   ]
  },
  {
   "cell_type": "code",
   "execution_count": null,
   "id": "89ce7f51-8e87-4d0c-be2a-32c4a40cfc80",
   "metadata": {
    "tags": []
   },
   "outputs": [],
   "source": [
    "\n",
    "for i, identifier in enumerate(existing_LCLS_klystrons_sector_station):\n",
    "    sector = identifier[0]\n",
    "    station = identifier[1]\n",
    "\n",
    "    JSONFILE = os.path.join(data_dir, f'cu/sector{sector}_station{station}_klystron_datamap.json')\n",
    "\n",
    "    KLYSTRON_DATAMAPS[i].to_json(file=JSONFILE)"
   ]
  },
  {
   "cell_type": "code",
   "execution_count": null,
   "id": "d1960752-6899-430f-b659-1d175f1ced27",
   "metadata": {},
   "outputs": [],
   "source": [
    "# Export to file and reload\n",
    "KLYSTRON_DATAMAPS2 = []\n",
    "for i, identifier in enumerate(existing_LCLS_klystrons_sector_station):\n",
    "    sector = identifier[0]\n",
    "    station = identifier[1]\n",
    "    \n",
    "    JSONFILE = os.path.join(data_dir, f'cu/sector{sector}_station{station}_klystron_datamap.json')\n",
    "    KLYSTRON_DATAMAPS2.append(KlystronDataMap.from_json(JSONFILE))\n",
    "\n",
    "\n",
    "\n",
    "KLYSTRON_DATAMAPS2[0].pvlist"
   ]
  },
  {
   "cell_type": "code",
   "execution_count": null,
   "id": "d47cb475-c71f-49b9-9ee1-802436f8b28e",
   "metadata": {},
   "outputs": [],
   "source": []
  }
 ],
 "metadata": {
  "kernelspec": {
   "display_name": "Python 3",
   "language": "python",
   "name": "python3"
  },
  "language_info": {
   "codemirror_mode": {
    "name": "ipython",
    "version": 3
   },
   "file_extension": ".py",
   "mimetype": "text/x-python",
   "name": "python",
   "nbconvert_exporter": "python",
   "pygments_lexer": "ipython3",
   "version": "3.9.4"
  }
 },
 "nbformat": 4,
 "nbformat_minor": 5
}
