{
 "cells": [
  {
   "cell_type": "markdown",
   "id": "ff6180e4-ec7f-4aa7-8911-9706eaab94d5",
   "metadata": {},
   "source": [
    "# cu_inj Live"
   ]
  },
  {
   "cell_type": "code",
   "execution_count": null,
   "id": "c8629902-88b6-4f74-9352-9ed5a8dcef83",
   "metadata": {},
   "outputs": [],
   "source": [
    "# Useful for debugging\n",
    "%load_ext autoreload\n",
    "%autoreload 2\n",
    "\n",
    "%config InlineBackend.figure_format = 'retina'"
   ]
  },
  {
   "cell_type": "code",
   "execution_count": null,
   "id": "287bbe00-f2ba-4fd2-b8b2-4d0e64f37f1e",
   "metadata": {},
   "outputs": [],
   "source": [
    "%pylab inline"
   ]
  },
  {
   "cell_type": "code",
   "execution_count": null,
   "id": "e39b4706-f357-4ebc-9adc-55a33b376220",
   "metadata": {},
   "outputs": [],
   "source": [
    "from lcls_live.datamaps import get_datamaps\n",
    "from lcls_live.archiver import lcls_archiver_restore\n",
    "\n",
    "from lcls_live.tools import isotime\n",
    "\n",
    "import os"
   ]
  },
  {
   "cell_type": "code",
   "execution_count": null,
   "id": "791d2fa6-05cd-4813-a307-843b84fd140d",
   "metadata": {},
   "outputs": [],
   "source": [
    "BEAMPATH = 'cu_spec'"
   ]
  },
  {
   "cell_type": "markdown",
   "id": "0f16a169-96d7-42b4-85a9-edd2694a0d3d",
   "metadata": {},
   "source": [
    "## Datamaps, and all PVs needed"
   ]
  },
  {
   "cell_type": "code",
   "execution_count": null,
   "id": "456e089d-38f1-4ec0-9b90-ff8478019b38",
   "metadata": {},
   "outputs": [],
   "source": [
    "DM = get_datamaps(BEAMPATH)\n",
    "\n",
    "# Hack in 10 Hz\n",
    "df = DM['bpms'].data\n",
    "DM['bpms'].data['pvname'] = [name[:-2]+'TH' for name in df['pvname']]\n",
    "\n",
    "DM.keys()"
   ]
  },
  {
   "cell_type": "code",
   "execution_count": null,
   "id": "7e237216-0ea2-4dd4-9c85-fb0310f59b64",
   "metadata": {},
   "outputs": [],
   "source": [
    "# datamaps to exclude\n",
    "DENYLIST = ['correctors']"
   ]
  },
  {
   "cell_type": "code",
   "execution_count": null,
   "id": "49cbb944-b46c-42e5-bf39-e6bcaef41023",
   "metadata": {},
   "outputs": [],
   "source": [
    "# PVs needed\n",
    "PVLIST =  []\n",
    "for name, dm in DM.items():\n",
    "    if name in DENYLIST:\n",
    "        continue\n",
    "    PVLIST.extend(dm.pvlist)\n",
    "PVLIST = list(set(PVLIST))\n",
    "len(PVLIST)"
   ]
  },
  {
   "cell_type": "markdown",
   "id": "44de44f1-9b16-4431-8995-27cf287fd186",
   "metadata": {},
   "source": [
    "## Archiver restore"
   ]
  },
  {
   "cell_type": "code",
   "execution_count": null,
   "id": "3f64235e-22df-4e27-8deb-082f75ccfae3",
   "metadata": {},
   "outputs": [],
   "source": [
    "ISOTIME = '2021-04-21T08:10:25.000000-07:00'"
   ]
  },
  {
   "cell_type": "code",
   "execution_count": null,
   "id": "d6a74e63-514d-4921-b628-839b556c7157",
   "metadata": {},
   "outputs": [],
   "source": [
    "# Optional off-site setup\n",
    "\n",
    "# Open an SSH tunnel in a terminal like:\n",
    "# ssh -D 8080 <some user>@<some SLAC machine>\n",
    "\n",
    "OFFSITE=True\n",
    "\n",
    "if OFFSITE:\n",
    "    os.environ['http_proxy']='socks5h://localhost:8080'\n",
    "    os.environ['HTTPS_PROXY']='socks5h://localhost:8080'\n",
    "    os.environ['ALL_PROXY']='socks5h://localhost:8080'"
   ]
  },
  {
   "cell_type": "code",
   "execution_count": null,
   "id": "5c088fc9-a28e-4dcd-ae9c-c214e2b1ef5d",
   "metadata": {},
   "outputs": [],
   "source": [
    "PVDATA = lcls_archiver_restore(PVLIST, ISOTIME)"
   ]
  },
  {
   "cell_type": "markdown",
   "id": "9b19a080-f484-4a98-8bd0-435932a6b56e",
   "metadata": {},
   "source": [
    "## EPICS"
   ]
  },
  {
   "cell_type": "code",
   "execution_count": null,
   "id": "c85d5f75-c26f-4b5e-8d7c-df72e2105105",
   "metadata": {},
   "outputs": [],
   "source": [
    "import epics\n",
    "from time import sleep, time"
   ]
  },
  {
   "cell_type": "code",
   "execution_count": null,
   "id": "a7951a2c-71d0-4edb-9898-c376ad1ee663",
   "metadata": {},
   "outputs": [],
   "source": [
    "MONITOR = {pvname:epics.PV(pvname) for pvname in PVLIST}\n",
    "sleep(5)"
   ]
  },
  {
   "cell_type": "code",
   "execution_count": null,
   "id": "aac53441-0b96-40c7-9d5e-a64552b7f852",
   "metadata": {},
   "outputs": [],
   "source": [
    "def get_pvdata():\n",
    "        \n",
    "    itime = isotime()\n",
    "    pvdata =  {k:MONITOR[k].get() for k in MONITOR}\n",
    "    \n",
    "    #print(f'Acquired settings from EPICS at: {itime}')\n",
    "    \n",
    "    return pvdata\n",
    "PVDATA = get_pvdata()"
   ]
  },
  {
   "cell_type": "markdown",
   "id": "4ba00313-3fe3-40a1-9239-5207b832fe9a",
   "metadata": {},
   "source": [
    "# Tao conveniences"
   ]
  },
  {
   "cell_type": "code",
   "execution_count": null,
   "id": "c14e4e96-2745-4707-a81e-f735fd2d43fd",
   "metadata": {},
   "outputs": [],
   "source": [
    "def tao_commands(pvdata):\n",
    "    cmds = []\n",
    "    for name, dm in DM.items():\n",
    "        cmds.extend(dm.as_tao(pvdata))\n",
    "    return cmds"
   ]
  },
  {
   "cell_type": "code",
   "execution_count": null,
   "id": "d9ddf570-db6e-4383-90e3-34809dadc631",
   "metadata": {},
   "outputs": [],
   "source": [
    "def save_cmds(cmds, filename='cmds.tao'): # Write to file for running with vanilla Tao\n",
    "    with open(filename, 'w') as f:\n",
    "        f.write('set global lattice_calc_on = F\\n')\n",
    "        f.write('set global plot_on = F\\n')    \n",
    "        for cmd in CMDS:\n",
    "            f.write(cmd+'\\n')\n",
    "        f.write('set global lattice_calc_on = T\\n')        \n",
    "        f.write('set global plot_on = T\\n')   "
   ]
  },
  {
   "cell_type": "code",
   "execution_count": null,
   "id": "48bc77db-f549-4b42-8a3b-98c010278d39",
   "metadata": {},
   "outputs": [],
   "source": [
    "def toggle_beam():\n",
    "    tao.cmd('set global track_type = beam') \n",
    "    tao.cmd('set global track_type = single') "
   ]
  },
  {
   "cell_type": "markdown",
   "id": "ee617749-33fc-4275-a380-c4493b630c57",
   "metadata": {},
   "source": [
    "## Form commands using PVDATA and datamaps"
   ]
  },
  {
   "cell_type": "code",
   "execution_count": null,
   "id": "ceac60af-4218-4a46-b365-ed748cc55596",
   "metadata": {},
   "outputs": [],
   "source": [
    "tao_commands(PVDATA)[0:5]"
   ]
  },
  {
   "cell_type": "markdown",
   "id": "635dd569-4ad8-48a7-b80d-6ef6ac6b7f29",
   "metadata": {},
   "source": [
    "# Start Tao"
   ]
  },
  {
   "cell_type": "code",
   "execution_count": null,
   "id": "985aab95-022a-4ffb-ac21-681099b93158",
   "metadata": {},
   "outputs": [],
   "source": [
    "from pytao import Tao"
   ]
  },
  {
   "cell_type": "code",
   "execution_count": null,
   "id": "f68daeeb-16f3-48c0-8b70-2658e529b689",
   "metadata": {},
   "outputs": [],
   "source": [
    "MODEL_ROOT = f'$LCLS_LATTICE/bmad/models/{BEAMPATH}/'\n",
    "init = f'-init {MODEL_ROOT}/tao.init'\n",
    "tao = Tao(init)\n",
    "init"
   ]
  },
  {
   "cell_type": "code",
   "execution_count": null,
   "id": "19893979-5920-4c3b-a87d-48558638acd7",
   "metadata": {},
   "outputs": [],
   "source": [
    "# Turn on the beam\n",
    "tao.cmd('set beam_init n_particle = 2000')\n",
    "toggle_beam()"
   ]
  },
  {
   "cell_type": "code",
   "execution_count": null,
   "id": "def932fb-1630-47f4-8625-4da4e745a6c7",
   "metadata": {},
   "outputs": [],
   "source": [
    "%%tao\n",
    "place floor none\n",
    "place top2 bpm_orbit\n",
    "place middle2 bunch_sigma_xy \n",
    "\n",
    "sc top2 -.2 .2\n",
    "\n",
    "set graph middle2 y%label = \"\\gs\\fn\\dx\\u, \\gs\\fn\\dy\\u (\\gmm)\"\n",
    "set curve middle2.g.x y_axis_scale_factor = 1e6\n",
    "set curve middle2.g.y y_axis_scale_factor = 1e6\n",
    "sc middle2 0 600\n",
    "\n",
    "\n",
    "x-s all 0 15"
   ]
  },
  {
   "cell_type": "code",
   "execution_count": null,
   "id": "478e0e3f-ca77-4a69-9102-2ed10299d04c",
   "metadata": {},
   "outputs": [],
   "source": [
    "#tao.cmd(f'call {MODEL_ROOT}/scripts/SC.tao')"
   ]
  },
  {
   "cell_type": "code",
   "execution_count": null,
   "id": "7c09d880-3f92-4e21-ba30-2ee41ce6e3f1",
   "metadata": {},
   "outputs": [],
   "source": [
    "while True:\n",
    "    #sleep(.001)\n",
    "    t1 = time()\n",
    "    pvdata = get_pvdata()\n",
    "    cmds = tao_commands(pvdata)\n",
    "    tao.cmd('set global plot_on = F;set global lattice_calc_on = F')\n",
    "    tao.cmds(cmds); # Apply\n",
    "    \n",
    "    # Chaos monkey to see something\n",
    "    #xx = 2*np.random.rand()-1\n",
    "    #tao.cmd(f'set ele qE01 k1 = 4*{xx}')      \n",
    "    \n",
    "    tao.cmd('set global lattice_calc_on = T')\n",
    "    tao.cmd('set global plot_on = T')\n",
    "    toggle_beam()\n",
    "    \n",
    "    dt = time()-t1\n",
    "    #print(dt)\n"
   ]
  },
  {
   "cell_type": "code",
   "execution_count": null,
   "id": "3991b4b7-78b2-4f77-a591-21e6fdf6eef8",
   "metadata": {},
   "outputs": [],
   "source": [
    "%%time\n",
    "#toggle on and off\n",
    "tao.cmd('set global track_type = beam', raises=False) \n",
    "tao.cmd('set global track_type = single') "
   ]
  },
  {
   "cell_type": "code",
   "execution_count": null,
   "id": "b8716e5b-f79e-4266-8cba-143da19c8fbd",
   "metadata": {},
   "outputs": [],
   "source": [
    "%%tao\n",
    "place top2 beambeta\n",
    "place middle2 bunch_sigma_xy\n",
    "x-a all s\n",
    "sc"
   ]
  },
  {
   "cell_type": "markdown",
   "id": "cb01df12-2980-4abd-96e6-f959841626f0",
   "metadata": {},
   "source": [
    "## Get particles "
   ]
  },
  {
   "cell_type": "code",
   "execution_count": null,
   "id": "4c5d3a85-dc79-4792-9646-c6ee3117c570",
   "metadata": {},
   "outputs": [],
   "source": [
    "from pmd_beamphysics import ParticleGroup"
   ]
  },
  {
   "cell_type": "code",
   "execution_count": null,
   "id": "2b87be47-0630-4e75-a924-9daa29b09880",
   "metadata": {},
   "outputs": [],
   "source": [
    "P = ParticleGroup(data=tao.bunch_data('OTR2'))\n",
    "# Select out live particles\n",
    "P = P[P.status==1]"
   ]
  },
  {
   "cell_type": "code",
   "execution_count": null,
   "id": "50577300-3b1b-498d-8c5a-841c0c3697ac",
   "metadata": {},
   "outputs": [],
   "source": [
    "P.plot('t', 'energy')"
   ]
  },
  {
   "cell_type": "code",
   "execution_count": null,
   "id": "72a3efd5-6135-48a7-b9eb-00b43758f58d",
   "metadata": {},
   "outputs": [],
   "source": [
    "P"
   ]
  },
  {
   "cell_type": "code",
   "execution_count": null,
   "id": "81ef4b0d-ef8d-41ff-86c9-57f48c6322c4",
   "metadata": {},
   "outputs": [],
   "source": [
    "# Make a function for this\n",
    "def get_beam(ele):\n",
    "    P = ParticleGroup(data=tao.bunch_data(ele))\n",
    "    # Select out live particles\n",
    "    P = P[P.status==1]    \n",
    "    \n",
    "    return P"
   ]
  },
  {
   "cell_type": "code",
   "execution_count": null,
   "id": "a5510773-70c1-4d1f-8f5b-36f5747dc230",
   "metadata": {},
   "outputs": [],
   "source": [
    "P1 = get_beam('OTR2')\n",
    "P1.plot('delta_t', 'delta_energy')"
   ]
  },
  {
   "cell_type": "code",
   "execution_count": null,
   "id": "e1d977b9-ba73-46e9-8bc8-622433be1aa2",
   "metadata": {},
   "outputs": [],
   "source": [
    "P2 = get_beam('OTR2')\n",
    "P2.plot('x', 'y')"
   ]
  },
  {
   "cell_type": "markdown",
   "id": "6b5734e4-e7e2-4720-a63f-6130eafc8b89",
   "metadata": {},
   "source": [
    "# Get giant table of bunch stats"
   ]
  },
  {
   "cell_type": "code",
   "execution_count": null,
   "id": "0da0e01e-4f9e-469e-a316-bbb6f0eb90f6",
   "metadata": {},
   "outputs": [],
   "source": [
    "import pandas as pd"
   ]
  },
  {
   "cell_type": "code",
   "execution_count": null,
   "id": "4c5ab03f-1c22-4d82-b347-c545ac513bb7",
   "metadata": {},
   "outputs": [],
   "source": [
    "# Get list of indices\n",
    "IX = tao.lat_list('*', 'ele.ix_ele')\n",
    "\n",
    "# Stop before the dump\n",
    "S_STOP = tao.ele_head('OTR2')['s']\n",
    "\n",
    "stats = []\n",
    "for ele in IX:\n",
    "    d = tao.bunch_params(ele)\n",
    "    # Skipl ones with no beam\n",
    "    if d['charge_live'] == 0:\n",
    "        continue\n",
    "    \n",
    "    if d['s'] > S_STOP:\n",
    "        break\n",
    "        \n",
    "    stats.append(d)\n",
    "\n",
    "df = pd.DataFrame(stats)#.set_index('ix_ele')\n",
    "df"
   ]
  },
  {
   "cell_type": "code",
   "execution_count": null,
   "id": "8466a758-dc71-42f8-96e8-e69d383369bd",
   "metadata": {},
   "outputs": [],
   "source": [
    "fig, ax = plt.subplots(figsize=(12,5))\n",
    "plt.plot(df['s'], df['sigma_x']*1e6, label=r'$\\sigma_x$')\n",
    "plt.plot(df['s'], df['sigma_y']*1e6, label=r'$\\sigma_y$')\n",
    "plt.xlabel('s (m)')\n",
    "plt.ylabel('beam sizes (µm)')\n",
    "plt.legend();"
   ]
  },
  {
   "cell_type": "code",
   "execution_count": null,
   "id": "74b291af-a44b-410a-80b2-0dfb5c091dac",
   "metadata": {},
   "outputs": [],
   "source": [
    "# Get an array of where the beam is saved\n",
    "s_saved = np.array(df[df['beam_saved']]['s'])"
   ]
  },
  {
   "cell_type": "code",
   "execution_count": null,
   "id": "1f4b6f63-56e7-4b37-ba0c-a07e2b6051d5",
   "metadata": {},
   "outputs": [],
   "source": [
    "fig, ax = plt.subplots(figsize=(12,5))\n",
    "plt.plot(df['s'], df['norm_emit_x']*1e6, label=r'$\\epsilon_{n,x}$')\n",
    "plt.plot(df['s'], df['norm_emit_y']*1e6, label=r'$\\epsilon_{n,y}$')\n",
    "plt.xlabel('s (m)')\n",
    "plt.ylabel('Beam emittance(mm-mrad)')\n",
    "\n",
    "\n",
    "# This is where the beam is saved\n",
    "plt.scatter(s_saved, np.ones(len(s_saved))*0, color = 'black', marker = 'x')\n",
    "\n",
    "\n",
    "plt.legend();"
   ]
  }
 ],
 "metadata": {
  "kernelspec": {
   "display_name": "Python 3 (ipykernel)",
   "language": "python",
   "name": "python3"
  },
  "language_info": {
   "codemirror_mode": {
    "name": "ipython",
    "version": 3
   },
   "file_extension": ".py",
   "mimetype": "text/x-python",
   "name": "python",
   "nbconvert_exporter": "python",
   "pygments_lexer": "ipython3",
   "version": "3.9.7"
  }
 },
 "nbformat": 4,
 "nbformat_minor": 5
}
