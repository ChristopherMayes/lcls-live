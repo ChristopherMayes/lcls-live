{
 "cells": [
  {
   "cell_type": "markdown",
   "id": "ff6180e4-ec7f-4aa7-8911-9706eaab94d5",
   "metadata": {},
   "source": [
    "# cu_inj Live"
   ]
  },
  {
   "cell_type": "code",
   "execution_count": 1,
   "id": "c8629902-88b6-4f74-9352-9ed5a8dcef83",
   "metadata": {},
   "outputs": [],
   "source": [
    "# Useful for debugging\n",
    "%load_ext autoreload\n",
    "%autoreload 2\n",
    "\n",
    "%config InlineBackend.figure_format = 'retina'"
   ]
  },
  {
   "cell_type": "code",
   "execution_count": 2,
   "id": "287bbe00-f2ba-4fd2-b8b2-4d0e64f37f1e",
   "metadata": {},
   "outputs": [
    {
     "name": "stdout",
     "output_type": "stream",
     "text": [
      "%pylab is deprecated, use %matplotlib inline and import the required libraries.\n",
      "Populating the interactive namespace from numpy and matplotlib\n"
     ]
    }
   ],
   "source": [
    "%pylab inline"
   ]
  },
  {
   "cell_type": "code",
   "execution_count": 3,
   "id": "e39b4706-f357-4ebc-9adc-55a33b376220",
   "metadata": {},
   "outputs": [],
   "source": [
    "from lcls_live.datamaps import get_datamaps\n",
    "from lcls_live.archiver import lcls_archiver_restore\n",
    "\n",
    "from lcls_live.tools import isotime\n",
    "\n",
    "import os"
   ]
  },
  {
   "cell_type": "code",
   "execution_count": 4,
   "id": "791d2fa6-05cd-4813-a307-843b84fd140d",
   "metadata": {},
   "outputs": [],
   "source": [
    "BEAMPATH = 'cu_spec'"
   ]
  },
  {
   "cell_type": "markdown",
   "id": "0f16a169-96d7-42b4-85a9-edd2694a0d3d",
   "metadata": {},
   "source": [
    "## Datamaps, and all PVs needed"
   ]
  },
  {
   "cell_type": "code",
   "execution_count": 5,
   "id": "456e089d-38f1-4ec0-9b90-ff8478019b38",
   "metadata": {},
   "outputs": [
    {
     "data": {
      "text/plain": [
       "dict_keys(['bpms', 'correctors', 'quad', 'linac'])"
      ]
     },
     "execution_count": 5,
     "metadata": {},
     "output_type": "execute_result"
    }
   ],
   "source": [
    "DM = get_datamaps(BEAMPATH)\n",
    "\n",
    "# Hack in 10 Hz\n",
    "df = DM['bpms'].data\n",
    "DM['bpms'].data['pvname'] = [name[:-2]+'TH' for name in df['pvname']]\n",
    "\n",
    "DM.keys()"
   ]
  },
  {
   "cell_type": "code",
   "execution_count": 6,
   "id": "7e237216-0ea2-4dd4-9c85-fb0310f59b64",
   "metadata": {},
   "outputs": [],
   "source": [
    "# datamaps to exclude\n",
    "DENYLIST = ['correctors', 'linac'] #, 'quad']"
   ]
  },
  {
   "cell_type": "code",
   "execution_count": 7,
   "id": "49cbb944-b46c-42e5-bf39-e6bcaef41023",
   "metadata": {},
   "outputs": [
    {
     "data": {
      "text/plain": [
       "46"
      ]
     },
     "execution_count": 7,
     "metadata": {},
     "output_type": "execute_result"
    }
   ],
   "source": [
    "# PVs needed\n",
    "PVLIST =  []\n",
    "for name, dm in DM.items():\n",
    "    if name in DENYLIST:\n",
    "        continue\n",
    "    PVLIST.extend(dm.pvlist)\n",
    "PVLIST = list(set(PVLIST))\n",
    "len(PVLIST)"
   ]
  },
  {
   "cell_type": "markdown",
   "id": "9b19a080-f484-4a98-8bd0-435932a6b56e",
   "metadata": {},
   "source": [
    "## EPICS"
   ]
  },
  {
   "cell_type": "code",
   "execution_count": 8,
   "id": "c85d5f75-c26f-4b5e-8d7c-df72e2105105",
   "metadata": {},
   "outputs": [],
   "source": [
    "import epics\n",
    "from time import sleep, time"
   ]
  },
  {
   "cell_type": "code",
   "execution_count": 9,
   "id": "a7951a2c-71d0-4edb-9898-c376ad1ee663",
   "metadata": {},
   "outputs": [],
   "source": [
    "MONITOR = {pvname:epics.PV(pvname) for pvname in PVLIST}\n",
    "sleep(5) # Wait for all to connect"
   ]
  },
  {
   "cell_type": "code",
   "execution_count": 10,
   "id": "aac53441-0b96-40c7-9d5e-a64552b7f852",
   "metadata": {},
   "outputs": [],
   "source": [
    "def get_pvdata():   \n",
    "    itime = isotime()\n",
    "    pvdata =  {k:MONITOR[k].get() for k in MONITOR}\n",
    "    return pvdata\n",
    "PVDATA = get_pvdata()"
   ]
  },
  {
   "cell_type": "code",
   "execution_count": 11,
   "id": "014de43c-2e3c-4220-9996-7a88e4ce3a58",
   "metadata": {},
   "outputs": [],
   "source": [
    "# Check for bad PVs\n",
    "bad = set()\n",
    "for k, v in PVDATA.items():\n",
    "    if v is None:\n",
    "        bad.add(k.split(':')[2])\n",
    "        print(k)\n",
    "assert len(bad) == 0"
   ]
  },
  {
   "cell_type": "markdown",
   "id": "4ba00313-3fe3-40a1-9239-5207b832fe9a",
   "metadata": {},
   "source": [
    "# Tao conveniences"
   ]
  },
  {
   "cell_type": "code",
   "execution_count": 12,
   "id": "c14e4e96-2745-4707-a81e-f735fd2d43fd",
   "metadata": {},
   "outputs": [],
   "source": [
    "def tao_commands(pvdata):\n",
    "    cmds = []\n",
    "    for name, dm in DM.items():\n",
    "        cmds.extend(dm.as_tao(pvdata))\n",
    "    return cmds"
   ]
  },
  {
   "cell_type": "code",
   "execution_count": 13,
   "id": "d9ddf570-db6e-4383-90e3-34809dadc631",
   "metadata": {},
   "outputs": [],
   "source": [
    "def save_cmds(cmds, filename='cmds.tao'): # Write to file for running with vanilla Tao\n",
    "    with open(filename, 'w') as f:\n",
    "        f.write('set global lattice_calc_on = F\\n')\n",
    "        f.write('set global plot_on = F\\n')    \n",
    "        for cmd in CMDS:\n",
    "            f.write(cmd+'\\n')\n",
    "        f.write('set global lattice_calc_on = T\\n')        \n",
    "        f.write('set global plot_on = T\\n')   "
   ]
  },
  {
   "cell_type": "code",
   "execution_count": 14,
   "id": "48bc77db-f549-4b42-8a3b-98c010278d39",
   "metadata": {},
   "outputs": [],
   "source": [
    "def toggle_beam():\n",
    "    tao.cmd('set global track_type = beam') \n",
    "    tao.cmd('set global track_type = single') "
   ]
  },
  {
   "cell_type": "markdown",
   "id": "ee617749-33fc-4275-a380-c4493b630c57",
   "metadata": {},
   "source": [
    "## Form commands using PVDATA and datamaps"
   ]
  },
  {
   "cell_type": "code",
   "execution_count": 15,
   "id": "ceac60af-4218-4a46-b365-ed748cc55596",
   "metadata": {},
   "outputs": [
    {
     "data": {
      "text/plain": [
       "['set data orbit.x[1]|meas  = 0.001 * 0.015410363674163818',\n",
       " 'set data orbit.x[2]|meas  = 0.001 * 0.17051580548286438',\n",
       " 'set data orbit.x[3]|meas  = 0.001 * -0.014728419482707977',\n",
       " 'set data orbit.x[4]|meas  = 0.001 * 0.01716996729373932',\n",
       " 'set data orbit.x[5]|meas  = 0.001 * 0.04663494974374771']"
      ]
     },
     "execution_count": 15,
     "metadata": {},
     "output_type": "execute_result"
    }
   ],
   "source": [
    "tao_commands(PVDATA)[0:5]"
   ]
  },
  {
   "cell_type": "markdown",
   "id": "635dd569-4ad8-48a7-b80d-6ef6ac6b7f29",
   "metadata": {},
   "source": [
    "# Start Tao"
   ]
  },
  {
   "cell_type": "code",
   "execution_count": 16,
   "id": "985aab95-022a-4ffb-ac21-681099b93158",
   "metadata": {},
   "outputs": [],
   "source": [
    "from pytao import Tao"
   ]
  },
  {
   "cell_type": "code",
   "execution_count": 18,
   "id": "f68daeeb-16f3-48c0-8b70-2658e529b689",
   "metadata": {},
   "outputs": [
    {
     "data": {
      "text/plain": [
       "'-init $LCLS_LATTICE/bmad/models/cu_spec//tao.init'"
      ]
     },
     "execution_count": 18,
     "metadata": {},
     "output_type": "execute_result"
    }
   ],
   "source": [
    "MODEL_ROOT = f'$LCLS_LATTICE/bmad/models/{BEAMPATH}/'\n",
    "init = f'-init {MODEL_ROOT}/tao.init'\n",
    "tao = Tao(init)\n",
    "init"
   ]
  },
  {
   "cell_type": "code",
   "execution_count": 19,
   "id": "850d348c-feb7-4a82-ba1b-43a85b10108d",
   "metadata": {},
   "outputs": [],
   "source": [
    "#tao.cmd(f'call {MODEL_ROOT}/scripts/Activate_CSR.tao');"
   ]
  },
  {
   "cell_type": "code",
   "execution_count": 21,
   "id": "19893979-5920-4c3b-a87d-48558638acd7",
   "metadata": {},
   "outputs": [
    {
     "name": "stdout",
     "output_type": "stream",
     "text": [
      "CPU times: user 1.47 s, sys: 147 ms, total: 1.62 s\n",
      "Wall time: 513 ms\n"
     ]
    }
   ],
   "source": [
    "%%time\n",
    "# Turn on the beam\n",
    "tao.cmd('set beam_init n_particle = 10000')\n",
    "toggle_beam()"
   ]
  },
  {
   "cell_type": "code",
   "execution_count": 22,
   "id": "def932fb-1630-47f4-8625-4da4e745a6c7",
   "metadata": {},
   "outputs": [
    {
     "name": "stdout",
     "output_type": "stream",
     "text": [
      "-------------------------\n",
      "Tao> place floor none\n",
      "-------------------------\n",
      "Tao> place top2 bpm_orbit\n",
      "-------------------------\n",
      "Tao> place middle2 bunch_sigma_xy \n",
      "-------------------------\n",
      "Tao> \n",
      "-------------------------\n",
      "Tao> sc top2 -2 2\n",
      "-------------------------\n",
      "Tao> \n",
      "-------------------------\n",
      "Tao> set graph middle2 y%label = \"\\gs\\fn\\dx\\u, \\gs\\fn\\dy\\u (\\gmm)\"\n",
      "-------------------------\n",
      "Tao> set curve middle2.g.x y_axis_scale_factor = 1e6\n",
      "-------------------------\n",
      "Tao> set curve middle2.g.y y_axis_scale_factor = 1e6\n",
      "-------------------------\n",
      "Tao> sc middle2 ! 0 600\n",
      "-------------------------\n",
      "Tao> \n",
      "-------------------------\n",
      "Tao> \n",
      "-------------------------\n",
      "Tao> x-a all s \n",
      "-------------------------\n",
      "Tao> \n"
     ]
    }
   ],
   "source": [
    "%%tao\n",
    "place floor none\n",
    "place top2 bpm_orbit\n",
    "place middle2 bunch_sigma_xy \n",
    "\n",
    "sc top2 -2 2\n",
    "\n",
    "set graph middle2 y%label = \"\\gs\\fn\\dx\\u, \\gs\\fn\\dy\\u (\\gmm)\"\n",
    "set curve middle2.g.x y_axis_scale_factor = 1e6\n",
    "set curve middle2.g.y y_axis_scale_factor = 1e6\n",
    "sc middle2 ! 0 600\n",
    "\n",
    "\n",
    "x-a all s "
   ]
  },
  {
   "cell_type": "code",
   "execution_count": 23,
   "id": "2f6bfb63-22ed-475a-8ef6-cd5f724d731b",
   "metadata": {},
   "outputs": [
    {
     "name": "stdout",
     "output_type": "stream",
     "text": [
      "-------------------------\n",
      "Tao> place top2 energy\n",
      "-------------------------\n",
      "Tao> x-a all s \n",
      "-------------------------\n",
      "Tao> sc\n",
      "-------------------------\n",
      "Tao> \n"
     ]
    }
   ],
   "source": [
    "%%tao\n",
    "place top2 energy\n",
    "x-a all s \n",
    "sc"
   ]
  },
  {
   "cell_type": "code",
   "execution_count": 24,
   "id": "478e0e3f-ca77-4a69-9102-2ed10299d04c",
   "metadata": {},
   "outputs": [],
   "source": [
    "#tao.cmd(f'call {MODEL_ROOT}/scripts/SC.tao')"
   ]
  },
  {
   "cell_type": "markdown",
   "id": "f7c79be7-a9b3-4a6f-9005-96951302e962",
   "metadata": {},
   "source": [
    "# Continuous loop"
   ]
  },
  {
   "cell_type": "code",
   "execution_count": 30,
   "id": "fcd4f747-08ec-4424-99eb-d61c6ac534f8",
   "metadata": {},
   "outputs": [],
   "source": [
    "def run1():\n",
    "    #sleep(.001)\n",
    "    t1 = time()\n",
    "    pvdata = get_pvdata()\n",
    "    cmds = tao_commands(pvdata)\n",
    "    tao.cmd('set global plot_on = F;set global lattice_calc_on = F')\n",
    "    tao.cmds(cmds); # Apply\n",
    "\n",
    "    tao.cmd('set global lattice_calc_on = T')\n",
    "    tao.cmd('set global plot_on = T')\n",
    "    toggle_beam()\n",
    "    \n",
    "    dt = time()-t1\n",
    "    #print(dt)    \n"
   ]
  },
  {
   "cell_type": "code",
   "execution_count": 31,
   "id": "e6dc4b75-22ea-4e30-bdca-584655072b34",
   "metadata": {},
   "outputs": [
    {
     "name": "stdout",
     "output_type": "stream",
     "text": [
      "CPU times: user 1.34 s, sys: 123 ms, total: 1.47 s\n",
      "Wall time: 414 ms\n"
     ]
    }
   ],
   "source": [
    "%%time\n",
    "run1()"
   ]
  },
  {
   "cell_type": "code",
   "execution_count": 32,
   "id": "7c09d880-3f92-4e21-ba30-2ee41ce6e3f1",
   "metadata": {},
   "outputs": [
    {
     "ename": "KeyboardInterrupt",
     "evalue": "",
     "output_type": "error",
     "traceback": [
      "\u001b[0;31m---------------------------------------------------------------------------\u001b[0m",
      "\u001b[0;31mKeyboardInterrupt\u001b[0m                         Traceback (most recent call last)",
      "Input \u001b[0;32mIn [32]\u001b[0m, in \u001b[0;36m<module>\u001b[0;34m\u001b[0m\n\u001b[1;32m      1\u001b[0m \u001b[38;5;28;01mwhile\u001b[39;00m \u001b[38;5;28;01mTrue\u001b[39;00m:\n\u001b[0;32m----> 2\u001b[0m     \u001b[43mrun1\u001b[49m\u001b[43m(\u001b[49m\u001b[43m)\u001b[49m\n",
      "Input \u001b[0;32mIn [30]\u001b[0m, in \u001b[0;36mrun1\u001b[0;34m()\u001b[0m\n\u001b[1;32m      9\u001b[0m tao\u001b[38;5;241m.\u001b[39mcmd(\u001b[38;5;124m'\u001b[39m\u001b[38;5;124mset global lattice_calc_on = T\u001b[39m\u001b[38;5;124m'\u001b[39m)\n\u001b[1;32m     10\u001b[0m tao\u001b[38;5;241m.\u001b[39mcmd(\u001b[38;5;124m'\u001b[39m\u001b[38;5;124mset global plot_on = T\u001b[39m\u001b[38;5;124m'\u001b[39m)\n\u001b[0;32m---> 11\u001b[0m \u001b[43mtoggle_beam\u001b[49m\u001b[43m(\u001b[49m\u001b[43m)\u001b[49m\n\u001b[1;32m     13\u001b[0m dt \u001b[38;5;241m=\u001b[39m time()\u001b[38;5;241m-\u001b[39mt1\n",
      "Input \u001b[0;32mIn [14]\u001b[0m, in \u001b[0;36mtoggle_beam\u001b[0;34m()\u001b[0m\n\u001b[1;32m      1\u001b[0m \u001b[38;5;28;01mdef\u001b[39;00m \u001b[38;5;21mtoggle_beam\u001b[39m():\n\u001b[0;32m----> 2\u001b[0m     \u001b[43mtao\u001b[49m\u001b[38;5;241;43m.\u001b[39;49m\u001b[43mcmd\u001b[49m\u001b[43m(\u001b[49m\u001b[38;5;124;43m'\u001b[39;49m\u001b[38;5;124;43mset global track_type = beam\u001b[39;49m\u001b[38;5;124;43m'\u001b[39;49m\u001b[43m)\u001b[49m \n\u001b[1;32m      3\u001b[0m     tao\u001b[38;5;241m.\u001b[39mcmd(\u001b[38;5;124m'\u001b[39m\u001b[38;5;124mset global track_type = single\u001b[39m\u001b[38;5;124m'\u001b[39m)\n",
      "File \u001b[0;32m~/Code/GitHub/pytao/pytao/tao_ctypes/core.py:148\u001b[0m, in \u001b[0;36mTao.cmd\u001b[0;34m(self, cmd, raises)\u001b[0m\n\u001b[1;32m    137\u001b[0m \u001b[38;5;124;03m\"\"\"\u001b[39;00m\n\u001b[1;32m    138\u001b[0m \u001b[38;5;124;03mRuns a command, and returns the text output\u001b[39;00m\n\u001b[1;32m    139\u001b[0m \u001b[38;5;124;03m\u001b[39;00m\n\u001b[0;32m   (...)\u001b[0m\n\u001b[1;32m    143\u001b[0m \u001b[38;5;124;03mReturns a list of strings\u001b[39;00m\n\u001b[1;32m    144\u001b[0m \u001b[38;5;124;03m\"\"\"\u001b[39;00m\n\u001b[1;32m    146\u001b[0m logger\u001b[38;5;241m.\u001b[39mdebug(\u001b[38;5;124mf\u001b[39m\u001b[38;5;124m'\u001b[39m\u001b[38;5;124mTao> \u001b[39m\u001b[38;5;132;01m{\u001b[39;00mcmd\u001b[38;5;132;01m}\u001b[39;00m\u001b[38;5;124m'\u001b[39m)\n\u001b[0;32m--> 148\u001b[0m \u001b[38;5;28;43mself\u001b[39;49m\u001b[38;5;241;43m.\u001b[39;49m\u001b[43mso_lib\u001b[49m\u001b[38;5;241;43m.\u001b[39;49m\u001b[43mtao_c_command\u001b[49m\u001b[43m(\u001b[49m\u001b[43mcmd\u001b[49m\u001b[38;5;241;43m.\u001b[39;49m\u001b[43mencode\u001b[49m\u001b[43m(\u001b[49m\u001b[38;5;124;43m'\u001b[39;49m\u001b[38;5;124;43mutf-8\u001b[39;49m\u001b[38;5;124;43m'\u001b[39;49m\u001b[43m)\u001b[49m\u001b[43m)\u001b[49m\n\u001b[1;32m    149\u001b[0m lines \u001b[38;5;241m=\u001b[39m \u001b[38;5;28mself\u001b[39m\u001b[38;5;241m.\u001b[39mget_output()\n\u001b[1;32m    151\u001b[0m \u001b[38;5;66;03m# Error checking\u001b[39;00m\n",
      "\u001b[0;31mKeyboardInterrupt\u001b[0m: "
     ]
    }
   ],
   "source": [
    "while True:\n",
    "    run1()"
   ]
  },
  {
   "cell_type": "code",
   "execution_count": 33,
   "id": "3991b4b7-78b2-4f77-a591-21e6fdf6eef8",
   "metadata": {},
   "outputs": [
    {
     "name": "stdout",
     "output_type": "stream",
     "text": [
      "CPU times: user 1.37 s, sys: 124 ms, total: 1.49 s\n",
      "Wall time: 394 ms\n"
     ]
    },
    {
     "data": {
      "text/plain": [
       "[]"
      ]
     },
     "execution_count": 33,
     "metadata": {},
     "output_type": "execute_result"
    }
   ],
   "source": [
    "%%time\n",
    "#toggle on and off\n",
    "tao.cmd('set global track_type = beam', raises=False) \n",
    "tao.cmd('set global track_type = single') "
   ]
  },
  {
   "cell_type": "code",
   "execution_count": 34,
   "id": "b8716e5b-f79e-4266-8cba-143da19c8fbd",
   "metadata": {},
   "outputs": [
    {
     "name": "stdout",
     "output_type": "stream",
     "text": [
      "-------------------------\n",
      "Tao> place top2 beambeta\n",
      "-------------------------\n",
      "Tao> place middle2 bunch_sigma_xy\n",
      "-------------------------\n",
      "Tao> x-a all s\n",
      "-------------------------\n",
      "Tao> sc\n",
      "-------------------------\n",
      "Tao> \n"
     ]
    }
   ],
   "source": [
    "%%tao\n",
    "place top2 beambeta\n",
    "place middle2 bunch_sigma_xy\n",
    "x-a all s\n",
    "sc"
   ]
  },
  {
   "cell_type": "markdown",
   "id": "cb01df12-2980-4abd-96e6-f959841626f0",
   "metadata": {},
   "source": [
    "## Get particles "
   ]
  },
  {
   "cell_type": "code",
   "execution_count": 36,
   "id": "4c5d3a85-dc79-4792-9646-c6ee3117c570",
   "metadata": {},
   "outputs": [],
   "source": [
    "from pmd_beamphysics import ParticleGroup"
   ]
  },
  {
   "cell_type": "code",
   "execution_count": 37,
   "id": "2b87be47-0630-4e75-a924-9daa29b09880",
   "metadata": {},
   "outputs": [],
   "source": [
    "P = ParticleGroup(data=tao.bunch_data('OTR2'))\n",
    "# Select out live particles\n",
    "P = P[P.status==1]\n",
    "P.drift_to_z()"
   ]
  },
  {
   "cell_type": "code",
   "execution_count": 39,
   "id": "50577300-3b1b-498d-8c5a-841c0c3697ac",
   "metadata": {},
   "outputs": [
    {
     "data": {
      "text/plain": [
       "Text(0.5, 1.0, 'OTR2')"
      ]
     },
     "execution_count": 39,
     "metadata": {},
     "output_type": "execute_result"
    },
    {
     "data": {
      "image/png": "[encoded data removed]",
      "text/plain": [
       "<Figure size 432x288 with 3 Axes>"
      ]
     },
     "metadata": {
      "image/png": {
       "height": 263,
       "width": 406
      },
      "needs_background": "light"
     },
     "output_type": "display_data"
    }
   ],
   "source": [
    "P.plot('delta_t', 'energy')\n",
    "plt.title('OTR2')"
   ]
  },
  {
   "cell_type": "code",
   "execution_count": null,
   "id": "72a3efd5-6135-48a7-b9eb-00b43758f58d",
   "metadata": {},
   "outputs": [],
   "source": [
    "P.plot('x', 'y')"
   ]
  },
  {
   "cell_type": "code",
   "execution_count": null,
   "id": "e64a3de0-8632-442c-9c36-bccb079c6ec5",
   "metadata": {},
   "outputs": [],
   "source": [
    "P.plot('z', 'x')"
   ]
  },
  {
   "cell_type": "code",
   "execution_count": null,
   "id": "81ef4b0d-ef8d-41ff-86c9-57f48c6322c4",
   "metadata": {},
   "outputs": [],
   "source": [
    "# Make a function for this\n",
    "def get_beam(ele):\n",
    "    P = ParticleGroup(data=tao.bunch_data(ele))\n",
    "    # Select out live particles\n",
    "    P = P[P.status==1]    \n",
    "    \n",
    "    return P"
   ]
  },
  {
   "cell_type": "code",
   "execution_count": null,
   "id": "a5510773-70c1-4d1f-8f5b-36f5747dc230",
   "metadata": {},
   "outputs": [],
   "source": [
    "P1 = get_beam('OTR2')\n",
    "P1.plot('delta_t', 'delta_energy')"
   ]
  },
  {
   "cell_type": "code",
   "execution_count": null,
   "id": "e1d977b9-ba73-46e9-8bc8-622433be1aa2",
   "metadata": {},
   "outputs": [],
   "source": [
    "P2 = get_beam('OTR2')\n",
    "P2.plot('x', 'y')"
   ]
  },
  {
   "cell_type": "markdown",
   "id": "6b5734e4-e7e2-4720-a63f-6130eafc8b89",
   "metadata": {},
   "source": [
    "# Get giant table of bunch stats"
   ]
  },
  {
   "cell_type": "code",
   "execution_count": null,
   "id": "0da0e01e-4f9e-469e-a316-bbb6f0eb90f6",
   "metadata": {},
   "outputs": [],
   "source": [
    "import pandas as pd"
   ]
  },
  {
   "cell_type": "code",
   "execution_count": null,
   "id": "4c5ab03f-1c22-4d82-b347-c545ac513bb7",
   "metadata": {},
   "outputs": [],
   "source": [
    "# Get list of indices\n",
    "IX = tao.lat_list('*', 'ele.ix_ele')\n",
    "\n",
    "# Stop before the dump\n",
    "S_STOP = tao.ele_head('OTR2')['s']\n",
    "\n",
    "stats = []\n",
    "for ele in IX:\n",
    "    d = tao.bunch_params(ele)\n",
    "    # Skipl ones with no beam\n",
    "    if d['charge_live'] == 0:\n",
    "        continue\n",
    "    \n",
    "    if d['s'] > S_STOP:\n",
    "        break\n",
    "        \n",
    "    stats.append(d)\n",
    "\n",
    "df = pd.DataFrame(stats)#.set_index('ix_ele')\n",
    "df"
   ]
  },
  {
   "cell_type": "code",
   "execution_count": null,
   "id": "8466a758-dc71-42f8-96e8-e69d383369bd",
   "metadata": {},
   "outputs": [],
   "source": [
    "fig, ax = plt.subplots(figsize=(12,5))\n",
    "plt.plot(df['s'], df['sigma_x']*1e6, label=r'$\\sigma_x$')\n",
    "plt.plot(df['s'], df['sigma_y']*1e6, label=r'$\\sigma_y$')\n",
    "plt.xlabel('s (m)')\n",
    "plt.ylabel('beam sizes (µm)')\n",
    "plt.legend();"
   ]
  },
  {
   "cell_type": "code",
   "execution_count": null,
   "id": "74b291af-a44b-410a-80b2-0dfb5c091dac",
   "metadata": {},
   "outputs": [],
   "source": [
    "# Get an array of where the beam is saved\n",
    "s_saved = np.array(df[df['beam_saved']]['s'])"
   ]
  },
  {
   "cell_type": "code",
   "execution_count": null,
   "id": "1f4b6f63-56e7-4b37-ba0c-a07e2b6051d5",
   "metadata": {},
   "outputs": [],
   "source": [
    "fig, ax = plt.subplots(figsize=(12,5))\n",
    "plt.plot(df['s'], df['norm_emit_x']*1e6, label=r'$\\epsilon_{n,x}$')\n",
    "plt.plot(df['s'], df['norm_emit_y']*1e6, label=r'$\\epsilon_{n,y}$')\n",
    "plt.xlabel('s (m)')\n",
    "plt.ylabel('Beam emittance(mm-mrad)')\n",
    "\n",
    "\n",
    "# This is where the beam is saved\n",
    "plt.scatter(s_saved, np.ones(len(s_saved))*0, color = 'black', marker = 'x')\n",
    "\n",
    "\n",
    "plt.legend();"
   ]
  }
 ],
 "metadata": {
  "kernelspec": {
   "display_name": "Python 3 (ipykernel)",
   "language": "python",
   "name": "python3"
  },
  "language_info": {
   "codemirror_mode": {
    "name": "ipython",
    "version": 3
   },
   "file_extension": ".py",
   "mimetype": "text/x-python",
   "name": "python",
   "nbconvert_exporter": "python",
   "pygments_lexer": "ipython3",
   "version": "3.9.7"
  }
 },
 "nbformat": 4,
 "nbformat_minor": 5
}
