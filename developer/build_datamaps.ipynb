{
 "cells": [
  {
   "cell_type": "markdown",
   "id": "3687bd3d-4830-4250-9f16-9e6da69c4a26",
   "metadata": {},
   "source": [
    "# Build datamaps for all models"
   ]
  },
  {
   "cell_type": "code",
   "execution_count": 1,
   "id": "90500c57-1dc1-4209-9c17-46543b266cd2",
   "metadata": {},
   "outputs": [],
   "source": [
    "from lcls_live.datamaps.tabular import TabularDataMap, datamap_from_tao_data\n",
    "from lcls_live.datamaps.klystron import KlystronDataMap, klystron_pvinfo, existing_LCLS_klystrons_sector_station, subbooster_pvinfo, SUBBOOSTER_SECTORS\n",
    "\n",
    "from scipy.constants import e as e_charge\n",
    "from pytao import Tao\n",
    "import json\n",
    "import os\n",
    "from lcls_live import data_dir\n",
    "import pandas as pd"
   ]
  },
  {
   "cell_type": "markdown",
   "id": "0da0d602-2f07-44bc-99d6-68664ee9a454",
   "metadata": {},
   "source": [
    "# cu_hxr and cu_sxr"
   ]
  },
  {
   "cell_type": "code",
   "execution_count": 2,
   "id": "290f5564-549d-4e8b-8fa4-fa35fc4f15f3",
   "metadata": {},
   "outputs": [],
   "source": [
    "from lcls_live.datamaps.builders import *"
   ]
  },
  {
   "cell_type": "code",
   "execution_count": 3,
   "id": "1b77b010-d10c-4c82-a29d-145160fce9fa",
   "metadata": {},
   "outputs": [],
   "source": [
    "MASTER = {} # Master model datamap dict"
   ]
  },
  {
   "cell_type": "markdown",
   "id": "32d9210e",
   "metadata": {},
   "source": [
    "## Utility function for creating map for given model "
   ]
  },
  {
   "cell_type": "code",
   "execution_count": 4,
   "id": "0ee94855-cc9a-4789-b2f1-a4e595a00363",
   "metadata": {},
   "outputs": [],
   "source": [
    "def build_json_rep(model):\n",
    "    #set up tao\n",
    "    # Basic model with options\n",
    "    MODEL = model\n",
    "    OPTIONS = f'-noplot'\n",
    "    INIT = f'-init $LCLS_LATTICE/bmad/models/{MODEL}/tao.init {OPTIONS}'\n",
    "    tao = Tao(INIT)\n",
    "    \n",
    "    \n",
    "    rep = []\n",
    "    \n",
    "    \n",
    "    dm = build_bpm_dm(tao, model)\n",
    "    rep.append(\n",
    "        {\n",
    "        \"name\": \"bpms\",\n",
    "        \"class\": \"tabular\",\n",
    "        \"data\": dm.to_json()\n",
    "        }\n",
    "    )    \n",
    "    \n",
    "    # Correctors\n",
    "    dm = build_corrector_dm(tao)\n",
    "    rep.append(\n",
    "        {\n",
    "        \"name\": \"correctors\",\n",
    "        \"class\": \"tabular\",\n",
    "        \"data\": dm.to_json()\n",
    "        }\n",
    "    )    \n",
    "    \n",
    "    \n",
    "    #subbooster_dm\n",
    "    dm = build_subbooster_dm(model)\n",
    "    rep.append(\n",
    "        {\n",
    "        \"name\": \"subboosters\",\n",
    "        \"class\": \"tabular\",\n",
    "        \"data\": dm.to_json()\n",
    "        }\n",
    "    )\n",
    "    \n",
    "    #linac\n",
    "    dm = build_linac_dm(model)\n",
    "    rep.append(\n",
    "        {\n",
    "        \"name\": \"linac\",\n",
    "        \"class\": \"tabular\",\n",
    "        \"data\": dm.to_json()\n",
    "        }\n",
    "    )\n",
    "    \n",
    "    #klystron\n",
    "    dms = build_klystron_dms(tao, model)\n",
    "    for dm in dms:\n",
    "        rep.append(\n",
    "            {\n",
    "            \"name\": dm.name,\n",
    "            \"class\": \"klystron\",\n",
    "            \"data\": dm.to_json()\n",
    "            }\n",
    "        )\n",
    "    \n",
    "    \n",
    "    #quad\n",
    "    dm = build_quad_dm(tao)\n",
    "    rep.append(\n",
    "        {\n",
    "        \"name\": \"quad\",\n",
    "        \"class\": \"tabular\",\n",
    "        \"data\": dm.to_json()\n",
    "        }\n",
    "    )\n",
    "    \n",
    "    #otr2\n",
    "    dm = beginning_meas_twiss_datamap('WS02', 'WIRE:IN20:561' )\n",
    "    rep.append(\n",
    "        {\n",
    "        \"name\": \"beginning_WS02\",\n",
    "        \"class\": \"tabular\",\n",
    "        \"data\": dm.to_json()\n",
    "        }\n",
    "    )\n",
    "    \n",
    "    \n",
    "    #energy_meas\n",
    "    dm = build_energy_dm(model)\n",
    "    rep.append(\n",
    "        {\n",
    "        \"name\": \"tao_energy_measurements\",\n",
    "        \"class\": \"tabular\",\n",
    "        \"data\": dm.to_json()\n",
    "        }\n",
    "    )\n",
    "    \n",
    "    return rep"
   ]
  },
  {
   "cell_type": "code",
   "execution_count": 5,
   "id": "a83c1e48-01dd-45e2-a5e2-85daf6d8a8fe",
   "metadata": {},
   "outputs": [],
   "source": [
    "# add to master\n",
    "for model in [\"cu_hxr\", \"cu_sxr\"]:\n",
    "    MASTER[model] = build_json_rep(model)"
   ]
  },
  {
   "cell_type": "markdown",
   "id": "b0cc4193-78e8-41f8-bdb2-16d8ce2cff4a",
   "metadata": {},
   "source": [
    "# cu_spec (i.e. the injector)"
   ]
  },
  {
   "cell_type": "code",
   "execution_count": 6,
   "id": "9464ace8-67e7-40ab-a236-ab9f21a4f3a5",
   "metadata": {},
   "outputs": [],
   "source": [
    "def build_cu_spec_linac_dm():\n",
    "    dat =  [\n",
    "    \n",
    "        {'name': 'L0A_phase',\n",
    "             'pvname':'ACCL:IN20:300:L0A_PDES', # deg\n",
    "             'bmad_factor': 1/360,\n",
    "             'bmad_name': 'L0A',\n",
    "             'bmad_attribute': 'phi0'\n",
    "            },\n",
    "        {'name': 'L0B_phase',\n",
    "             'pvname':'ACCL:IN20:400:L0B_PDES', # deg\n",
    "             'bmad_factor': 1/360,\n",
    "             'bmad_name': 'L0B',\n",
    "             'bmad_attribute': 'phi0'\n",
    "            },\n",
    "        {'name': 'L0A_voltage',\n",
    "             'pvname':'ACCL:IN20:300:L0A_ADES', # MV\n",
    "             'bmad_factor': 1e6,\n",
    "             'bmad_name': 'L0A',\n",
    "             'bmad_attribute': 'voltage'\n",
    "            },    \n",
    "        {'name': 'L0B_voltage',\n",
    "             'pvname':'ACCL:IN20:400:L0B_ADES', # MV\n",
    "             'bmad_factor': 1e6,\n",
    "             'bmad_name': 'L0B',\n",
    "             'bmad_attribute': 'voltage'\n",
    "            }\n",
    "    ]\n",
    "    df = pd.DataFrame(dat)\n",
    "    dm = TabularDataMap(df, pvname='pvname', element='bmad_name', attribute='bmad_attribute', factor='bmad_factor')\n",
    "    return dm\n"
   ]
  },
  {
   "cell_type": "code",
   "execution_count": 7,
   "id": "61d01fef-e3bb-4f2d-8a43-8cb434c5489e",
   "metadata": {},
   "outputs": [],
   "source": [
    "def build_cu_spec_json_rep():\n",
    "    #set up tao\n",
    "    model = 'cu_spec'\n",
    "    options = '-noplot'\n",
    "    init = f'-init $LCLS_LATTICE/bmad/models/{model}/tao.init {options}'\n",
    "    \n",
    "    tao = Tao(init)\n",
    "    \n",
    "    \n",
    "    rep = []\n",
    "    \n",
    "    # BPMs\n",
    "    dm = build_bpm_dm(tao, model)\n",
    "    rep.append(\n",
    "        {\n",
    "        \"name\": \"bpms\",\n",
    "        \"class\": \"tabular\",\n",
    "        \"data\": dm.to_json()\n",
    "        }\n",
    "    )     \n",
    "    \n",
    "    # Correctors\n",
    "    dm = build_corrector_dm(tao)\n",
    "    rep.append(\n",
    "        {\n",
    "        \"name\": \"correctors\",\n",
    "        \"class\": \"tabular\",\n",
    "        \"data\": dm.to_json()\n",
    "        }\n",
    "    )        \n",
    "    \n",
    "    # quad\n",
    "    dm =  build_quad_dm(tao)\n",
    "    rep.append(\n",
    "        {\n",
    "        \"name\": \"quad\",\n",
    "        \"class\": \"tabular\",\n",
    "        \"data\": dm.to_json()\n",
    "        }\n",
    "    )\n",
    "    \n",
    "    #solenoid\n",
    "    dm = build_solenoid_dm(tao, model)\n",
    "    rep.append(\n",
    "        {\n",
    "        \"name\": \"solenoid\",\n",
    "        \"class\": \"tabular\",\n",
    "        \"data\": dm.to_json()\n",
    "        }\n",
    "    )      \n",
    "    \n",
    "    # Linac\n",
    "    dm = build_cu_spec_linac_dm()\n",
    "    rep.append(\n",
    "        {\n",
    "        \"name\": \"linac\",\n",
    "        \"class\": \"tabular\",\n",
    "        \"data\": dm.to_json()\n",
    "        }\n",
    "    )    \n",
    "    \n",
    "    return rep\n",
    "\n",
    "\n",
    "# add to master\n",
    "MASTER[\"cu_spec\"] = build_cu_spec_json_rep()"
   ]
  },
  {
   "cell_type": "markdown",
   "id": "1dab7eac-25a3-4e2d-8842-c957bd3403bb",
   "metadata": {},
   "source": [
    "# SC lines"
   ]
  },
  {
   "cell_type": "code",
   "execution_count": 8,
   "id": "d7949d79-1d10-4d59-8610-7cd40cbf4f6d",
   "metadata": {},
   "outputs": [],
   "source": [
    "## sc lines\n",
    "def build_json_rep_sc(model):\n",
    "    #set up tao\n",
    "    # Basic model with options\n",
    "    MODEL = model\n",
    "    OPTIONS = f'-noplot'\n",
    "    INIT = f'-init $LCLS_LATTICE/bmad/models/{MODEL}/tao.init {OPTIONS}'\n",
    "    tao = Tao(INIT)\n",
    "    \n",
    "    \n",
    "    rep = []\n",
    "    \n",
    "    \n",
    "    dm = build_bpm_dm(tao, model)\n",
    "    rep.append(\n",
    "        {\n",
    "        \"name\": \"bpms\",\n",
    "        \"class\": \"tabular\",\n",
    "        \"data\": dm.to_json()\n",
    "        }\n",
    "    )    \n",
    "    \n",
    "    dm = build_cavity_dm(tao)\n",
    "    rep.append(\n",
    "        {\n",
    "        \"name\": \"cavities\",\n",
    "        \"class\": \"tabular\",\n",
    "        \"data\": dm.to_json()\n",
    "        }\n",
    "    )        \n",
    "    \n",
    "    # Correctors\n",
    "    dm = build_corrector_dm(tao)\n",
    "    rep.append(\n",
    "        {\n",
    "        \"name\": \"correctors\",\n",
    "        \"class\": \"tabular\",\n",
    "        \"data\": dm.to_json()\n",
    "        }\n",
    "    )    \n",
    "    \n",
    "    \n",
    "    #quad\n",
    "    dm = build_quad_dm(tao)\n",
    "    rep.append(\n",
    "        {\n",
    "        \"name\": \"quad\",\n",
    "        \"class\": \"tabular\",\n",
    "        \"data\": dm.to_json()\n",
    "        }\n",
    "    )\n",
    "    \n",
    "    #solenoid\n",
    "    dm = build_solenoid_dm(tao, model)\n",
    "    rep.append(\n",
    "        {\n",
    "        \"name\": \"solenoid\",\n",
    "        \"class\": \"tabular\",\n",
    "        \"data\": dm.to_json()\n",
    "        }\n",
    "    )    \n",
    "    \n",
    "    \n",
    "    return rep\n"
   ]
  },
  {
   "cell_type": "code",
   "execution_count": 9,
   "id": "9b98ef64-c382-4b89-9af8-577385bad73f",
   "metadata": {},
   "outputs": [],
   "source": [
    "# add to master\n",
    "for model in [\n",
    "    \"sc_hxr\",\n",
    "    \"sc_sxr\",\n",
    "    \"sc_bsyd\",\n",
    "    # \"sc_dasel\", # this is incomplete, missing Q27 etc. device names\n",
    "    \"sc_inj\",\n",
    "    \"sc_diag0\",\n",
    "]:\n",
    "    MASTER[model] = build_json_rep_sc(model)"
   ]
  },
  {
   "cell_type": "markdown",
   "id": "605b5d86-cd1d-455f-a4bb-c5b744b15ccd",
   "metadata": {},
   "source": [
    "# Dump all to master file"
   ]
  },
  {
   "cell_type": "code",
   "execution_count": 10,
   "id": "d50d7cd1-e000-4fd9-a755-1fe42fad38b5",
   "metadata": {},
   "outputs": [],
   "source": [
    "with open(os.path.join(data_dir, 'datamaps_master.json'), \"w\") as f:\n",
    "    json.dump(MASTER, f)"
   ]
  },
  {
   "cell_type": "markdown",
   "id": "2c76de78-8368-410f-b606-fa064403e155",
   "metadata": {},
   "source": [
    "# Test"
   ]
  },
  {
   "cell_type": "code",
   "execution_count": 11,
   "id": "85079a34-d3fe-42a2-93b6-222f5995c895",
   "metadata": {},
   "outputs": [
    {
     "data": {
      "text/plain": [
       "dict_keys(['bpms', 'cavities', 'correctors', 'quad', 'solenoid'])"
      ]
     },
     "execution_count": 11,
     "metadata": {},
     "output_type": "execute_result"
    }
   ],
   "source": [
    "from lcls_live.datamaps import get_datamaps\n",
    "\n",
    "DM = get_datamaps('sc_inj')\n",
    "DM.keys()"
   ]
  },
  {
   "cell_type": "code",
   "execution_count": 12,
   "id": "ca41a88c-b8c9-47e1-a62a-c90dcfb512d2",
   "metadata": {},
   "outputs": [
    {
     "data": {
      "text/html": [
       "<div>\n",
       "<style scoped>\n",
       "    .dataframe tbody tr th:only-of-type {\n",
       "        vertical-align: middle;\n",
       "    }\n",
       "\n",
       "    .dataframe tbody tr th {\n",
       "        vertical-align: top;\n",
       "    }\n",
       "\n",
       "    .dataframe thead th {\n",
       "        text-align: right;\n",
       "    }\n",
       "</style>\n",
       "<table border=\"1\" class=\"dataframe\">\n",
       "  <thead>\n",
       "    <tr style=\"text-align: right;\">\n",
       "      <th></th>\n",
       "      <th>bmad_name</th>\n",
       "      <th>pvname_rbv</th>\n",
       "      <th>pvname</th>\n",
       "      <th>bmad_factor</th>\n",
       "      <th>bmad_attribute</th>\n",
       "    </tr>\n",
       "  </thead>\n",
       "  <tbody>\n",
       "    <tr>\n",
       "      <th>0</th>\n",
       "      <td>SOL1B</td>\n",
       "      <td>SOLN:GUNB:212:BACT</td>\n",
       "      <td>SOLN:GUNB:212:BDES</td>\n",
       "      <td>0.775403</td>\n",
       "      <td>bs_field</td>\n",
       "    </tr>\n",
       "    <tr>\n",
       "      <th>1</th>\n",
       "      <td>SOL2B</td>\n",
       "      <td>SOLN:GUNB:823:BACT</td>\n",
       "      <td>SOLN:GUNB:823:BDES</td>\n",
       "      <td>0.775403</td>\n",
       "      <td>bs_field</td>\n",
       "    </tr>\n",
       "  </tbody>\n",
       "</table>\n",
       "</div>"
      ],
      "text/plain": [
       "  bmad_name          pvname_rbv              pvname  bmad_factor  \\\n",
       "0     SOL1B  SOLN:GUNB:212:BACT  SOLN:GUNB:212:BDES     0.775403   \n",
       "1     SOL2B  SOLN:GUNB:823:BACT  SOLN:GUNB:823:BDES     0.775403   \n",
       "\n",
       "  bmad_attribute  \n",
       "0       bs_field  \n",
       "1       bs_field  "
      ]
     },
     "execution_count": 12,
     "metadata": {},
     "output_type": "execute_result"
    }
   ],
   "source": [
    "DM['solenoid'].data"
   ]
  },
  {
   "cell_type": "code",
   "execution_count": 13,
   "id": "de511e19-83e0-4091-8278-e2935c3086b0",
   "metadata": {},
   "outputs": [
    {
     "data": {
      "text/plain": [
       "['ACCL:L0B:0110:PACTMEAN',\n",
       " 'ACCL:L0B:0120:PACTMEAN',\n",
       " 'ACCL:L0B:0130:PACTMEAN',\n",
       " 'ACCL:L0B:0140:PACTMEAN',\n",
       " 'ACCL:L0B:0150:PACTMEAN',\n",
       " 'ACCL:L0B:0160:PACTMEAN',\n",
       " 'ACCL:L0B:0170:PACTMEAN',\n",
       " 'ACCL:L0B:0180:PACTMEAN',\n",
       " 'ACCL:L0B:0110:AACTMEAN',\n",
       " 'ACCL:L0B:0120:AACTMEAN']"
      ]
     },
     "execution_count": 13,
     "metadata": {},
     "output_type": "execute_result"
    }
   ],
   "source": [
    "DM['cavities'].pvlist[0:10]"
   ]
  },
  {
   "cell_type": "code",
   "execution_count": 14,
   "id": "d1fd58d7-c204-4407-b3d1-e43099654ccc",
   "metadata": {},
   "outputs": [],
   "source": [
    "## Check live values\n",
    "# def check_live(datamap, epics):\n",
    "#     return dict(zip(datamap.pvlist, epics.caget_many(datamap.pvlist) ))\n",
    "# \n",
    "# import epics\n",
    "# check_live(DM['solenoid'], epics)"
   ]
  }
 ],
 "metadata": {
  "kernelspec": {
   "display_name": "Python 3 (ipykernel)",
   "language": "python",
   "name": "python3"
  },
  "language_info": {
   "codemirror_mode": {
    "name": "ipython",
    "version": 3
   },
   "file_extension": ".py",
   "mimetype": "text/x-python",
   "name": "python",
   "nbconvert_exporter": "python",
   "pygments_lexer": "ipython3",
   "version": "3.9.13"
  }
 },
 "nbformat": 4,
 "nbformat_minor": 5
}
