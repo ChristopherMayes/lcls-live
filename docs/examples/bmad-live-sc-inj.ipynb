{
 "cells": [
  {
   "cell_type": "markdown",
   "id": "ff6180e4-ec7f-4aa7-8911-9706eaab94d5",
   "metadata": {},
   "source": [
    "# `sc_inj` Live"
   ]
  },
  {
   "cell_type": "code",
   "execution_count": 1,
   "id": "c8629902-88b6-4f74-9352-9ed5a8dcef83",
   "metadata": {},
   "outputs": [],
   "source": [
    "# Useful for debugging\n",
    "%load_ext autoreload\n",
    "%autoreload 2\n",
    "\n",
    "%config InlineBackend.figure_format = 'retina'\n",
    "%matplotlib inline"
   ]
  },
  {
   "cell_type": "code",
   "execution_count": 2,
   "id": "e39b4706-f357-4ebc-9adc-55a33b376220",
   "metadata": {},
   "outputs": [],
   "source": [
    "from lcls_live.datamaps import get_datamaps\n",
    "from lcls_live.archiver import lcls_archiver_restore\n",
    "\n",
    "from lcls_live.tools import isotime\n",
    "\n",
    "import matplotlib.pyplot as plt\n",
    "import numpy as np\n",
    "\n",
    "import os"
   ]
  },
  {
   "cell_type": "code",
   "execution_count": 3,
   "id": "791d2fa6-05cd-4813-a307-843b84fd140d",
   "metadata": {},
   "outputs": [],
   "source": [
    "BEAMPATH = 'sc_diag0'"
   ]
  },
  {
   "cell_type": "markdown",
   "id": "bbdbf72a-9063-4a2c-a9d9-2d427fa1588e",
   "metadata": {},
   "source": [
    "# Bmad model"
   ]
  },
  {
   "cell_type": "code",
   "execution_count": 4,
   "id": "bad53071-c9d1-46b8-8def-ac712aad4cb9",
   "metadata": {},
   "outputs": [],
   "source": [
    "from pytao import Tao\n",
    "import pandas as pd"
   ]
  },
  {
   "cell_type": "code",
   "execution_count": 5,
   "id": "fd5ec66a-c8d2-411f-a170-65f452c0d406",
   "metadata": {},
   "outputs": [],
   "source": [
    "BEGELE = 'BEGINNING'\n",
    "ENDELE = 'OTR0H04'\n",
    "\n",
    "tao = Tao(f'-init $LCLS_LATTICE/bmad/models/sc_diag0/tao.init  -slice  {BEGELE}:{ENDELE}')\n",
    "tao.cmd('place floor bpm_orbit')\n",
    "tao.cmd('sc floor -10 10')\n",
    "\n",
    "def ele_info(ele):\n",
    "    dat = tao.ele_head(ele)\n",
    "    dat.update(tao.ele_gen_attribs(ele))\n",
    "    return dat\n",
    "\n",
    "def ele_table(match=\"*\"):\n",
    "    ix_ele = tao.lat_list(match, \"ele.ix_ele\", flags=\"-no_slaves\")\n",
    "    dat = list(map(ele_info, ix_ele))\n",
    "    df = pd.DataFrame(dat, index=ix_ele)\n",
    "    df.L.fillna(0, inplace=True)\n",
    "    df['s_center'] = df['s'] - df['L']/2\n",
    "    df['s_beginning'] = df['s'] - df['L']\n",
    "    return  df\n",
    "\n",
    "df = ele_table()\n",
    "\n",
    "\n",
    "# Elements with device names\n",
    "devices = df[df['alias'] != '']\n",
    "#devices['name alias s'.split()]"
   ]
  },
  {
   "cell_type": "markdown",
   "id": "0f16a169-96d7-42b4-85a9-edd2694a0d3d",
   "metadata": {},
   "source": [
    "## Datamaps, and all PVs needed"
   ]
  },
  {
   "cell_type": "code",
   "execution_count": 6,
   "id": "bf51c97d-7be2-4be7-9b29-6004c89d70c2",
   "metadata": {},
   "outputs": [],
   "source": [
    "from copy import deepcopy\n",
    "def filter_datamap(dm, bmad_names):\n",
    "    bnames = dm.data['bmad_name'] \n",
    "    bmad_names = set(bmad_names)\n",
    "    ix = bnames[[name in bmad_names for name in bnames]].index\n",
    "    dm2 = deepcopy(dm)\n",
    "    dm2.data = dm.data.loc[ix]\n",
    "    return dm2"
   ]
  },
  {
   "cell_type": "code",
   "execution_count": 7,
   "id": "a2dfa10b-5b17-4854-be99-6c90c9b11658",
   "metadata": {},
   "outputs": [
    {
     "data": {
      "text/plain": [
       "dict_keys(['bpms', 'cavities', 'correctors', 'quad'])"
      ]
     },
     "execution_count": 7,
     "metadata": {},
     "output_type": "execute_result"
    }
   ],
   "source": [
    "DM0 = get_datamaps(BEAMPATH)\n",
    "DM0.keys()"
   ]
  },
  {
   "cell_type": "code",
   "execution_count": 8,
   "id": "456e089d-38f1-4ec0-9b90-ff8478019b38",
   "metadata": {},
   "outputs": [
    {
     "data": {
      "text/plain": [
       "TabularDataMap(data=                pvname        tao_datum    tao_factor bmad_name\n",
       "0      BPMS:GUNB:314:X       orbit.x[1]  1.000000e-03     BPM1B\n",
       "1      BPMS:GUNB:925:X       orbit.x[2]  1.000000e-03     BPM2B\n",
       "2       BPMS:HTR:120:X       orbit.x[3]  1.000000e-03   BPM0H01\n",
       "3       BPMS:HTR:320:X       orbit.x[4]  1.000000e-03   BPM0H04\n",
       "23     BPMS:GUNB:314:Y       orbit.y[1]  1.000000e-03     BPM1B\n",
       "24     BPMS:GUNB:925:Y       orbit.y[2]  1.000000e-03     BPM2B\n",
       "25      BPMS:HTR:120:Y       orbit.y[3]  1.000000e-03   BPM0H01\n",
       "26      BPMS:HTR:320:Y       orbit.y[4]  1.000000e-03   BPM0H04\n",
       "46  BPMS:GUNB:314:TMIT  orbit.charge[1]  1.602177e-19     BPM1B\n",
       "47  BPMS:GUNB:925:TMIT  orbit.charge[2]  1.602177e-19     BPM2B\n",
       "48   BPMS:HTR:120:TMIT  orbit.charge[3]  1.602177e-19   BPM0H01\n",
       "49   BPMS:HTR:320:TMIT  orbit.charge[4]  1.602177e-19   BPM0H04, pvname='pvname', element='tao_datum', attribute='', factor='tao_factor', offset='', bmad_format='! No equivalent Bmad format for: set data {element}|meas  = {value}', tao_format='set data {element}|meas  = {value}')"
      ]
     },
     "execution_count": 8,
     "metadata": {},
     "output_type": "execute_result"
    }
   ],
   "source": [
    "good_names = set(df['name'])\n",
    "\n",
    "DM = {}\n",
    "for name, dm in DM0.items():\n",
    "    DM[name] = filter_datamap(dm, good_names)\n",
    "\n",
    "DM['bpms']"
   ]
  },
  {
   "cell_type": "code",
   "execution_count": 9,
   "id": "7a7aaff7-1104-4764-8854-006a87615bc0",
   "metadata": {},
   "outputs": [
    {
     "data": {
      "text/plain": [
       "['XCOR:GUNB:293:BACT',\n",
       " 'XCOR:GUNB:388:BACT',\n",
       " 'XCOR:GUNB:513:BACT',\n",
       " 'XCOR:GUNB:713:BACT',\n",
       " 'XCOR:GUNB:927:BACT',\n",
       " 'XCOR:L0B:0185:BACT',\n",
       " 'XCOR:HTR:148:BACT',\n",
       " 'XCOR:HTR:288:BACT',\n",
       " 'YCOR:GUNB:293:BACT',\n",
       " 'YCOR:GUNB:388:BACT',\n",
       " 'YCOR:GUNB:513:BACT',\n",
       " 'YCOR:GUNB:713:BACT',\n",
       " 'YCOR:GUNB:927:BACT',\n",
       " 'YCOR:L0B:0185:BACT',\n",
       " 'YCOR:HTR:129:BACT',\n",
       " 'YCOR:HTR:309:BACT']"
      ]
     },
     "execution_count": 9,
     "metadata": {},
     "output_type": "execute_result"
    }
   ],
   "source": [
    "list(DM['correctors'].data['pvname'])"
   ]
  },
  {
   "cell_type": "code",
   "execution_count": 10,
   "id": "7e237216-0ea2-4dd4-9c85-fb0310f59b64",
   "metadata": {},
   "outputs": [],
   "source": [
    "# datamaps to exclude\n",
    "DENYLIST = [\n",
    "    #'bpms',\n",
    "    'cavities',\n",
    "    'correctors',\n",
    "    #'quad',\n",
    "]"
   ]
  },
  {
   "cell_type": "code",
   "execution_count": 11,
   "id": "49cbb944-b46c-42e5-bf39-e6bcaef41023",
   "metadata": {},
   "outputs": [
    {
     "data": {
      "text/plain": [
       "17"
      ]
     },
     "execution_count": 11,
     "metadata": {},
     "output_type": "execute_result"
    }
   ],
   "source": [
    "# PVs needed\n",
    "PVLIST =  []\n",
    "for name, dm in DM.items():\n",
    "    if name in DENYLIST:\n",
    "        continue\n",
    "    PVLIST.extend(dm.pvlist)\n",
    "PVLIST = list(set(PVLIST))\n",
    "len(PVLIST)"
   ]
  },
  {
   "cell_type": "markdown",
   "id": "9b19a080-f484-4a98-8bd0-435932a6b56e",
   "metadata": {},
   "source": [
    "## EPICS"
   ]
  },
  {
   "cell_type": "code",
   "execution_count": 12,
   "id": "c85d5f75-c26f-4b5e-8d7c-df72e2105105",
   "metadata": {},
   "outputs": [],
   "source": [
    "import epics\n",
    "from epics import caget_many, caget\n",
    "from time import sleep, time\n",
    "\n",
    "def caget_dict(pvlist):\n",
    "    return dict(zip(pvlist, caget_many(pvlist)))"
   ]
  },
  {
   "cell_type": "code",
   "execution_count": 13,
   "id": "a7951a2c-71d0-4edb-9898-c376ad1ee663",
   "metadata": {},
   "outputs": [],
   "source": [
    "MONITOR = {pvname:epics.PV(pvname) for pvname in PVLIST}\n",
    "sleep(1) # Wait for all to connect"
   ]
  },
  {
   "cell_type": "code",
   "execution_count": 14,
   "id": "aac53441-0b96-40c7-9d5e-a64552b7f852",
   "metadata": {},
   "outputs": [
    {
     "data": {
      "text/plain": [
       "{'BPMS:HTR:120:X': 0.0,\n",
       " 'QUAD:HTR:300:BACT': -1.149942356212156,\n",
       " 'BPMS:GUNB:314:X': 0.0,\n",
       " 'QUAD:L0B:0185:BACT': 0.00287317367486943,\n",
       " 'BPMS:GUNB:314:Y': 0.0,\n",
       " 'QUAD:HTR:120:BACT': -1.9341131855324296,\n",
       " 'BPMS:HTR:320:X': 0.0,\n",
       " 'BPMS:GUNB:925:TMIT': 0.0,\n",
       " 'BPMS:HTR:320:Y': 0.0,\n",
       " 'BPMS:HTR:320:TMIT': 0.0,\n",
       " 'QUAD:HTR:140:BACT': 2.0053450063492724,\n",
       " 'BPMS:GUNB:314:TMIT': 0.0,\n",
       " 'BPMS:HTR:120:TMIT': 0.0,\n",
       " 'BPMS:GUNB:925:X': 0.0,\n",
       " 'QUAD:HTR:320:BACT': 0.8273343077135241,\n",
       " 'BPMS:HTR:120:Y': 0.0,\n",
       " 'BPMS:GUNB:925:Y': 0.0}"
      ]
     },
     "execution_count": 14,
     "metadata": {},
     "output_type": "execute_result"
    }
   ],
   "source": [
    "def get_pvdata():   \n",
    "    itime = isotime()\n",
    "    pvdata =  {k:MONITOR[k].get() for k in MONITOR}\n",
    "    return pvdata\n",
    "PVDATA = get_pvdata()\n",
    "\n",
    "PVDATA"
   ]
  },
  {
   "cell_type": "code",
   "execution_count": 15,
   "id": "014de43c-2e3c-4220-9996-7a88e4ce3a58",
   "metadata": {},
   "outputs": [],
   "source": [
    "# Check for bad PVs\n",
    "bad = set()\n",
    "for k, v in PVDATA.items():\n",
    "    if v is None:\n",
    "        bad.add(k.split(':')[2])\n",
    "        print(k)\n",
    "assert len(bad) == 0"
   ]
  },
  {
   "cell_type": "markdown",
   "id": "4ba00313-3fe3-40a1-9239-5207b832fe9a",
   "metadata": {},
   "source": [
    "# Tao conveniences"
   ]
  },
  {
   "cell_type": "code",
   "execution_count": 16,
   "id": "c14e4e96-2745-4707-a81e-f735fd2d43fd",
   "metadata": {},
   "outputs": [],
   "source": [
    "def tao_commands(pvdata):\n",
    "    cmds = []\n",
    "    for name, dm in DM.items():\n",
    "        cmds.extend(dm.as_tao(pvdata))\n",
    "    return cmds"
   ]
  },
  {
   "cell_type": "code",
   "execution_count": 17,
   "id": "d9ddf570-db6e-4383-90e3-34809dadc631",
   "metadata": {},
   "outputs": [],
   "source": [
    "def save_cmds(cmds, filename='cmds.tao'): # Write to file for running with vanilla Tao\n",
    "    with open(filename, 'w') as f:\n",
    "        f.write('set global lattice_calc_on = F\\n')\n",
    "        f.write('set global plot_on = F\\n')    \n",
    "        for cmd in CMDS:\n",
    "            f.write(cmd+'\\n')\n",
    "        f.write('set global lattice_calc_on = T\\n')        \n",
    "        f.write('set global plot_on = T\\n')   "
   ]
  },
  {
   "cell_type": "markdown",
   "id": "ee617749-33fc-4275-a380-c4493b630c57",
   "metadata": {},
   "source": [
    "## Form commands using PVDATA and datamaps"
   ]
  },
  {
   "cell_type": "code",
   "execution_count": 18,
   "id": "ceac60af-4218-4a46-b365-ed748cc55596",
   "metadata": {},
   "outputs": [
    {
     "data": {
      "text/plain": [
       "['set data orbit.x[1]|meas  = 0.001 * 0.0',\n",
       " 'set data orbit.x[2]|meas  = 0.001 * 0.0',\n",
       " 'set data orbit.x[3]|meas  = 0.001 * 0.0',\n",
       " 'set data orbit.x[4]|meas  = 0.001 * 0.0',\n",
       " 'set data orbit.y[1]|meas  = 0.001 * 0.0']"
      ]
     },
     "execution_count": 18,
     "metadata": {},
     "output_type": "execute_result"
    }
   ],
   "source": [
    "tao_commands(PVDATA)[0:5]"
   ]
  },
  {
   "cell_type": "markdown",
   "id": "635dd569-4ad8-48a7-b80d-6ef6ac6b7f29",
   "metadata": {},
   "source": [
    "# Energy setup"
   ]
  },
  {
   "cell_type": "code",
   "execution_count": 19,
   "id": "1fb7668b-2215-48bd-8dda-11fd2c6cc5cd",
   "metadata": {},
   "outputs": [
    {
     "data": {
      "text/plain": [
       "59.91548872666886"
      ]
     },
     "execution_count": 19,
     "metadata": {},
     "output_type": "execute_result"
    }
   ],
   "source": [
    "# Measured energy\n",
    "energy_meas = caget('BEND:HTR:480:BACT') * 1e9\n",
    "energy_meas/ 1e6 # MeV"
   ]
  },
  {
   "cell_type": "code",
   "execution_count": 20,
   "id": "f68daeeb-16f3-48c0-8b70-2658e529b689",
   "metadata": {},
   "outputs": [
    {
     "data": {
      "text/plain": [
       "[]"
      ]
     },
     "execution_count": 20,
     "metadata": {},
     "output_type": "execute_result"
    }
   ],
   "source": [
    "tao.cmd('set ele quad::* field_master = T')"
   ]
  },
  {
   "cell_type": "code",
   "execution_count": 21,
   "id": "aedbc7f6-a192-4dc7-aac4-db6d4c64fbf3",
   "metadata": {},
   "outputs": [],
   "source": [
    "cmds = f\"\"\"\n",
    "set lattice model=design\n",
    "vv\n",
    "vd\n",
    "\n",
    "set dat L0B.energy|meas = {energy_meas}\n",
    "\n",
    "use var cavities[8]\n",
    "use dat L0B.energy\n",
    "run\n",
    "\"\"\".strip().split('\\n')\n",
    "for cmd in cmds:\n",
    "    tao.cmd(cmd)"
   ]
  },
  {
   "cell_type": "code",
   "execution_count": 22,
   "id": "6826ca59-3550-4193-a734-c90824f73761",
   "metadata": {},
   "outputs": [
    {
     "name": "stdout",
     "output_type": "stream",
     "text": [
      "-------------------------\n",
      "Tao> sho lat -at alias ENDL0B:OTR0H04\n",
      "# Values shown are for the Exit End of each Element:\n",
      "# Index  name    key                      s       l  alias\n",
      "    119  ENDL0B  Marker              18.175   0.000\n",
      "    120  BEGHTR  Marker              18.175   0.000\n",
      "    121  RFB0H00 Pipe                18.175   0.000\n",
      "    122  D0H00A  Drift               18.231   0.056\n",
      "    123  PC0H00  Ecollimator         18.291   0.060  COLL:HTR:103\n",
      "    124  D0H00B  Drift               18.583   0.292\n",
      "    125  Q0H01#1 Quadrupole          18.645   0.062\n",
      "    126  BPM0H01 Monitor             18.645   0.000  BPMS:HTR:120\n",
      "    127  Q0H01#2 Quadrupole          18.707   0.062\n",
      "    128  D0H01A  Drift               18.921   0.214\n",
      "    129  YC0H01  Vkicker             18.921   0.000  YCOR:HTR:129\n",
      "    130  D0H01B  Drift               19.135   0.214\n",
      "    131  Q0H02   Quadrupole          19.260   0.124  QUAD:HTR:140\n",
      "    132  D0H02A  Drift               19.464   0.205\n",
      "    133  XC0H01  Hkicker             19.464   0.000  XCOR:HTR:148\n",
      "    134  D0H02B  Drift               19.908   0.443\n",
      "    135  DP0H01  Marker              19.908   0.000\n",
      "    136  D0H02C  Drift               20.549   0.641\n",
      "    137  DP0H02  Marker              20.549   0.000\n",
      "    138  D0H02D  Drift               21.190   0.641\n",
      "    139  DP0H03  Marker              21.190   0.000\n",
      "    140  D0H02E  Drift               23.234   2.044\n",
      "    141  XC0H03  Hkicker             23.234   0.000  XCOR:HTR:288\n",
      "    142  D0H02F  Drift               23.439   0.205\n",
      "    143  Q0H03   Quadrupole          23.563   0.124  QUAD:HTR:300\n",
      "    144  D0H03A  Drift               23.768   0.205\n",
      "    145  YC0H03  Vkicker             23.768   0.000  YCOR:HTR:309\n",
      "    146  D0H03B  Drift               23.973   0.205\n",
      "    147  Q0H04#1 Quadrupole          24.035   0.062\n",
      "    148  BPM0H04 Monitor             24.035   0.000  BPMS:HTR:320\n",
      "    149  Q0H04#2 Quadrupole          24.097   0.062\n",
      "    150  D0H04A  Drift               24.312   0.215\n",
      "    151  RFB0H04 Pipe                24.312   0.000\n",
      "    152  D0H04B  Drift               24.345   0.033\n",
      "    153  OTR0H04 Monitor             24.345   0.000  OTRS:HTR:330\n",
      "# Index  name    key                      s       l  alias\n",
      "# Values shown are for the Exit End of each Element:\n",
      "-------------------------\n",
      "Tao> \n"
     ]
    }
   ],
   "source": [
    "%%tao\n",
    "sho lat -at alias ENDL0B:OTR0H04"
   ]
  },
  {
   "cell_type": "markdown",
   "id": "f7c79be7-a9b3-4a6f-9005-96951302e962",
   "metadata": {},
   "source": [
    "# Continuous loop"
   ]
  },
  {
   "cell_type": "code",
   "execution_count": 23,
   "id": "d311dbad-5986-42fa-8bb7-d3e25410b6f0",
   "metadata": {},
   "outputs": [
    {
     "name": "stdout",
     "output_type": "stream",
     "text": [
      "-------------------------\n",
      "Tao> use dat orbit.x\n",
      "  orbit.x[1:23]                                  Using: 1\n",
      "  orbit.y[1:23]                                  Using:\n",
      "  orbit.charge[1:23]                             Using:\n",
      "-------------------------\n",
      "Tao> use dat orbit.y\n",
      "  orbit.x[1:23]                                  Using: 1\n",
      "  orbit.y[1:23]                                  Using: 1\n",
      "  orbit.charge[1:23]                             Using:\n",
      "-------------------------\n",
      "Tao> \n"
     ]
    }
   ],
   "source": [
    "%%tao\n",
    "use dat orbit.x\n",
    "use dat orbit.y"
   ]
  },
  {
   "cell_type": "code",
   "execution_count": 24,
   "id": "fcd4f747-08ec-4424-99eb-d61c6ac534f8",
   "metadata": {},
   "outputs": [],
   "source": [
    "def run1():\n",
    "    #sleep(.001)\n",
    "    t1 = time()\n",
    "    pvdata = get_pvdata()\n",
    "    cmds = tao_commands(pvdata)\n",
    "    tao.cmd('set global plot_on = F;set global lattice_calc_on = F')\n",
    "    tao.cmds(cmds); # Apply\n",
    "\n",
    "    tao.cmd('set global lattice_calc_on = T')\n",
    "    tao.cmd('set global plot_on = T')\n",
    "    #toggle_beam()\n",
    "    \n",
    "    dt = time()-t1\n",
    "    #print(dt)    \n"
   ]
  },
  {
   "cell_type": "code",
   "execution_count": 25,
   "id": "e6dc4b75-22ea-4e30-bdca-584655072b34",
   "metadata": {},
   "outputs": [
    {
     "name": "stdout",
     "output_type": "stream",
     "text": [
      "CPU times: user 17.1 ms, sys: 1.94 ms, total: 19.1 ms\n",
      "Wall time: 27.1 ms\n"
     ]
    }
   ],
   "source": [
    "%%time\n",
    "run1()"
   ]
  },
  {
   "cell_type": "code",
   "execution_count": 26,
   "id": "80ccb6e3-9fd9-45ef-b0da-4e290a1cb1f1",
   "metadata": {},
   "outputs": [
    {
     "data": {
      "text/plain": [
       "(array([[-5.04075351,  4.00431172],\n",
       "        [-0.90991524,  0.52444228]]),\n",
       " array([[ 4.23518477,  5.6118353 ],\n",
       "        [-0.24974114, -0.09480251]]))"
      ]
     },
     "execution_count": 26,
     "metadata": {},
     "output_type": "execute_result"
    },
    {
     "name": "stderr",
     "output_type": "stream",
     "text": [
      "CA.Client.Exception...............................................\n",
      "    Warning: \"Virtual circuit unresponsive\"\n",
      "    Context: \"localhost:24669\"\n",
      "    Source File: ../tcpiiu.cpp line 926\n",
      "    Current Time: Sat Sep 24 2022 09:43:00.359625000\n",
      "..................................................................\n"
     ]
    }
   ],
   "source": [
    "# mat2 x, y for PyEmittance\n",
    "def get_mats():\n",
    "    mat6 = tao.matrix('Q0H01#2', 'OTR0H04')['mat6']\n",
    "    mat2x = mat6[0:2, 0:2]\n",
    "    mat2y = mat6[2:4, 2:4]\n",
    "    return mat2x, mat2y\n",
    "\n",
    "\n",
    "get_mats()"
   ]
  },
  {
   "cell_type": "code",
   "execution_count": null,
   "id": "7c09d880-3f92-4e21-ba30-2ee41ce6e3f1",
   "metadata": {},
   "outputs": [],
   "source": [
    "# Run forever\n",
    "#while True:\n",
    "#    run1()"
   ]
  }
 ],
 "metadata": {
  "kernelspec": {
   "display_name": "Python 3 (ipykernel)",
   "language": "python",
   "name": "python3"
  },
  "language_info": {
   "codemirror_mode": {
    "name": "ipython",
    "version": 3
   },
   "file_extension": ".py",
   "mimetype": "text/x-python",
   "name": "python",
   "nbconvert_exporter": "python",
   "pygments_lexer": "ipython3",
   "version": "3.9.13"
  }
 },
 "nbformat": 4,
 "nbformat_minor": 5
}
